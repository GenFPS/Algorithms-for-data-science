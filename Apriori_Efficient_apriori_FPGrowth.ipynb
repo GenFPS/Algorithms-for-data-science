{
  "nbformat": 4,
  "nbformat_minor": 0,
  "metadata": {
    "colab": {
      "name": "Apriori/Efficient_apriori/FPGrowth.ipynb",
      "provenance": [],
      "toc_visible": true,
      "mount_file_id": "1f5WTLSMrfWTNquLE-HfnDBMQaYLmqxSi",
      "authorship_tag": "ABX9TyPCABWVeg3Al+ZYLOqr6H1L",
      "include_colab_link": true
    },
    "kernelspec": {
      "name": "python3",
      "display_name": "Python 3"
    },
    "language_info": {
      "name": "python"
    }
  },
  "cells": [
    {
      "cell_type": "markdown",
      "metadata": {
        "id": "view-in-github",
        "colab_type": "text"
      },
      "source": [
        "<a href=\"https://colab.research.google.com/github/GenFPS/Algorithms-for-data-science/blob/main/Apriori_Efficient_apriori_FPGrowth.ipynb\" target=\"_parent\"><img src=\"https://colab.research.google.com/assets/colab-badge.svg\" alt=\"Open In Colab\"/></a>"
      ]
    },
    {
      "cell_type": "markdown",
      "metadata": {
        "id": "pOEJOEniKpFm"
      },
      "source": [
        "#  Программная реализация apriori-python"
      ]
    },
    {
      "cell_type": "code",
      "metadata": {
        "id": "2m1AY8aYHN8j"
      },
      "source": [
        "from apriori_python import apriori\n",
        "\n",
        "transactions = [['Футболка', 'Шорты', 'Кроссовки'],\n",
        "                ['Футболка', 'Шорты', 'Штаны'],\n",
        "                ['Кроссовки', 'Шорты', 'Майка']]\n",
        "freqItemSet, rules = apriori(transactions, minSup=0.6, minConf=0.6)\n",
        "\n",
        "print(rules)"
      ],
      "execution_count": null,
      "outputs": []
    },
    {
      "cell_type": "code",
      "metadata": {
        "id": "DNHbd8jUnjBi"
      },
      "source": [
        "from apriori_python import apriori\n",
        "from datetime import datetime\n",
        "import time\n",
        "import csv\n",
        "\n",
        "class CSVHandler:\n",
        "    def __init__(self, transactions):\n",
        "        self.transactions = transactions\n",
        "\n",
        "    def read(self, filename):\n",
        "        with open(filename) as file:\n",
        "            reader = csv.reader(file)\n",
        "            for row in reader:\n",
        "              self.transactions.append(row)\n",
        "        return self.transactions\n",
        "\n",
        "transactions = list()\n",
        "dataset = CSVHandler(transactions)\n",
        "\n",
        "transactions = dataset.read('my_dataset — копия.csv') #датасет из 30 транзакций\n",
        "\n",
        "start_time = datetime.now()\n",
        "\n",
        "freqItemSet, rules = apriori(transactions, minSup=8/30, minConf=0.4)\n",
        "\n",
        "time.sleep(5)\n",
        "\n",
        "print(datetime.now()-start_time)\n",
        "\n",
        "for rule in range(len(rules)):\n",
        "    print(rule, rules[rule])\n"
      ],
      "execution_count": null,
      "outputs": []
    },
    {
      "cell_type": "code",
      "metadata": {
        "id": "e_hfMjPUdj-d"
      },
      "source": [
        "from apriori_python import apriori\n",
        "from datetime import datetime\n",
        "import time\n",
        "import csv\n",
        "\n",
        "class CSVHandler:\n",
        "    def __init__(self, transactions):\n",
        "        self.transactions = transactions\n",
        "\n",
        "    def read(self, filename):\n",
        "        with open(filename) as file:\n",
        "            reader = csv.reader(file)\n",
        "            for row in reader:\n",
        "              self.transactions.append(row)\n",
        "        return self.transactions\n",
        "\n",
        "transactions = list()\n",
        "dataset = CSVHandler(transactions)\n",
        "\n",
        "transactions = dataset.read('BigDataSet.csv') #Датасет большого кол-ва транзакций\n",
        "\n",
        "start_time = datetime.now()\n",
        "\n",
        "freqItemSet, rules = apriori(transactions, minSup=0.01, minConf=0.01)\n",
        "\n",
        "time.sleep(5)\n",
        "\n",
        "print(datetime.now()-start_time)\n",
        "\n",
        "for rule in range(len(rules)):\n",
        "    print(rule, rules[rule])"
      ],
      "execution_count": null,
      "outputs": []
    },
    {
      "cell_type": "markdown",
      "metadata": {
        "id": "AGYV3ibBK25D"
      },
      "source": [
        "#  Программная реализация алгоритма efficient-apriori\n"
      ]
    },
    {
      "cell_type": "code",
      "metadata": {
        "id": "NRnVf0ksK_dd"
      },
      "source": [
        "from efficient_apriori import apriori\n",
        "\n",
        "transactions = [['Футболка', 'Шорты', 'Кроссовки'],\n",
        "                ['Футболка', 'Шорты', 'Штаны'],\n",
        "                ['Кроссовки', 'Шорты', 'Майка']]\n",
        "freqItemSet, rules = apriori(transactions, min_support=0.6, min_confidence=0.6)\n",
        "\n",
        "print(rules)"
      ],
      "execution_count": null,
      "outputs": []
    },
    {
      "cell_type": "code",
      "metadata": {
        "id": "GMRpyAuiSnSO"
      },
      "source": [
        "rules_rhs = filter(lambda rule: len(rule.lhs) == 1 and len(rule.rhs) == 1, rules)\n",
        "for rule in sorted(rules_rhs, key=lambda rule: rule.confidence):\n",
        "  print(rule)"
      ],
      "execution_count": null,
      "outputs": []
    },
    {
      "cell_type": "code",
      "metadata": {
        "id": "Nj5iwhHJTvfX"
      },
      "source": [
        "from efficient_apriori import apriori\n",
        "\n",
        "\n",
        "transactions = [['Футболка', 'Шорты', 'Кроссовки'],\n",
        "                ['Футболка', 'Шорты', 'Штаны'],\n",
        "                ['Кроссовки', 'Шорты', 'Майка']]\n",
        "freqItemSet, rules = apriori(transactions, output_transaction_ids=True)\n",
        "\n",
        "print(freqItemSet)"
      ],
      "execution_count": null,
      "outputs": []
    },
    {
      "cell_type": "code",
      "metadata": {
        "id": "ZnY95Be_Z2Dk"
      },
      "source": [
        "from efficient_apriori import apriori\n",
        "from datetime import datetime\n",
        "import time\n",
        "import csv\n",
        "\n",
        "class CSVHandler:\n",
        "    def __init__(self, transactions):\n",
        "        self.transactions = transactions\n",
        "\n",
        "    def read(self, filename):\n",
        "        with open(filename) as file:\n",
        "            reader = csv.reader(file)\n",
        "            for row in reader:\n",
        "              self.transactions.append(row)\n",
        "        return self.transactions\n",
        "\n",
        "\n",
        "transactions = list()\n",
        "dataset = CSVHandler(transactions)\n",
        "\n",
        "transactions = dataset.read('my_dataset — копия.csv') #датасет из 30 транзакций\n",
        "\n",
        "start_time = datetime.now()\n",
        "\n",
        "freqItemSet, rules = apriori(transactions, min_support=8/30, min_confidence=0.4)\n",
        "\n",
        "time.sleep(5)\n",
        "\n",
        "print(datetime.now()-start_time)\n",
        "\n",
        "for rule in range(len(rules)):\n",
        "    print(rule, rules[rule])"
      ],
      "execution_count": null,
      "outputs": []
    },
    {
      "cell_type": "code",
      "metadata": {
        "id": "1HCgcZBVc-N0"
      },
      "source": [
        "from efficient_apriori import apriori\n",
        "from datetime import datetime\n",
        "import time\n",
        "import csv\n",
        "\n",
        "class CSVHandler:\n",
        "    def __init__(self, transactions):\n",
        "        self.transactions = transactions\n",
        "\n",
        "    def read(self, filename):\n",
        "        with open(filename) as file:\n",
        "            reader = csv.reader(file)\n",
        "            for row in reader:\n",
        "              self.transactions.append(row)\n",
        "        return self.transactions\n",
        "\n",
        "transactions = list()\n",
        "dataset = CSVHandler(transactions)\n",
        "\n",
        "transactions = dataset.read('BigDataSet.csv') #Датасет из большого кол-ва транзакций\n",
        "\n",
        "start_time = datetime.now()\n",
        "\n",
        "freqItemSet, rules = apriori(transactions, min_support=0.001, min_confidence=0.005)\n",
        "\n",
        "time.sleep(5)\n",
        "\n",
        "print(datetime.now()-start_time)\n",
        "\n",
        "for rule in range(len(rules)):\n",
        "    print(rule, rules[rule])"
      ],
      "execution_count": null,
      "outputs": []
    },
    {
      "cell_type": "markdown",
      "metadata": {
        "id": "PRc1_jFQX47A"
      },
      "source": [
        "# Программная реализация fpgrowth"
      ]
    },
    {
      "cell_type": "code",
      "metadata": {
        "id": "i8I0BhqZZIoW"
      },
      "source": [
        "from fpgrowth_py import fpgrowth\n",
        "from datetime import datetime\n",
        "import time\n",
        "import csv\n",
        "\n",
        "class CSVHandler:\n",
        "    def __init__(self, transactions):\n",
        "        self.transactions = transactions\n",
        "\n",
        "    def read(self, filename):\n",
        "        with open(filename) as file:\n",
        "            reader = csv.reader(file)\n",
        "            for row in reader:\n",
        "              self.transactions.append(row)\n",
        "        return self.transactions\n",
        "\n",
        "transactions = list()\n",
        "dataset = CSVHandler(transactions)\n",
        "\n",
        "transactions = dataset.read('my_dataset — копия.csv') #датасет из 30 транзакций\n",
        "\n",
        "start_time = datetime.now()\n",
        "\n",
        "freqItemSet, rules = fpgrowth(transactions, minSupRatio=0.001, minConf=0.005)\n",
        "\n",
        "time.sleep(5)\n",
        "\n",
        "print(datetime.now()-start_time)\n",
        "\n",
        "for rule in range(len(rules)):\n",
        "    print(rule, rules[rule])"
      ],
      "execution_count": null,
      "outputs": []
    },
    {
      "cell_type": "code",
      "metadata": {
        "id": "bPyRLWlPbaBo"
      },
      "source": [
        "from fpgrowth_py import fpgrowth\n",
        "from datetime import datetime\n",
        "import time\n",
        "import csv\n",
        "\n",
        "class CSVHandler:\n",
        "    def __init__(self, transactions):\n",
        "        self.transactions = transactions\n",
        "\n",
        "    def read(self, filename):\n",
        "        with open(filename) as file:\n",
        "            reader = csv.reader(file)\n",
        "            for row in reader:\n",
        "              self.transactions.append(row)\n",
        "        return self.transactions\n",
        "\n",
        "transactions = list()\n",
        "dataset = CSVHandler(transactions)\n",
        "\n",
        "transactions = dataset.read('BigDataSet.csv') #Датасет большого из кол-ва транзакций\n",
        "\n",
        "start_time = datetime.now()\n",
        "\n",
        "freqItemSet, rules = fpgrowth(transactions, minSupRatio=0.001, minConf=0.001)\n",
        "\n",
        "time.sleep(5)\n",
        "\n",
        "print(datetime.now()-start_time)\n",
        "\n",
        "for rule in range(len(rules)):\n",
        "    print(rule, rules[rule])"
      ],
      "execution_count": null,
      "outputs": []
    },
    {
      "cell_type": "markdown",
      "metadata": {
        "id": "BuaogzcMWP5i"
      },
      "source": [
        "# Сравнение скорости выполнения алгоритмов"
      ]
    },
    {
      "cell_type": "code",
      "metadata": {
        "id": "ss8Ifh8wQ-w_"
      },
      "source": [
        "# Script Execution Time (BigDataSet):  minSup=0.01   \n",
        "#                                      minConf=0.01    \n",
        "#\n",
        "#             - Apriori           :    0:00:18.823317 \n",
        "#             - Efficient Apriori :    0:00:05.067021  \n",
        "#             - Fpgrowth          :    0:00:12.062842\n",
        "\n",
        "# Script Execution Time (my_dataset):     minSup=8/30 (0.27)   \n",
        "#                                      minConf=0.4   \n",
        "#\n",
        "#             - Apriori           :    0:00:05.006334\n",
        "#             - Efficient Apriori :    0:00:05.005697 \n",
        "#             - Fpgrowth          :    0:00:05.005992 "
      ],
      "execution_count": null,
      "outputs": []
    },
    {
      "cell_type": "code",
      "metadata": {
        "colab": {
          "base_uri": "https://localhost:8080/",
          "height": 295
        },
        "id": "bBAxWczNcWQk",
        "outputId": "d42daa65-1326-48ae-d7e9-9a7165a85789"
      },
      "source": [
        "import numpy as np\n",
        "import matplotlib.pyplot as plt\n",
        "\n",
        "objects = ('Apriori', 'eApriori', 'FPGrowth')\n",
        "np.arange(len(objects))\n",
        "performance = [12.06284, 5.067021, 22.959377 ]\n",
        "y_pos = np.arange(len(objects))\n",
        "plt.bar(y_pos, performance, align='center', alpha=0.8, color='red')\n",
        "plt.xticks(y_pos, objects)\n",
        "plt.xlabel('Algorithms')\n",
        "plt.ylabel('Seconds')\n",
        "plt.title('Execution time (minSup = 0.001 and minConf = 0.001)')\n",
        "\n",
        "\n",
        "plt.show()\n",
        "\n"
      ],
      "execution_count": null,
      "outputs": [
        {
          "output_type": "display_data",
          "data": {
            "image/png": "[encoded data removed]",
            "text/plain": [
              "<Figure size 432x288 with 1 Axes>"
            ]
          },
          "metadata": {
            "needs_background": "light"
          }
        }
      ]
    },
    {
      "cell_type": "code",
      "metadata": {
        "colab": {
          "base_uri": "https://localhost:8080/",
          "height": 295
        },
        "id": "6sZQ8OTt0S_Z",
        "outputId": "17d803cc-9443-4724-fc73-5b21ce8a339b"
      },
      "source": [
        "import numpy as np\n",
        "import matplotlib.pyplot as plt\n",
        "\n",
        "objects = ('Apriori', 'eApriori', 'FPGrowth')\n",
        "np.arange(len(objects))\n",
        "performance = [6334, 5697, 5992]       #5.006334, 5.005697, 5.005992 \n",
        "y_pos = np.arange(len(objects))\n",
        "plt.bar(y_pos, performance, align='center', alpha=0.8, color='purple', width= 0.1)\n",
        "plt.xticks(y_pos, objects)\n",
        "plt.xlabel('Algorithms')\n",
        "plt.ylabel('milliseconds diference')\n",
        "plt.title('Execution time (minSup = 8/30 and minConf = 0.4)')\n",
        "\n",
        "plt.show()"
      ],
      "execution_count": null,
      "outputs": [
        {
          "output_type": "display_data",
          "data": {
            "image/png": "[encoded data removed]",
            "text/plain": [
              "<Figure size 432x288 with 1 Axes>"
            ]
          },
          "metadata": {
            "needs_background": "light"
          }
        }
      ]
    },
    {
      "cell_type": "markdown",
      "metadata": {
        "id": "oHvDP_FG4VYc"
      },
      "source": [
        "# Визуализация данных"
      ]
    },
    {
      "cell_type": "code",
      "metadata": {
        "colab": {
          "base_uri": "https://localhost:8080/",
          "height": 1000
        },
        "id": "Zu69wg0dsB1I",
        "outputId": "915c1404-65ad-4e09-9bd2-d67eab6d52bf"
      },
      "source": [
        "from efficient_apriori import apriori as eApriori\n",
        "from PyARMViz import Rule\n",
        "import csv\n",
        "\n",
        "class CSVHandler:\n",
        "    def __init__(self, transactions):\n",
        "        self.transactions = transactions\n",
        "\n",
        "    def read(self, filename):\n",
        "        with open(filename) as file:\n",
        "            reader = csv.reader(file)\n",
        "            for row in reader:\n",
        "                self.transactions.append(row)\n",
        "            return self.transactions\n",
        "        \n",
        "\n",
        "\n",
        "transactions = list()\n",
        "dataset = CSVHandler(transactions)\n",
        "transactions = dataset.read('my_dataset — копия.csv')\n",
        "\n",
        "freqItemSet, rules = apriori(transactions, min_support=8/30, min_confidence=0.4)\n",
        "\n",
        "\n",
        "PyARMViz.metadata_scatter_plot(rules)\n",
        " "
      ],
      "execution_count": null,
      "outputs": [
        {
          "output_type": "display_data",
          "data": {
            "text/html": [
              "<html>\n",
              "<head><meta charset=\"utf-8\" /></head>\n",
              "<body>\n",
              "    <div>\n",
              "            <script src=\"https://cdnjs.cloudflare.com/ajax/libs/mathjax/2.7.5/MathJax.js?config=TeX-AMS-MML_SVG\"></script><script type=\"text/javascript\">if (window.MathJax) {MathJax.Hub.Config({SVG: {font: \"STIX-Web\"}});}</script>\n",
              "                <script type=\"text/javascript\">window.PlotlyConfig = {MathJaxConfig: 'local'};</script>\n",
              "        <script src=\"https://cdn.plot.ly/plotly-latest.min.js\"></script>    \n",
              "            <div id=\"6826b1b3-b34c-4722-a1c4-120eea17ed01\" class=\"plotly-graph-div\" style=\"height:525px; width:100%;\"></div>\n",
              "            <script type=\"text/javascript\">\n",
              "                \n",
              "                    window.PLOTLYENV=window.PLOTLYENV || {};\n",
              "                    \n",
              "                if (document.getElementById(\"6826b1b3-b34c-4722-a1c4-120eea17ed01\")) {\n",
              "                    Plotly.newPlot(\n",
              "                        '6826b1b3-b34c-4722-a1c4-120eea17ed01',\n",
              "                        [{\"marker\": {\"color\": [1.021671826625387, 1.021671826625387, 1.0588235294117647, 1.0588235294117647, 1.1578947368421053, 1.1578947368421053], \"colorbar\": {\"title\": {\"text\": \"Lift\"}}, \"colorscale\": [[0.0, \"rgb(243, 224, 247)\"], [0.16666666666666666, \"rgb(228, 199, 241)\"], [0.3333333333333333, \"rgb(209, 175, 232)\"], [0.5, \"rgb(185, 152, 221)\"], [0.6666666666666666, \"rgb(159, 130, 206)\"], [0.8333333333333334, \"rgb(130, 109, 186)\"], [1.0, \"rgb(99, 88, 159)\"]]}, \"mode\": \"markers\", \"text\": [\"('\\u0424\\u0443\\u0442\\u0431\\u043e\\u043b\\u043a\\u0430',) => ('\\u041a\\u0440\\u043e\\u0441\\u0441\\u043e\\u0432\\u043a\\u0438',), Lift: 1.021671826625387\", \"('\\u041a\\u0440\\u043e\\u0441\\u0441\\u043e\\u0432\\u043a\\u0438',) => ('\\u0424\\u0443\\u0442\\u0431\\u043e\\u043b\\u043a\\u0430',), Lift: 1.021671826625387\", \"('\\u0428\\u043e\\u0440\\u0442\\u044b',) => ('\\u041a\\u0440\\u043e\\u0441\\u0441\\u043e\\u0432\\u043a\\u0438',), Lift: 1.0588235294117647\", \"('\\u041a\\u0440\\u043e\\u0441\\u0441\\u043e\\u0432\\u043a\\u0438',) => ('\\u0428\\u043e\\u0440\\u0442\\u044b',), Lift: 1.0588235294117647\", \"('\\u0428\\u043e\\u0440\\u0442\\u044b',) => ('\\u0424\\u0443\\u0442\\u0431\\u043e\\u043b\\u043a\\u0430',), Lift: 1.1578947368421053\", \"('\\u0424\\u0443\\u0442\\u0431\\u043e\\u043b\\u043a\\u0430',) => ('\\u0428\\u043e\\u0440\\u0442\\u044b',), Lift: 1.1578947368421053\"], \"type\": \"scatter\", \"x\": [0.36666666666666664, 0.36666666666666664, 0.3, 0.3, 0.36666666666666664, 0.36666666666666664], \"y\": [0.5789473684210527, 0.6470588235294118, 0.6, 0.5294117647058824, 0.7333333333333333, 0.5789473684210527]}],\n",
              "                        {\"template\": {\"data\": {\"bar\": [{\"error_x\": {\"color\": \"#2a3f5f\"}, \"error_y\": {\"color\": \"#2a3f5f\"}, \"marker\": {\"line\": {\"color\": \"#E5ECF6\", \"width\": 0.5}}, \"type\": \"bar\"}], \"barpolar\": [{\"marker\": {\"line\": {\"color\": \"#E5ECF6\", \"width\": 0.5}}, \"type\": \"barpolar\"}], \"carpet\": [{\"aaxis\": {\"endlinecolor\": \"#2a3f5f\", \"gridcolor\": \"white\", \"linecolor\": \"white\", \"minorgridcolor\": \"white\", \"startlinecolor\": \"#2a3f5f\"}, \"baxis\": {\"endlinecolor\": \"#2a3f5f\", \"gridcolor\": \"white\", \"linecolor\": \"white\", \"minorgridcolor\": \"white\", \"startlinecolor\": \"#2a3f5f\"}, \"type\": \"carpet\"}], \"choropleth\": [{\"colorbar\": {\"outlinewidth\": 0, \"ticks\": \"\"}, \"type\": \"choropleth\"}], \"contour\": [{\"colorbar\": {\"outlinewidth\": 0, \"ticks\": \"\"}, \"colorscale\": [[0.0, \"#0d0887\"], [0.1111111111111111, \"#46039f\"], [0.2222222222222222, \"#7201a8\"], [0.3333333333333333, \"#9c179e\"], [0.4444444444444444, \"#bd3786\"], [0.5555555555555556, \"#d8576b\"], [0.6666666666666666, \"#ed7953\"], [0.7777777777777778, \"#fb9f3a\"], [0.8888888888888888, \"#fdca26\"], [1.0, \"#f0f921\"]], \"type\": \"contour\"}], \"contourcarpet\": [{\"colorbar\": {\"outlinewidth\": 0, \"ticks\": \"\"}, \"type\": \"contourcarpet\"}], \"heatmap\": [{\"colorbar\": {\"outlinewidth\": 0, \"ticks\": \"\"}, \"colorscale\": [[0.0, \"#0d0887\"], [0.1111111111111111, \"#46039f\"], [0.2222222222222222, \"#7201a8\"], [0.3333333333333333, \"#9c179e\"], [0.4444444444444444, \"#bd3786\"], [0.5555555555555556, \"#d8576b\"], [0.6666666666666666, \"#ed7953\"], [0.7777777777777778, \"#fb9f3a\"], [0.8888888888888888, \"#fdca26\"], [1.0, \"#f0f921\"]], \"type\": \"heatmap\"}], \"heatmapgl\": [{\"colorbar\": {\"outlinewidth\": 0, \"ticks\": \"\"}, \"colorscale\": [[0.0, \"#0d0887\"], [0.1111111111111111, \"#46039f\"], [0.2222222222222222, \"#7201a8\"], [0.3333333333333333, \"#9c179e\"], [0.4444444444444444, \"#bd3786\"], [0.5555555555555556, \"#d8576b\"], [0.6666666666666666, \"#ed7953\"], [0.7777777777777778, \"#fb9f3a\"], [0.8888888888888888, \"#fdca26\"], [1.0, \"#f0f921\"]], \"type\": \"heatmapgl\"}], \"histogram\": [{\"marker\": {\"colorbar\": {\"outlinewidth\": 0, \"ticks\": \"\"}}, \"type\": \"histogram\"}], \"histogram2d\": [{\"colorbar\": {\"outlinewidth\": 0, \"ticks\": \"\"}, \"colorscale\": [[0.0, \"#0d0887\"], [0.1111111111111111, \"#46039f\"], [0.2222222222222222, \"#7201a8\"], [0.3333333333333333, \"#9c179e\"], [0.4444444444444444, \"#bd3786\"], [0.5555555555555556, \"#d8576b\"], [0.6666666666666666, \"#ed7953\"], [0.7777777777777778, \"#fb9f3a\"], [0.8888888888888888, \"#fdca26\"], [1.0, \"#f0f921\"]], \"type\": \"histogram2d\"}], \"histogram2dcontour\": [{\"colorbar\": {\"outlinewidth\": 0, \"ticks\": \"\"}, \"colorscale\": [[0.0, \"#0d0887\"], [0.1111111111111111, \"#46039f\"], [0.2222222222222222, \"#7201a8\"], [0.3333333333333333, \"#9c179e\"], [0.4444444444444444, \"#bd3786\"], [0.5555555555555556, \"#d8576b\"], [0.6666666666666666, \"#ed7953\"], [0.7777777777777778, \"#fb9f3a\"], [0.8888888888888888, \"#fdca26\"], [1.0, \"#f0f921\"]], \"type\": \"histogram2dcontour\"}], \"mesh3d\": [{\"colorbar\": {\"outlinewidth\": 0, \"ticks\": \"\"}, \"type\": \"mesh3d\"}], \"parcoords\": [{\"line\": {\"colorbar\": {\"outlinewidth\": 0, \"ticks\": \"\"}}, \"type\": \"parcoords\"}], \"pie\": [{\"automargin\": true, \"type\": \"pie\"}], \"scatter\": [{\"marker\": {\"colorbar\": {\"outlinewidth\": 0, \"ticks\": \"\"}}, \"type\": \"scatter\"}], \"scatter3d\": [{\"line\": {\"colorbar\": {\"outlinewidth\": 0, \"ticks\": \"\"}}, \"marker\": {\"colorbar\": {\"outlinewidth\": 0, \"ticks\": \"\"}}, \"type\": \"scatter3d\"}], \"scattercarpet\": [{\"marker\": {\"colorbar\": {\"outlinewidth\": 0, \"ticks\": \"\"}}, \"type\": \"scattercarpet\"}], \"scattergeo\": [{\"marker\": {\"colorbar\": {\"outlinewidth\": 0, \"ticks\": \"\"}}, \"type\": \"scattergeo\"}], \"scattergl\": [{\"marker\": {\"colorbar\": {\"outlinewidth\": 0, \"ticks\": \"\"}}, \"type\": \"scattergl\"}], \"scattermapbox\": [{\"marker\": {\"colorbar\": {\"outlinewidth\": 0, \"ticks\": \"\"}}, \"type\": \"scattermapbox\"}], \"scatterpolar\": [{\"marker\": {\"colorbar\": {\"outlinewidth\": 0, \"ticks\": \"\"}}, \"type\": \"scatterpolar\"}], \"scatterpolargl\": [{\"marker\": {\"colorbar\": {\"outlinewidth\": 0, \"ticks\": \"\"}}, \"type\": \"scatterpolargl\"}], \"scatterternary\": [{\"marker\": {\"colorbar\": {\"outlinewidth\": 0, \"ticks\": \"\"}}, \"type\": \"scatterternary\"}], \"surface\": [{\"colorbar\": {\"outlinewidth\": 0, \"ticks\": \"\"}, \"colorscale\": [[0.0, \"#0d0887\"], [0.1111111111111111, \"#46039f\"], [0.2222222222222222, \"#7201a8\"], [0.3333333333333333, \"#9c179e\"], [0.4444444444444444, \"#bd3786\"], [0.5555555555555556, \"#d8576b\"], [0.6666666666666666, \"#ed7953\"], [0.7777777777777778, \"#fb9f3a\"], [0.8888888888888888, \"#fdca26\"], [1.0, \"#f0f921\"]], \"type\": \"surface\"}], \"table\": [{\"cells\": {\"fill\": {\"color\": \"#EBF0F8\"}, \"line\": {\"color\": \"white\"}}, \"header\": {\"fill\": {\"color\": \"#C8D4E3\"}, \"line\": {\"color\": \"white\"}}, \"type\": \"table\"}]}, \"layout\": {\"annotationdefaults\": {\"arrowcolor\": \"#2a3f5f\", \"arrowhead\": 0, \"arrowwidth\": 1}, \"coloraxis\": {\"colorbar\": {\"outlinewidth\": 0, \"ticks\": \"\"}}, \"colorscale\": {\"diverging\": [[0, \"#8e0152\"], [0.1, \"#c51b7d\"], [0.2, \"#de77ae\"], [0.3, \"#f1b6da\"], [0.4, \"#fde0ef\"], [0.5, \"#f7f7f7\"], [0.6, \"#e6f5d0\"], [0.7, \"#b8e186\"], [0.8, \"#7fbc41\"], [0.9, \"#4d9221\"], [1, \"#276419\"]], \"sequential\": [[0.0, \"#0d0887\"], [0.1111111111111111, \"#46039f\"], [0.2222222222222222, \"#7201a8\"], [0.3333333333333333, \"#9c179e\"], [0.4444444444444444, \"#bd3786\"], [0.5555555555555556, \"#d8576b\"], [0.6666666666666666, \"#ed7953\"], [0.7777777777777778, \"#fb9f3a\"], [0.8888888888888888, \"#fdca26\"], [1.0, \"#f0f921\"]], \"sequentialminus\": [[0.0, \"#0d0887\"], [0.1111111111111111, \"#46039f\"], [0.2222222222222222, \"#7201a8\"], [0.3333333333333333, \"#9c179e\"], [0.4444444444444444, \"#bd3786\"], [0.5555555555555556, \"#d8576b\"], [0.6666666666666666, \"#ed7953\"], [0.7777777777777778, \"#fb9f3a\"], [0.8888888888888888, \"#fdca26\"], [1.0, \"#f0f921\"]]}, \"colorway\": [\"#636efa\", \"#EF553B\", \"#00cc96\", \"#ab63fa\", \"#FFA15A\", \"#19d3f3\", \"#FF6692\", \"#B6E880\", \"#FF97FF\", \"#FECB52\"], \"font\": {\"color\": \"#2a3f5f\"}, \"geo\": {\"bgcolor\": \"white\", \"lakecolor\": \"white\", \"landcolor\": \"#E5ECF6\", \"showlakes\": true, \"showland\": true, \"subunitcolor\": \"white\"}, \"hoverlabel\": {\"align\": \"left\"}, \"hovermode\": \"closest\", \"mapbox\": {\"style\": \"light\"}, \"paper_bgcolor\": \"white\", \"plot_bgcolor\": \"#E5ECF6\", \"polar\": {\"angularaxis\": {\"gridcolor\": \"white\", \"linecolor\": \"white\", \"ticks\": \"\"}, \"bgcolor\": \"#E5ECF6\", \"radialaxis\": {\"gridcolor\": \"white\", \"linecolor\": \"white\", \"ticks\": \"\"}}, \"scene\": {\"xaxis\": {\"backgroundcolor\": \"#E5ECF6\", \"gridcolor\": \"white\", \"gridwidth\": 2, \"linecolor\": \"white\", \"showbackground\": true, \"ticks\": \"\", \"zerolinecolor\": \"white\"}, \"yaxis\": {\"backgroundcolor\": \"#E5ECF6\", \"gridcolor\": \"white\", \"gridwidth\": 2, \"linecolor\": \"white\", \"showbackground\": true, \"ticks\": \"\", \"zerolinecolor\": \"white\"}, \"zaxis\": {\"backgroundcolor\": \"#E5ECF6\", \"gridcolor\": \"white\", \"gridwidth\": 2, \"linecolor\": \"white\", \"showbackground\": true, \"ticks\": \"\", \"zerolinecolor\": \"white\"}}, \"shapedefaults\": {\"line\": {\"color\": \"#2a3f5f\"}}, \"ternary\": {\"aaxis\": {\"gridcolor\": \"white\", \"linecolor\": \"white\", \"ticks\": \"\"}, \"baxis\": {\"gridcolor\": \"white\", \"linecolor\": \"white\", \"ticks\": \"\"}, \"bgcolor\": \"#E5ECF6\", \"caxis\": {\"gridcolor\": \"white\", \"linecolor\": \"white\", \"ticks\": \"\"}}, \"title\": {\"x\": 0.05}, \"xaxis\": {\"automargin\": true, \"gridcolor\": \"white\", \"linecolor\": \"white\", \"ticks\": \"\", \"title\": {\"standoff\": 15}, \"zerolinecolor\": \"white\", \"zerolinewidth\": 2}, \"yaxis\": {\"automargin\": true, \"gridcolor\": \"white\", \"linecolor\": \"white\", \"ticks\": \"\", \"title\": {\"standoff\": 15}, \"zerolinecolor\": \"white\", \"zerolinewidth\": 2}}}, \"title\": {\"text\": \"Association Rules Strength Distribution\"}, \"xaxis\": {\"autorange\": \"reversed\", \"title\": {\"text\": \"Support\"}}, \"yaxis\": {\"title\": {\"text\": \"Confidence\"}}},\n",
              "                        {\"responsive\": true}\n",
              "                    ).then(function(){\n",
              "                            \n",
              "var gd = document.getElementById('6826b1b3-b34c-4722-a1c4-120eea17ed01');\n",
              "var x = new MutationObserver(function (mutations, observer) {{\n",
              "        var display = window.getComputedStyle(gd).display;\n",
              "        if (!display || display === 'none') {{\n",
              "            console.log([gd, 'removed!']);\n",
              "            Plotly.purge(gd);\n",
              "            observer.disconnect();\n",
              "        }}\n",
              "}});\n",
              "\n",
              "// Listen for the removal of the full notebook cells\n",
              "var notebookContainer = gd.closest('#notebook-container');\n",
              "if (notebookContainer) {{\n",
              "    x.observe(notebookContainer, {childList: true});\n",
              "}}\n",
              "\n",
              "// Listen for the clearing of the current output cell\n",
              "var outputEl = gd.closest('.output');\n",
              "if (outputEl) {{\n",
              "    x.observe(outputEl, {childList: true});\n",
              "}}\n",
              "\n",
              "                        })\n",
              "                };\n",
              "                \n",
              "            </script>\n",
              "        </div>\n",
              "</body>\n",
              "</html>"
            ]
          },
          "metadata": {}
        },
        {
          "output_type": "display_data",
          "data": {
            "text/html": [
              "<html>\n",
              "<head><meta charset=\"utf-8\" /></head>\n",
              "<body>\n",
              "    <div>\n",
              "            <script src=\"https://cdnjs.cloudflare.com/ajax/libs/mathjax/2.7.5/MathJax.js?config=TeX-AMS-MML_SVG\"></script><script type=\"text/javascript\">if (window.MathJax) {MathJax.Hub.Config({SVG: {font: \"STIX-Web\"}});}</script>\n",
              "                <script type=\"text/javascript\">window.PlotlyConfig = {MathJaxConfig: 'local'};</script>\n",
              "        <script src=\"https://cdn.plot.ly/plotly-latest.min.js\"></script>    \n",
              "            <div id=\"185da998-e1f7-4a61-a22b-486f122bf81d\" class=\"plotly-graph-div\" style=\"height:525px; width:100%;\"></div>\n",
              "            <script type=\"text/javascript\">\n",
              "                \n",
              "                    window.PLOTLYENV=window.PLOTLYENV || {};\n",
              "                    \n",
              "                if (document.getElementById(\"185da998-e1f7-4a61-a22b-486f122bf81d\")) {\n",
              "                    Plotly.newPlot(\n",
              "                        '185da998-e1f7-4a61-a22b-486f122bf81d',\n",
              "                        [{\"marker\": {\"color\": [1.021671826625387, 1.021671826625387, 1.0588235294117647, 1.0588235294117647, 1.1578947368421053, 1.1578947368421053], \"colorbar\": {\"title\": {\"text\": \"Lift\"}}, \"colorscale\": [[0.0, \"rgb(243, 224, 247)\"], [0.16666666666666666, \"rgb(228, 199, 241)\"], [0.3333333333333333, \"rgb(209, 175, 232)\"], [0.5, \"rgb(185, 152, 221)\"], [0.6666666666666666, \"rgb(159, 130, 206)\"], [0.8333333333333334, \"rgb(130, 109, 186)\"], [1.0, \"rgb(99, 88, 159)\"]]}, \"mode\": \"markers\", \"text\": [\"('\\u0424\\u0443\\u0442\\u0431\\u043e\\u043b\\u043a\\u0430',) => ('\\u041a\\u0440\\u043e\\u0441\\u0441\\u043e\\u0432\\u043a\\u0438',), Lift: 1.021671826625387\", \"('\\u041a\\u0440\\u043e\\u0441\\u0441\\u043e\\u0432\\u043a\\u0438',) => ('\\u0424\\u0443\\u0442\\u0431\\u043e\\u043b\\u043a\\u0430',), Lift: 1.021671826625387\", \"('\\u0428\\u043e\\u0440\\u0442\\u044b',) => ('\\u041a\\u0440\\u043e\\u0441\\u0441\\u043e\\u0432\\u043a\\u0438',), Lift: 1.0588235294117647\", \"('\\u041a\\u0440\\u043e\\u0441\\u0441\\u043e\\u0432\\u043a\\u0438',) => ('\\u0428\\u043e\\u0440\\u0442\\u044b',), Lift: 1.0588235294117647\", \"('\\u0428\\u043e\\u0440\\u0442\\u044b',) => ('\\u0424\\u0443\\u0442\\u0431\\u043e\\u043b\\u043a\\u0430',), Lift: 1.1578947368421053\", \"('\\u0424\\u0443\\u0442\\u0431\\u043e\\u043b\\u043a\\u0430',) => ('\\u0428\\u043e\\u0440\\u0442\\u044b',), Lift: 1.1578947368421053\"], \"type\": \"scatter\", \"x\": [0.36666666666666664, 0.36666666666666664, 0.3, 0.3, 0.36666666666666664, 0.36666666666666664], \"y\": [0.5789473684210527, 0.6470588235294118, 0.6, 0.5294117647058824, 0.7333333333333333, 0.5789473684210527]}],\n",
              "                        {\"template\": {\"data\": {\"bar\": [{\"error_x\": {\"color\": \"#2a3f5f\"}, \"error_y\": {\"color\": \"#2a3f5f\"}, \"marker\": {\"line\": {\"color\": \"#E5ECF6\", \"width\": 0.5}}, \"type\": \"bar\"}], \"barpolar\": [{\"marker\": {\"line\": {\"color\": \"#E5ECF6\", \"width\": 0.5}}, \"type\": \"barpolar\"}], \"carpet\": [{\"aaxis\": {\"endlinecolor\": \"#2a3f5f\", \"gridcolor\": \"white\", \"linecolor\": \"white\", \"minorgridcolor\": \"white\", \"startlinecolor\": \"#2a3f5f\"}, \"baxis\": {\"endlinecolor\": \"#2a3f5f\", \"gridcolor\": \"white\", \"linecolor\": \"white\", \"minorgridcolor\": \"white\", \"startlinecolor\": \"#2a3f5f\"}, \"type\": \"carpet\"}], \"choropleth\": [{\"colorbar\": {\"outlinewidth\": 0, \"ticks\": \"\"}, \"type\": \"choropleth\"}], \"contour\": [{\"colorbar\": {\"outlinewidth\": 0, \"ticks\": \"\"}, \"colorscale\": [[0.0, \"#0d0887\"], [0.1111111111111111, \"#46039f\"], [0.2222222222222222, \"#7201a8\"], [0.3333333333333333, \"#9c179e\"], [0.4444444444444444, \"#bd3786\"], [0.5555555555555556, \"#d8576b\"], [0.6666666666666666, \"#ed7953\"], [0.7777777777777778, \"#fb9f3a\"], [0.8888888888888888, \"#fdca26\"], [1.0, \"#f0f921\"]], \"type\": \"contour\"}], \"contourcarpet\": [{\"colorbar\": {\"outlinewidth\": 0, \"ticks\": \"\"}, \"type\": \"contourcarpet\"}], \"heatmap\": [{\"colorbar\": {\"outlinewidth\": 0, \"ticks\": \"\"}, \"colorscale\": [[0.0, \"#0d0887\"], [0.1111111111111111, \"#46039f\"], [0.2222222222222222, \"#7201a8\"], [0.3333333333333333, \"#9c179e\"], [0.4444444444444444, \"#bd3786\"], [0.5555555555555556, \"#d8576b\"], [0.6666666666666666, \"#ed7953\"], [0.7777777777777778, \"#fb9f3a\"], [0.8888888888888888, \"#fdca26\"], [1.0, \"#f0f921\"]], \"type\": \"heatmap\"}], \"heatmapgl\": [{\"colorbar\": {\"outlinewidth\": 0, \"ticks\": \"\"}, \"colorscale\": [[0.0, \"#0d0887\"], [0.1111111111111111, \"#46039f\"], [0.2222222222222222, \"#7201a8\"], [0.3333333333333333, \"#9c179e\"], [0.4444444444444444, \"#bd3786\"], [0.5555555555555556, \"#d8576b\"], [0.6666666666666666, \"#ed7953\"], [0.7777777777777778, \"#fb9f3a\"], [0.8888888888888888, \"#fdca26\"], [1.0, \"#f0f921\"]], \"type\": \"heatmapgl\"}], \"histogram\": [{\"marker\": {\"colorbar\": {\"outlinewidth\": 0, \"ticks\": \"\"}}, \"type\": \"histogram\"}], \"histogram2d\": [{\"colorbar\": {\"outlinewidth\": 0, \"ticks\": \"\"}, \"colorscale\": [[0.0, \"#0d0887\"], [0.1111111111111111, \"#46039f\"], [0.2222222222222222, \"#7201a8\"], [0.3333333333333333, \"#9c179e\"], [0.4444444444444444, \"#bd3786\"], [0.5555555555555556, \"#d8576b\"], [0.6666666666666666, \"#ed7953\"], [0.7777777777777778, \"#fb9f3a\"], [0.8888888888888888, \"#fdca26\"], [1.0, \"#f0f921\"]], \"type\": \"histogram2d\"}], \"histogram2dcontour\": [{\"colorbar\": {\"outlinewidth\": 0, \"ticks\": \"\"}, \"colorscale\": [[0.0, \"#0d0887\"], [0.1111111111111111, \"#46039f\"], [0.2222222222222222, \"#7201a8\"], [0.3333333333333333, \"#9c179e\"], [0.4444444444444444, \"#bd3786\"], [0.5555555555555556, \"#d8576b\"], [0.6666666666666666, \"#ed7953\"], [0.7777777777777778, \"#fb9f3a\"], [0.8888888888888888, \"#fdca26\"], [1.0, \"#f0f921\"]], \"type\": \"histogram2dcontour\"}], \"mesh3d\": [{\"colorbar\": {\"outlinewidth\": 0, \"ticks\": \"\"}, \"type\": \"mesh3d\"}], \"parcoords\": [{\"line\": {\"colorbar\": {\"outlinewidth\": 0, \"ticks\": \"\"}}, \"type\": \"parcoords\"}], \"pie\": [{\"automargin\": true, \"type\": \"pie\"}], \"scatter\": [{\"marker\": {\"colorbar\": {\"outlinewidth\": 0, \"ticks\": \"\"}}, \"type\": \"scatter\"}], \"scatter3d\": [{\"line\": {\"colorbar\": {\"outlinewidth\": 0, \"ticks\": \"\"}}, \"marker\": {\"colorbar\": {\"outlinewidth\": 0, \"ticks\": \"\"}}, \"type\": \"scatter3d\"}], \"scattercarpet\": [{\"marker\": {\"colorbar\": {\"outlinewidth\": 0, \"ticks\": \"\"}}, \"type\": \"scattercarpet\"}], \"scattergeo\": [{\"marker\": {\"colorbar\": {\"outlinewidth\": 0, \"ticks\": \"\"}}, \"type\": \"scattergeo\"}], \"scattergl\": [{\"marker\": {\"colorbar\": {\"outlinewidth\": 0, \"ticks\": \"\"}}, \"type\": \"scattergl\"}], \"scattermapbox\": [{\"marker\": {\"colorbar\": {\"outlinewidth\": 0, \"ticks\": \"\"}}, \"type\": \"scattermapbox\"}], \"scatterpolar\": [{\"marker\": {\"colorbar\": {\"outlinewidth\": 0, \"ticks\": \"\"}}, \"type\": \"scatterpolar\"}], \"scatterpolargl\": [{\"marker\": {\"colorbar\": {\"outlinewidth\": 0, \"ticks\": \"\"}}, \"type\": \"scatterpolargl\"}], \"scatterternary\": [{\"marker\": {\"colorbar\": {\"outlinewidth\": 0, \"ticks\": \"\"}}, \"type\": \"scatterternary\"}], \"surface\": [{\"colorbar\": {\"outlinewidth\": 0, \"ticks\": \"\"}, \"colorscale\": [[0.0, \"#0d0887\"], [0.1111111111111111, \"#46039f\"], [0.2222222222222222, \"#7201a8\"], [0.3333333333333333, \"#9c179e\"], [0.4444444444444444, \"#bd3786\"], [0.5555555555555556, \"#d8576b\"], [0.6666666666666666, \"#ed7953\"], [0.7777777777777778, \"#fb9f3a\"], [0.8888888888888888, \"#fdca26\"], [1.0, \"#f0f921\"]], \"type\": \"surface\"}], \"table\": [{\"cells\": {\"fill\": {\"color\": \"#EBF0F8\"}, \"line\": {\"color\": \"white\"}}, \"header\": {\"fill\": {\"color\": \"#C8D4E3\"}, \"line\": {\"color\": \"white\"}}, \"type\": \"table\"}]}, \"layout\": {\"annotationdefaults\": {\"arrowcolor\": \"#2a3f5f\", \"arrowhead\": 0, \"arrowwidth\": 1}, \"coloraxis\": {\"colorbar\": {\"outlinewidth\": 0, \"ticks\": \"\"}}, \"colorscale\": {\"diverging\": [[0, \"#8e0152\"], [0.1, \"#c51b7d\"], [0.2, \"#de77ae\"], [0.3, \"#f1b6da\"], [0.4, \"#fde0ef\"], [0.5, \"#f7f7f7\"], [0.6, \"#e6f5d0\"], [0.7, \"#b8e186\"], [0.8, \"#7fbc41\"], [0.9, \"#4d9221\"], [1, \"#276419\"]], \"sequential\": [[0.0, \"#0d0887\"], [0.1111111111111111, \"#46039f\"], [0.2222222222222222, \"#7201a8\"], [0.3333333333333333, \"#9c179e\"], [0.4444444444444444, \"#bd3786\"], [0.5555555555555556, \"#d8576b\"], [0.6666666666666666, \"#ed7953\"], [0.7777777777777778, \"#fb9f3a\"], [0.8888888888888888, \"#fdca26\"], [1.0, \"#f0f921\"]], \"sequentialminus\": [[0.0, \"#0d0887\"], [0.1111111111111111, \"#46039f\"], [0.2222222222222222, \"#7201a8\"], [0.3333333333333333, \"#9c179e\"], [0.4444444444444444, \"#bd3786\"], [0.5555555555555556, \"#d8576b\"], [0.6666666666666666, \"#ed7953\"], [0.7777777777777778, \"#fb9f3a\"], [0.8888888888888888, \"#fdca26\"], [1.0, \"#f0f921\"]]}, \"colorway\": [\"#636efa\", \"#EF553B\", \"#00cc96\", \"#ab63fa\", \"#FFA15A\", \"#19d3f3\", \"#FF6692\", \"#B6E880\", \"#FF97FF\", \"#FECB52\"], \"font\": {\"color\": \"#2a3f5f\"}, \"geo\": {\"bgcolor\": \"white\", \"lakecolor\": \"white\", \"landcolor\": \"#E5ECF6\", \"showlakes\": true, \"showland\": true, \"subunitcolor\": \"white\"}, \"hoverlabel\": {\"align\": \"left\"}, \"hovermode\": \"closest\", \"mapbox\": {\"style\": \"light\"}, \"paper_bgcolor\": \"white\", \"plot_bgcolor\": \"#E5ECF6\", \"polar\": {\"angularaxis\": {\"gridcolor\": \"white\", \"linecolor\": \"white\", \"ticks\": \"\"}, \"bgcolor\": \"#E5ECF6\", \"radialaxis\": {\"gridcolor\": \"white\", \"linecolor\": \"white\", \"ticks\": \"\"}}, \"scene\": {\"xaxis\": {\"backgroundcolor\": \"#E5ECF6\", \"gridcolor\": \"white\", \"gridwidth\": 2, \"linecolor\": \"white\", \"showbackground\": true, \"ticks\": \"\", \"zerolinecolor\": \"white\"}, \"yaxis\": {\"backgroundcolor\": \"#E5ECF6\", \"gridcolor\": \"white\", \"gridwidth\": 2, \"linecolor\": \"white\", \"showbackground\": true, \"ticks\": \"\", \"zerolinecolor\": \"white\"}, \"zaxis\": {\"backgroundcolor\": \"#E5ECF6\", \"gridcolor\": \"white\", \"gridwidth\": 2, \"linecolor\": \"white\", \"showbackground\": true, \"ticks\": \"\", \"zerolinecolor\": \"white\"}}, \"shapedefaults\": {\"line\": {\"color\": \"#2a3f5f\"}}, \"ternary\": {\"aaxis\": {\"gridcolor\": \"white\", \"linecolor\": \"white\", \"ticks\": \"\"}, \"baxis\": {\"gridcolor\": \"white\", \"linecolor\": \"white\", \"ticks\": \"\"}, \"bgcolor\": \"#E5ECF6\", \"caxis\": {\"gridcolor\": \"white\", \"linecolor\": \"white\", \"ticks\": \"\"}}, \"title\": {\"x\": 0.05}, \"xaxis\": {\"automargin\": true, \"gridcolor\": \"white\", \"linecolor\": \"white\", \"ticks\": \"\", \"title\": {\"standoff\": 15}, \"zerolinecolor\": \"white\", \"zerolinewidth\": 2}, \"yaxis\": {\"automargin\": true, \"gridcolor\": \"white\", \"linecolor\": \"white\", \"ticks\": \"\", \"title\": {\"standoff\": 15}, \"zerolinecolor\": \"white\", \"zerolinewidth\": 2}}}, \"title\": {\"text\": \"Association Rules Strength Distribution\"}, \"xaxis\": {\"autorange\": \"reversed\", \"title\": {\"text\": \"Support\"}}, \"yaxis\": {\"title\": {\"text\": \"Confidence\"}}},\n",
              "                        {\"responsive\": true}\n",
              "                    ).then(function(){\n",
              "                            \n",
              "var gd = document.getElementById('185da998-e1f7-4a61-a22b-486f122bf81d');\n",
              "var x = new MutationObserver(function (mutations, observer) {{\n",
              "        var display = window.getComputedStyle(gd).display;\n",
              "        if (!display || display === 'none') {{\n",
              "            console.log([gd, 'removed!']);\n",
              "            Plotly.purge(gd);\n",
              "            observer.disconnect();\n",
              "        }}\n",
              "}});\n",
              "\n",
              "// Listen for the removal of the full notebook cells\n",
              "var notebookContainer = gd.closest('#notebook-container');\n",
              "if (notebookContainer) {{\n",
              "    x.observe(notebookContainer, {childList: true});\n",
              "}}\n",
              "\n",
              "// Listen for the clearing of the current output cell\n",
              "var outputEl = gd.closest('.output');\n",
              "if (outputEl) {{\n",
              "    x.observe(outputEl, {childList: true});\n",
              "}}\n",
              "\n",
              "                        })\n",
              "                };\n",
              "                \n",
              "            </script>\n",
              "        </div>\n",
              "</body>\n",
              "</html>"
            ]
          },
          "metadata": {}
        }
      ]
    },
    {
      "cell_type": "code",
      "metadata": {
        "colab": {
          "base_uri": "https://localhost:8080/",
          "height": 1000
        },
        "id": "7Ds4ib1i15Er",
        "outputId": "8106485c-7ccf-4716-b5d4-9de0531085d3"
      },
      "source": [
        "from efficient_apriori import apriori as eApriori\n",
        "from PyARMViz import Rule\n",
        "import csv\n",
        "\n",
        "class CSVHandler:\n",
        "    def __init__(self, transactions):\n",
        "        self.transactions = transactions\n",
        "\n",
        "    def read(self, filename):\n",
        "        with open(filename) as file:\n",
        "            reader = csv.reader(file)\n",
        "            for row in reader:\n",
        "                self.transactions.append(row)\n",
        "            return self.transactions\n",
        "        \n",
        "\n",
        "\n",
        "transactions = list()\n",
        "dataset = CSVHandler(transactions)\n",
        "transactions = dataset.read('BigDataSet.csv')\n",
        "\n",
        "freqItemSet, rules = apriori(transactions, min_support=0.01, min_confidence=0.01)\n",
        "\n",
        "\n",
        "PyARMViz.metadata_scatter_plot(rules)\n"
      ],
      "execution_count": null,
      "outputs": [
        {
          "output_type": "display_data",
          "data": {
            "text/html": [
              "<html>\n",
              "<head><meta charset=\"utf-8\" /></head>\n",
              "<body>\n",
              "    <div>\n",
              "            <script src=\"https://cdnjs.cloudflare.com/ajax/libs/mathjax/2.7.5/MathJax.js?config=TeX-AMS-MML_SVG\"></script><script type=\"text/javascript\">if (window.MathJax) {MathJax.Hub.Config({SVG: {font: \"STIX-Web\"}});}</script>\n",
              "                <script type=\"text/javascript\">window.PlotlyConfig = {MathJaxConfig: 'local'};</script>\n",
              "        <script src=\"https://cdn.plot.ly/plotly-latest.min.js\"></script>    \n",
              "            <div id=\"dc16ba4d-c067-4095-8971-17ee94b66551\" class=\"plotly-graph-div\" style=\"height:525px; width:100%;\"></div>\n",
              "            <script type=\"text/javascript\">\n",
              "                \n",
              "                    window.PLOTLYENV=window.PLOTLYENV || {};\n",
              "                    \n",
              "                if (document.getElementById(\"dc16ba4d-c067-4095-8971-17ee94b66551\")) {\n",
              "                    Plotly.newPlot(\n",
              "                        'dc16ba4d-c067-4095-8971-17ee94b66551',\n",
              "                        [{\"marker\": {\"color\": [1.1451110633858992, 1.1451110633858992, 0.8327513939725216, 0.8327513939725216, 0.6979425162529914, 0.6979425162529914, 0.5730318998127748, 0.5730318998127748, 0.819143037058619, 0.819143037058619, 0.7132875962793047, 0.7132875962793047, 0.8439844118450122, 0.8439844118450122, 0.8050817060894851, 0.8050817060894851, 1.0275675707778287, 1.0275675707778287, 0.7352656454643813, 0.7352656454643813, 0.605560869988601, 0.605560869988601, 1.0337438475087195, 1.0337438475087195, 1.1067972087915032, 1.1067972087915032, 1.8879276097991613, 1.8879276097991613, 1.5925239539843208, 1.5925239539843208, 1.0956528421753722, 1.0956528421753722, 1.0607863944017437, 1.0607863944017437, 1.1317309430006866, 1.1317309430006866, 1.1974967864149924, 1.1974967864149924, 1.0325586438717607, 1.0325586438717607, 1.116956974213962, 1.116956974213962, 1.149554041148, 1.149554041148, 1.127269905323607, 1.127269905323607, 1.1069690881363317, 1.1069690881363317, 0.9637142649657476, 0.9637142649657476, 1.262717064490397, 1.262717064490397, 0.7276115907636103, 0.7276115907636103, 1.4864837954896202, 1.4864837954896202, 1.6265942148565502, 1.6265942148565502, 1.422010964148973, 1.422010964148973], \"colorbar\": {\"title\": {\"text\": \"Lift\"}}, \"colorscale\": [[0.0, \"rgb(243, 224, 247)\"], [0.16666666666666666, \"rgb(228, 199, 241)\"], [0.3333333333333333, \"rgb(209, 175, 232)\"], [0.5, \"rgb(185, 152, 221)\"], [0.6666666666666666, \"rgb(159, 130, 206)\"], [0.8333333333333334, \"rgb(130, 109, 186)\"], [1.0, \"rgb(99, 88, 159)\"]]}, \"mode\": \"markers\", \"text\": [\"('Coffee',) => ('Alfajores',), Lift: 1.1451110633858992\", \"('Alfajores',) => ('Coffee',), Lift: 1.1451110633858992\", \"('Brownie',) => ('Bread',), Lift: 0.8327513939725216\", \"('Bread',) => ('Brownie',), Lift: 0.8327513939725216\", \"('Cake',) => ('Bread',), Lift: 0.6979425162529914\", \"('Bread',) => ('Cake',), Lift: 0.6979425162529914\", \"('Coffee',) => ('Bread',), Lift: 0.5730318998127748\", \"('Bread',) => ('Coffee',), Lift: 0.5730318998127748\", \"('Cookies',) => ('Bread',), Lift: 0.819143037058619\", \"('Bread',) => ('Cookies',), Lift: 0.819143037058619\", \"('Hot chocolate',) => ('Bread',), Lift: 0.7132875962793047\", \"('Bread',) => ('Hot chocolate',), Lift: 0.7132875962793047\", \"('Medialuna',) => ('Bread',), Lift: 0.8439844118450122\", \"('Bread',) => ('Medialuna',), Lift: 0.8439844118450122\", \"('NONE',) => ('Bread',), Lift: 0.8050817060894851\", \"('Bread',) => ('NONE',), Lift: 0.8050817060894851\", \"('Pastry',) => ('Bread',), Lift: 1.0275675707778287\", \"('Bread',) => ('Pastry',), Lift: 1.0275675707778287\", \"('Sandwich',) => ('Bread',), Lift: 0.7352656454643813\", \"('Bread',) => ('Sandwich',), Lift: 0.7352656454643813\", \"('Tea',) => ('Bread',), Lift: 0.605560869988601\", \"('Bread',) => ('Tea',), Lift: 0.605560869988601\", \"('Coffee',) => ('Brownie',), Lift: 1.0337438475087195\", \"('Brownie',) => ('Coffee',), Lift: 1.0337438475087195\", \"('Coffee',) => ('Cake',), Lift: 1.1067972087915032\", \"('Cake',) => ('Coffee',), Lift: 1.1067972087915032\", \"('Hot chocolate',) => ('Cake',), Lift: 1.8879276097991613\", \"('Cake',) => ('Hot chocolate',), Lift: 1.8879276097991613\", \"('Tea',) => ('Cake',), Lift: 1.5925239539843208\", \"('Cake',) => ('Tea',), Lift: 1.5925239539843208\", \"('Cookies',) => ('Coffee',), Lift: 1.0956528421753722\", \"('Coffee',) => ('Cookies',), Lift: 1.0956528421753722\", \"('Hot chocolate',) => ('Coffee',), Lift: 1.0607863944017437\", \"('Coffee',) => ('Hot chocolate',), Lift: 1.0607863944017437\", \"('Juice',) => ('Coffee',), Lift: 1.1317309430006866\", \"('Coffee',) => ('Juice',), Lift: 1.1317309430006866\", \"('Medialuna',) => ('Coffee',), Lift: 1.1974967864149924\", \"('Coffee',) => ('Medialuna',), Lift: 1.1974967864149924\", \"('Muffin',) => ('Coffee',), Lift: 1.0325586438717607\", \"('Coffee',) => ('Muffin',), Lift: 1.0325586438717607\", \"('NONE',) => ('Coffee',), Lift: 1.116956974213962\", \"('Coffee',) => ('NONE',), Lift: 1.116956974213962\", \"('Pastry',) => ('Coffee',), Lift: 1.149554041148\", \"('Coffee',) => ('Pastry',), Lift: 1.149554041148\", \"('Sandwich',) => ('Coffee',), Lift: 1.127269905323607\", \"('Coffee',) => ('Sandwich',), Lift: 1.127269905323607\", \"('Scone',) => ('Coffee',), Lift: 1.1069690881363317\", \"('Coffee',) => ('Scone',), Lift: 1.1069690881363317\", \"('Soup',) => ('Coffee',), Lift: 0.9637142649657476\", \"('Coffee',) => ('Soup',), Lift: 0.9637142649657476\", \"('Spanish Brunch',) => ('Coffee',), Lift: 1.262717064490397\", \"('Coffee',) => ('Spanish Brunch',), Lift: 1.262717064490397\", \"('Tea',) => ('Coffee',), Lift: 0.7276115907636103\", \"('Coffee',) => ('Tea',), Lift: 0.7276115907636103\", \"('Toast',) => ('Coffee',), Lift: 1.4864837954896202\", \"('Coffee',) => ('Toast',), Lift: 1.4864837954896202\", \"('Tea',) => ('NONE',), Lift: 1.6265942148565502\", \"('NONE',) => ('Tea',), Lift: 1.6265942148565502\", \"('Tea',) => ('Sandwich',), Lift: 1.422010964148973\", \"('Sandwich',) => ('Tea',), Lift: 1.422010964148973\"], \"type\": \"scatter\", \"x\": [0.019103676166873192, 0.019103676166873192, 0.010429574555968608, 0.010429574555968608, 0.02271788517141677, 0.02271788517141677, 0.08612143742255267, 0.08612143742255267, 0.013940520446096654, 0.013940520446096654, 0.013011152416356878, 0.013011152416356878, 0.016315572077653863, 0.016315572077653863, 0.02003304419661297, 0.02003304419661297, 0.027674514663362248, 0.027674514663362248, 0.016522098306484923, 0.016522098306484923, 0.027054935976869064, 0.027054935976869064, 0.01900041305245766, 0.01900041305245766, 0.05287071458075176, 0.05287071458075176, 0.010945890128046263, 0.010945890128046263, 0.022614622057001238, 0.022614622057001238, 0.027364725320115656, 0.027364725320115656, 0.028397356464270964, 0.028397356464270964, 0.02003304419661297, 0.02003304419661297, 0.033973564642709626, 0.033973564642709626, 0.018277571251548948, 0.018277571251548948, 0.040788930194134654, 0.040788930194134654, 0.04543577034283354, 0.04543577034283354, 0.03717472118959108, 0.03717472118959108, 0.01755472945064023, 0.01755472945064023, 0.015282940933498555, 0.015282940933498555, 0.010532837670384139, 0.010532837670384139, 0.04770755885997522, 0.04770755885997522, 0.02292441140024783, 0.02292441140024783, 0.017657992565055763, 0.017657992565055763, 0.013940520446096654, 0.013940520446096654], \"y\": [0.04067722075637643, 0.5377906976744186, 0.26649076517150394, 0.03259115843820587, 0.2233502538071066, 0.07099064214262665, 0.18337730870712401, 0.2691190706679574, 0.2621359223300971, 0.04356243949661181, 0.22826086956521738, 0.04065827686350436, 0.27008547008547007, 0.050984188447886415, 0.25763612217795484, 0.06260083898031624, 0.32883435582822085, 0.08647950951919975, 0.23529411764705882, 0.05162955792191029, 0.1937869822485207, 0.0845434010971281, 0.040457343887423045, 0.48548812664907653, 0.11257695690413369, 0.5197969543147208, 0.19202898550724637, 0.10761421319796954, 0.16198224852071005, 0.22233502538071065, 0.5145631067961165, 0.05826737027264732, 0.49818840579710144, 0.06046613896218118, 0.5315068493150685, 0.0426561125769569, 0.5623931623931624, 0.07233948988566404, 0.4849315068493151, 0.03891820580474934, 0.5245683930942895, 0.08685136323658751, 0.5398773006134969, 0.09674582233948989, 0.5294117647058824, 0.079155672823219, 0.5198776758409785, 0.03737906772207564, 0.4525993883792049, 0.032541776605101144, 0.5930232558139535, 0.022427440633245383, 0.34171597633136097, 0.10158311345646438, 0.6981132075471698, 0.048812664907651716, 0.1264792899408284, 0.22709163346613545, 0.09985207100591716, 0.19852941176470587]}],\n",
              "                        {\"template\": {\"data\": {\"bar\": [{\"error_x\": {\"color\": \"#2a3f5f\"}, \"error_y\": {\"color\": \"#2a3f5f\"}, \"marker\": {\"line\": {\"color\": \"#E5ECF6\", \"width\": 0.5}}, \"type\": \"bar\"}], \"barpolar\": [{\"marker\": {\"line\": {\"color\": \"#E5ECF6\", \"width\": 0.5}}, \"type\": \"barpolar\"}], \"carpet\": [{\"aaxis\": {\"endlinecolor\": \"#2a3f5f\", \"gridcolor\": \"white\", \"linecolor\": \"white\", \"minorgridcolor\": \"white\", \"startlinecolor\": \"#2a3f5f\"}, \"baxis\": {\"endlinecolor\": \"#2a3f5f\", \"gridcolor\": \"white\", \"linecolor\": \"white\", \"minorgridcolor\": \"white\", \"startlinecolor\": \"#2a3f5f\"}, \"type\": \"carpet\"}], \"choropleth\": [{\"colorbar\": {\"outlinewidth\": 0, \"ticks\": \"\"}, \"type\": \"choropleth\"}], \"contour\": [{\"colorbar\": {\"outlinewidth\": 0, \"ticks\": \"\"}, \"colorscale\": [[0.0, \"#0d0887\"], [0.1111111111111111, \"#46039f\"], [0.2222222222222222, \"#7201a8\"], [0.3333333333333333, \"#9c179e\"], [0.4444444444444444, \"#bd3786\"], [0.5555555555555556, \"#d8576b\"], [0.6666666666666666, \"#ed7953\"], [0.7777777777777778, \"#fb9f3a\"], [0.8888888888888888, \"#fdca26\"], [1.0, \"#f0f921\"]], \"type\": \"contour\"}], \"contourcarpet\": [{\"colorbar\": {\"outlinewidth\": 0, \"ticks\": \"\"}, \"type\": \"contourcarpet\"}], \"heatmap\": [{\"colorbar\": {\"outlinewidth\": 0, \"ticks\": \"\"}, \"colorscale\": [[0.0, \"#0d0887\"], [0.1111111111111111, \"#46039f\"], [0.2222222222222222, \"#7201a8\"], [0.3333333333333333, \"#9c179e\"], [0.4444444444444444, \"#bd3786\"], [0.5555555555555556, \"#d8576b\"], [0.6666666666666666, \"#ed7953\"], [0.7777777777777778, \"#fb9f3a\"], [0.8888888888888888, \"#fdca26\"], [1.0, \"#f0f921\"]], \"type\": \"heatmap\"}], \"heatmapgl\": [{\"colorbar\": {\"outlinewidth\": 0, \"ticks\": \"\"}, \"colorscale\": [[0.0, \"#0d0887\"], [0.1111111111111111, \"#46039f\"], [0.2222222222222222, \"#7201a8\"], [0.3333333333333333, \"#9c179e\"], [0.4444444444444444, \"#bd3786\"], [0.5555555555555556, \"#d8576b\"], [0.6666666666666666, \"#ed7953\"], [0.7777777777777778, \"#fb9f3a\"], [0.8888888888888888, \"#fdca26\"], [1.0, \"#f0f921\"]], \"type\": \"heatmapgl\"}], \"histogram\": [{\"marker\": {\"colorbar\": {\"outlinewidth\": 0, \"ticks\": \"\"}}, \"type\": \"histogram\"}], \"histogram2d\": [{\"colorbar\": {\"outlinewidth\": 0, \"ticks\": \"\"}, \"colorscale\": [[0.0, \"#0d0887\"], [0.1111111111111111, \"#46039f\"], [0.2222222222222222, \"#7201a8\"], [0.3333333333333333, \"#9c179e\"], [0.4444444444444444, \"#bd3786\"], [0.5555555555555556, \"#d8576b\"], [0.6666666666666666, \"#ed7953\"], [0.7777777777777778, \"#fb9f3a\"], [0.8888888888888888, \"#fdca26\"], [1.0, \"#f0f921\"]], \"type\": \"histogram2d\"}], \"histogram2dcontour\": [{\"colorbar\": {\"outlinewidth\": 0, \"ticks\": \"\"}, \"colorscale\": [[0.0, \"#0d0887\"], [0.1111111111111111, \"#46039f\"], [0.2222222222222222, \"#7201a8\"], [0.3333333333333333, \"#9c179e\"], [0.4444444444444444, \"#bd3786\"], [0.5555555555555556, \"#d8576b\"], [0.6666666666666666, \"#ed7953\"], [0.7777777777777778, \"#fb9f3a\"], [0.8888888888888888, \"#fdca26\"], [1.0, \"#f0f921\"]], \"type\": \"histogram2dcontour\"}], \"mesh3d\": [{\"colorbar\": {\"outlinewidth\": 0, \"ticks\": \"\"}, \"type\": \"mesh3d\"}], \"parcoords\": [{\"line\": {\"colorbar\": {\"outlinewidth\": 0, \"ticks\": \"\"}}, \"type\": \"parcoords\"}], \"pie\": [{\"automargin\": true, \"type\": \"pie\"}], \"scatter\": [{\"marker\": {\"colorbar\": {\"outlinewidth\": 0, \"ticks\": \"\"}}, \"type\": \"scatter\"}], \"scatter3d\": [{\"line\": {\"colorbar\": {\"outlinewidth\": 0, \"ticks\": \"\"}}, \"marker\": {\"colorbar\": {\"outlinewidth\": 0, \"ticks\": \"\"}}, \"type\": \"scatter3d\"}], \"scattercarpet\": [{\"marker\": {\"colorbar\": {\"outlinewidth\": 0, \"ticks\": \"\"}}, \"type\": \"scattercarpet\"}], \"scattergeo\": [{\"marker\": {\"colorbar\": {\"outlinewidth\": 0, \"ticks\": \"\"}}, \"type\": \"scattergeo\"}], \"scattergl\": [{\"marker\": {\"colorbar\": {\"outlinewidth\": 0, \"ticks\": \"\"}}, \"type\": \"scattergl\"}], \"scattermapbox\": [{\"marker\": {\"colorbar\": {\"outlinewidth\": 0, \"ticks\": \"\"}}, \"type\": \"scattermapbox\"}], \"scatterpolar\": [{\"marker\": {\"colorbar\": {\"outlinewidth\": 0, \"ticks\": \"\"}}, \"type\": \"scatterpolar\"}], \"scatterpolargl\": [{\"marker\": {\"colorbar\": {\"outlinewidth\": 0, \"ticks\": \"\"}}, \"type\": \"scatterpolargl\"}], \"scatterternary\": [{\"marker\": {\"colorbar\": {\"outlinewidth\": 0, \"ticks\": \"\"}}, \"type\": \"scatterternary\"}], \"surface\": [{\"colorbar\": {\"outlinewidth\": 0, \"ticks\": \"\"}, \"colorscale\": [[0.0, \"#0d0887\"], [0.1111111111111111, \"#46039f\"], [0.2222222222222222, \"#7201a8\"], [0.3333333333333333, \"#9c179e\"], [0.4444444444444444, \"#bd3786\"], [0.5555555555555556, \"#d8576b\"], [0.6666666666666666, \"#ed7953\"], [0.7777777777777778, \"#fb9f3a\"], [0.8888888888888888, \"#fdca26\"], [1.0, \"#f0f921\"]], \"type\": \"surface\"}], \"table\": [{\"cells\": {\"fill\": {\"color\": \"#EBF0F8\"}, \"line\": {\"color\": \"white\"}}, \"header\": {\"fill\": {\"color\": \"#C8D4E3\"}, \"line\": {\"color\": \"white\"}}, \"type\": \"table\"}]}, \"layout\": {\"annotationdefaults\": {\"arrowcolor\": \"#2a3f5f\", \"arrowhead\": 0, \"arrowwidth\": 1}, \"coloraxis\": {\"colorbar\": {\"outlinewidth\": 0, \"ticks\": \"\"}}, \"colorscale\": {\"diverging\": [[0, \"#8e0152\"], [0.1, \"#c51b7d\"], [0.2, \"#de77ae\"], [0.3, \"#f1b6da\"], [0.4, \"#fde0ef\"], [0.5, \"#f7f7f7\"], [0.6, \"#e6f5d0\"], [0.7, \"#b8e186\"], [0.8, \"#7fbc41\"], [0.9, \"#4d9221\"], [1, \"#276419\"]], \"sequential\": [[0.0, \"#0d0887\"], [0.1111111111111111, \"#46039f\"], [0.2222222222222222, \"#7201a8\"], [0.3333333333333333, \"#9c179e\"], [0.4444444444444444, \"#bd3786\"], [0.5555555555555556, \"#d8576b\"], [0.6666666666666666, \"#ed7953\"], [0.7777777777777778, \"#fb9f3a\"], [0.8888888888888888, \"#fdca26\"], [1.0, \"#f0f921\"]], \"sequentialminus\": [[0.0, \"#0d0887\"], [0.1111111111111111, \"#46039f\"], [0.2222222222222222, \"#7201a8\"], [0.3333333333333333, \"#9c179e\"], [0.4444444444444444, \"#bd3786\"], [0.5555555555555556, \"#d8576b\"], [0.6666666666666666, \"#ed7953\"], [0.7777777777777778, \"#fb9f3a\"], [0.8888888888888888, \"#fdca26\"], [1.0, \"#f0f921\"]]}, \"colorway\": [\"#636efa\", \"#EF553B\", \"#00cc96\", \"#ab63fa\", \"#FFA15A\", \"#19d3f3\", \"#FF6692\", \"#B6E880\", \"#FF97FF\", \"#FECB52\"], \"font\": {\"color\": \"#2a3f5f\"}, \"geo\": {\"bgcolor\": \"white\", \"lakecolor\": \"white\", \"landcolor\": \"#E5ECF6\", \"showlakes\": true, \"showland\": true, \"subunitcolor\": \"white\"}, \"hoverlabel\": {\"align\": \"left\"}, \"hovermode\": \"closest\", \"mapbox\": {\"style\": \"light\"}, \"paper_bgcolor\": \"white\", \"plot_bgcolor\": \"#E5ECF6\", \"polar\": {\"angularaxis\": {\"gridcolor\": \"white\", \"linecolor\": \"white\", \"ticks\": \"\"}, \"bgcolor\": \"#E5ECF6\", \"radialaxis\": {\"gridcolor\": \"white\", \"linecolor\": \"white\", \"ticks\": \"\"}}, \"scene\": {\"xaxis\": {\"backgroundcolor\": \"#E5ECF6\", \"gridcolor\": \"white\", \"gridwidth\": 2, \"linecolor\": \"white\", \"showbackground\": true, \"ticks\": \"\", \"zerolinecolor\": \"white\"}, \"yaxis\": {\"backgroundcolor\": \"#E5ECF6\", \"gridcolor\": \"white\", \"gridwidth\": 2, \"linecolor\": \"white\", \"showbackground\": true, \"ticks\": \"\", \"zerolinecolor\": \"white\"}, \"zaxis\": {\"backgroundcolor\": \"#E5ECF6\", \"gridcolor\": \"white\", \"gridwidth\": 2, \"linecolor\": \"white\", \"showbackground\": true, \"ticks\": \"\", \"zerolinecolor\": \"white\"}}, \"shapedefaults\": {\"line\": {\"color\": \"#2a3f5f\"}}, \"ternary\": {\"aaxis\": {\"gridcolor\": \"white\", \"linecolor\": \"white\", \"ticks\": \"\"}, \"baxis\": {\"gridcolor\": \"white\", \"linecolor\": \"white\", \"ticks\": \"\"}, \"bgcolor\": \"#E5ECF6\", \"caxis\": {\"gridcolor\": \"white\", \"linecolor\": \"white\", \"ticks\": \"\"}}, \"title\": {\"x\": 0.05}, \"xaxis\": {\"automargin\": true, \"gridcolor\": \"white\", \"linecolor\": \"white\", \"ticks\": \"\", \"title\": {\"standoff\": 15}, \"zerolinecolor\": \"white\", \"zerolinewidth\": 2}, \"yaxis\": {\"automargin\": true, \"gridcolor\": \"white\", \"linecolor\": \"white\", \"ticks\": \"\", \"title\": {\"standoff\": 15}, \"zerolinecolor\": \"white\", \"zerolinewidth\": 2}}}, \"title\": {\"text\": \"Association Rules Strength Distribution\"}, \"xaxis\": {\"autorange\": \"reversed\", \"title\": {\"text\": \"Support\"}}, \"yaxis\": {\"title\": {\"text\": \"Confidence\"}}},\n",
              "                        {\"responsive\": true}\n",
              "                    ).then(function(){\n",
              "                            \n",
              "var gd = document.getElementById('dc16ba4d-c067-4095-8971-17ee94b66551');\n",
              "var x = new MutationObserver(function (mutations, observer) {{\n",
              "        var display = window.getComputedStyle(gd).display;\n",
              "        if (!display || display === 'none') {{\n",
              "            console.log([gd, 'removed!']);\n",
              "            Plotly.purge(gd);\n",
              "            observer.disconnect();\n",
              "        }}\n",
              "}});\n",
              "\n",
              "// Listen for the removal of the full notebook cells\n",
              "var notebookContainer = gd.closest('#notebook-container');\n",
              "if (notebookContainer) {{\n",
              "    x.observe(notebookContainer, {childList: true});\n",
              "}}\n",
              "\n",
              "// Listen for the clearing of the current output cell\n",
              "var outputEl = gd.closest('.output');\n",
              "if (outputEl) {{\n",
              "    x.observe(outputEl, {childList: true});\n",
              "}}\n",
              "\n",
              "                        })\n",
              "                };\n",
              "                \n",
              "            </script>\n",
              "        </div>\n",
              "</body>\n",
              "</html>"
            ]
          },
          "metadata": {}
        },
        {
          "output_type": "display_data",
          "data": {
            "text/html": [
              "<html>\n",
              "<head><meta charset=\"utf-8\" /></head>\n",
              "<body>\n",
              "    <div>\n",
              "            <script src=\"https://cdnjs.cloudflare.com/ajax/libs/mathjax/2.7.5/MathJax.js?config=TeX-AMS-MML_SVG\"></script><script type=\"text/javascript\">if (window.MathJax) {MathJax.Hub.Config({SVG: {font: \"STIX-Web\"}});}</script>\n",
              "                <script type=\"text/javascript\">window.PlotlyConfig = {MathJaxConfig: 'local'};</script>\n",
              "        <script src=\"https://cdn.plot.ly/plotly-latest.min.js\"></script>    \n",
              "            <div id=\"e502e6ee-31cb-4c6d-8756-565ddeca0a58\" class=\"plotly-graph-div\" style=\"height:525px; width:100%;\"></div>\n",
              "            <script type=\"text/javascript\">\n",
              "                \n",
              "                    window.PLOTLYENV=window.PLOTLYENV || {};\n",
              "                    \n",
              "                if (document.getElementById(\"e502e6ee-31cb-4c6d-8756-565ddeca0a58\")) {\n",
              "                    Plotly.newPlot(\n",
              "                        'e502e6ee-31cb-4c6d-8756-565ddeca0a58',\n",
              "                        [{\"marker\": {\"color\": [1.1451110633858992, 1.1451110633858992, 0.8327513939725216, 0.8327513939725216, 0.6979425162529914, 0.6979425162529914, 0.5730318998127748, 0.5730318998127748, 0.819143037058619, 0.819143037058619, 0.7132875962793047, 0.7132875962793047, 0.8439844118450122, 0.8439844118450122, 0.8050817060894851, 0.8050817060894851, 1.0275675707778287, 1.0275675707778287, 0.7352656454643813, 0.7352656454643813, 0.605560869988601, 0.605560869988601, 1.0337438475087195, 1.0337438475087195, 1.1067972087915032, 1.1067972087915032, 1.8879276097991613, 1.8879276097991613, 1.5925239539843208, 1.5925239539843208, 1.0956528421753722, 1.0956528421753722, 1.0607863944017437, 1.0607863944017437, 1.1317309430006866, 1.1317309430006866, 1.1974967864149924, 1.1974967864149924, 1.0325586438717607, 1.0325586438717607, 1.116956974213962, 1.116956974213962, 1.149554041148, 1.149554041148, 1.127269905323607, 1.127269905323607, 1.1069690881363317, 1.1069690881363317, 0.9637142649657476, 0.9637142649657476, 1.262717064490397, 1.262717064490397, 0.7276115907636103, 0.7276115907636103, 1.4864837954896202, 1.4864837954896202, 1.6265942148565502, 1.6265942148565502, 1.422010964148973, 1.422010964148973], \"colorbar\": {\"title\": {\"text\": \"Lift\"}}, \"colorscale\": [[0.0, \"rgb(243, 224, 247)\"], [0.16666666666666666, \"rgb(228, 199, 241)\"], [0.3333333333333333, \"rgb(209, 175, 232)\"], [0.5, \"rgb(185, 152, 221)\"], [0.6666666666666666, \"rgb(159, 130, 206)\"], [0.8333333333333334, \"rgb(130, 109, 186)\"], [1.0, \"rgb(99, 88, 159)\"]]}, \"mode\": \"markers\", \"text\": [\"('Coffee',) => ('Alfajores',), Lift: 1.1451110633858992\", \"('Alfajores',) => ('Coffee',), Lift: 1.1451110633858992\", \"('Brownie',) => ('Bread',), Lift: 0.8327513939725216\", \"('Bread',) => ('Brownie',), Lift: 0.8327513939725216\", \"('Cake',) => ('Bread',), Lift: 0.6979425162529914\", \"('Bread',) => ('Cake',), Lift: 0.6979425162529914\", \"('Coffee',) => ('Bread',), Lift: 0.5730318998127748\", \"('Bread',) => ('Coffee',), Lift: 0.5730318998127748\", \"('Cookies',) => ('Bread',), Lift: 0.819143037058619\", \"('Bread',) => ('Cookies',), Lift: 0.819143037058619\", \"('Hot chocolate',) => ('Bread',), Lift: 0.7132875962793047\", \"('Bread',) => ('Hot chocolate',), Lift: 0.7132875962793047\", \"('Medialuna',) => ('Bread',), Lift: 0.8439844118450122\", \"('Bread',) => ('Medialuna',), Lift: 0.8439844118450122\", \"('NONE',) => ('Bread',), Lift: 0.8050817060894851\", \"('Bread',) => ('NONE',), Lift: 0.8050817060894851\", \"('Pastry',) => ('Bread',), Lift: 1.0275675707778287\", \"('Bread',) => ('Pastry',), Lift: 1.0275675707778287\", \"('Sandwich',) => ('Bread',), Lift: 0.7352656454643813\", \"('Bread',) => ('Sandwich',), Lift: 0.7352656454643813\", \"('Tea',) => ('Bread',), Lift: 0.605560869988601\", \"('Bread',) => ('Tea',), Lift: 0.605560869988601\", \"('Coffee',) => ('Brownie',), Lift: 1.0337438475087195\", \"('Brownie',) => ('Coffee',), Lift: 1.0337438475087195\", \"('Coffee',) => ('Cake',), Lift: 1.1067972087915032\", \"('Cake',) => ('Coffee',), Lift: 1.1067972087915032\", \"('Hot chocolate',) => ('Cake',), Lift: 1.8879276097991613\", \"('Cake',) => ('Hot chocolate',), Lift: 1.8879276097991613\", \"('Tea',) => ('Cake',), Lift: 1.5925239539843208\", \"('Cake',) => ('Tea',), Lift: 1.5925239539843208\", \"('Cookies',) => ('Coffee',), Lift: 1.0956528421753722\", \"('Coffee',) => ('Cookies',), Lift: 1.0956528421753722\", \"('Hot chocolate',) => ('Coffee',), Lift: 1.0607863944017437\", \"('Coffee',) => ('Hot chocolate',), Lift: 1.0607863944017437\", \"('Juice',) => ('Coffee',), Lift: 1.1317309430006866\", \"('Coffee',) => ('Juice',), Lift: 1.1317309430006866\", \"('Medialuna',) => ('Coffee',), Lift: 1.1974967864149924\", \"('Coffee',) => ('Medialuna',), Lift: 1.1974967864149924\", \"('Muffin',) => ('Coffee',), Lift: 1.0325586438717607\", \"('Coffee',) => ('Muffin',), Lift: 1.0325586438717607\", \"('NONE',) => ('Coffee',), Lift: 1.116956974213962\", \"('Coffee',) => ('NONE',), Lift: 1.116956974213962\", \"('Pastry',) => ('Coffee',), Lift: 1.149554041148\", \"('Coffee',) => ('Pastry',), Lift: 1.149554041148\", \"('Sandwich',) => ('Coffee',), Lift: 1.127269905323607\", \"('Coffee',) => ('Sandwich',), Lift: 1.127269905323607\", \"('Scone',) => ('Coffee',), Lift: 1.1069690881363317\", \"('Coffee',) => ('Scone',), Lift: 1.1069690881363317\", \"('Soup',) => ('Coffee',), Lift: 0.9637142649657476\", \"('Coffee',) => ('Soup',), Lift: 0.9637142649657476\", \"('Spanish Brunch',) => ('Coffee',), Lift: 1.262717064490397\", \"('Coffee',) => ('Spanish Brunch',), Lift: 1.262717064490397\", \"('Tea',) => ('Coffee',), Lift: 0.7276115907636103\", \"('Coffee',) => ('Tea',), Lift: 0.7276115907636103\", \"('Toast',) => ('Coffee',), Lift: 1.4864837954896202\", \"('Coffee',) => ('Toast',), Lift: 1.4864837954896202\", \"('Tea',) => ('NONE',), Lift: 1.6265942148565502\", \"('NONE',) => ('Tea',), Lift: 1.6265942148565502\", \"('Tea',) => ('Sandwich',), Lift: 1.422010964148973\", \"('Sandwich',) => ('Tea',), Lift: 1.422010964148973\"], \"type\": \"scatter\", \"x\": [0.019103676166873192, 0.019103676166873192, 0.010429574555968608, 0.010429574555968608, 0.02271788517141677, 0.02271788517141677, 0.08612143742255267, 0.08612143742255267, 0.013940520446096654, 0.013940520446096654, 0.013011152416356878, 0.013011152416356878, 0.016315572077653863, 0.016315572077653863, 0.02003304419661297, 0.02003304419661297, 0.027674514663362248, 0.027674514663362248, 0.016522098306484923, 0.016522098306484923, 0.027054935976869064, 0.027054935976869064, 0.01900041305245766, 0.01900041305245766, 0.05287071458075176, 0.05287071458075176, 0.010945890128046263, 0.010945890128046263, 0.022614622057001238, 0.022614622057001238, 0.027364725320115656, 0.027364725320115656, 0.028397356464270964, 0.028397356464270964, 0.02003304419661297, 0.02003304419661297, 0.033973564642709626, 0.033973564642709626, 0.018277571251548948, 0.018277571251548948, 0.040788930194134654, 0.040788930194134654, 0.04543577034283354, 0.04543577034283354, 0.03717472118959108, 0.03717472118959108, 0.01755472945064023, 0.01755472945064023, 0.015282940933498555, 0.015282940933498555, 0.010532837670384139, 0.010532837670384139, 0.04770755885997522, 0.04770755885997522, 0.02292441140024783, 0.02292441140024783, 0.017657992565055763, 0.017657992565055763, 0.013940520446096654, 0.013940520446096654], \"y\": [0.04067722075637643, 0.5377906976744186, 0.26649076517150394, 0.03259115843820587, 0.2233502538071066, 0.07099064214262665, 0.18337730870712401, 0.2691190706679574, 0.2621359223300971, 0.04356243949661181, 0.22826086956521738, 0.04065827686350436, 0.27008547008547007, 0.050984188447886415, 0.25763612217795484, 0.06260083898031624, 0.32883435582822085, 0.08647950951919975, 0.23529411764705882, 0.05162955792191029, 0.1937869822485207, 0.0845434010971281, 0.040457343887423045, 0.48548812664907653, 0.11257695690413369, 0.5197969543147208, 0.19202898550724637, 0.10761421319796954, 0.16198224852071005, 0.22233502538071065, 0.5145631067961165, 0.05826737027264732, 0.49818840579710144, 0.06046613896218118, 0.5315068493150685, 0.0426561125769569, 0.5623931623931624, 0.07233948988566404, 0.4849315068493151, 0.03891820580474934, 0.5245683930942895, 0.08685136323658751, 0.5398773006134969, 0.09674582233948989, 0.5294117647058824, 0.079155672823219, 0.5198776758409785, 0.03737906772207564, 0.4525993883792049, 0.032541776605101144, 0.5930232558139535, 0.022427440633245383, 0.34171597633136097, 0.10158311345646438, 0.6981132075471698, 0.048812664907651716, 0.1264792899408284, 0.22709163346613545, 0.09985207100591716, 0.19852941176470587]}],\n",
              "                        {\"template\": {\"data\": {\"bar\": [{\"error_x\": {\"color\": \"#2a3f5f\"}, \"error_y\": {\"color\": \"#2a3f5f\"}, \"marker\": {\"line\": {\"color\": \"#E5ECF6\", \"width\": 0.5}}, \"type\": \"bar\"}], \"barpolar\": [{\"marker\": {\"line\": {\"color\": \"#E5ECF6\", \"width\": 0.5}}, \"type\": \"barpolar\"}], \"carpet\": [{\"aaxis\": {\"endlinecolor\": \"#2a3f5f\", \"gridcolor\": \"white\", \"linecolor\": \"white\", \"minorgridcolor\": \"white\", \"startlinecolor\": \"#2a3f5f\"}, \"baxis\": {\"endlinecolor\": \"#2a3f5f\", \"gridcolor\": \"white\", \"linecolor\": \"white\", \"minorgridcolor\": \"white\", \"startlinecolor\": \"#2a3f5f\"}, \"type\": \"carpet\"}], \"choropleth\": [{\"colorbar\": {\"outlinewidth\": 0, \"ticks\": \"\"}, \"type\": \"choropleth\"}], \"contour\": [{\"colorbar\": {\"outlinewidth\": 0, \"ticks\": \"\"}, \"colorscale\": [[0.0, \"#0d0887\"], [0.1111111111111111, \"#46039f\"], [0.2222222222222222, \"#7201a8\"], [0.3333333333333333, \"#9c179e\"], [0.4444444444444444, \"#bd3786\"], [0.5555555555555556, \"#d8576b\"], [0.6666666666666666, \"#ed7953\"], [0.7777777777777778, \"#fb9f3a\"], [0.8888888888888888, \"#fdca26\"], [1.0, \"#f0f921\"]], \"type\": \"contour\"}], \"contourcarpet\": [{\"colorbar\": {\"outlinewidth\": 0, \"ticks\": \"\"}, \"type\": \"contourcarpet\"}], \"heatmap\": [{\"colorbar\": {\"outlinewidth\": 0, \"ticks\": \"\"}, \"colorscale\": [[0.0, \"#0d0887\"], [0.1111111111111111, \"#46039f\"], [0.2222222222222222, \"#7201a8\"], [0.3333333333333333, \"#9c179e\"], [0.4444444444444444, \"#bd3786\"], [0.5555555555555556, \"#d8576b\"], [0.6666666666666666, \"#ed7953\"], [0.7777777777777778, \"#fb9f3a\"], [0.8888888888888888, \"#fdca26\"], [1.0, \"#f0f921\"]], \"type\": \"heatmap\"}], \"heatmapgl\": [{\"colorbar\": {\"outlinewidth\": 0, \"ticks\": \"\"}, \"colorscale\": [[0.0, \"#0d0887\"], [0.1111111111111111, \"#46039f\"], [0.2222222222222222, \"#7201a8\"], [0.3333333333333333, \"#9c179e\"], [0.4444444444444444, \"#bd3786\"], [0.5555555555555556, \"#d8576b\"], [0.6666666666666666, \"#ed7953\"], [0.7777777777777778, \"#fb9f3a\"], [0.8888888888888888, \"#fdca26\"], [1.0, \"#f0f921\"]], \"type\": \"heatmapgl\"}], \"histogram\": [{\"marker\": {\"colorbar\": {\"outlinewidth\": 0, \"ticks\": \"\"}}, \"type\": \"histogram\"}], \"histogram2d\": [{\"colorbar\": {\"outlinewidth\": 0, \"ticks\": \"\"}, \"colorscale\": [[0.0, \"#0d0887\"], [0.1111111111111111, \"#46039f\"], [0.2222222222222222, \"#7201a8\"], [0.3333333333333333, \"#9c179e\"], [0.4444444444444444, \"#bd3786\"], [0.5555555555555556, \"#d8576b\"], [0.6666666666666666, \"#ed7953\"], [0.7777777777777778, \"#fb9f3a\"], [0.8888888888888888, \"#fdca26\"], [1.0, \"#f0f921\"]], \"type\": \"histogram2d\"}], \"histogram2dcontour\": [{\"colorbar\": {\"outlinewidth\": 0, \"ticks\": \"\"}, \"colorscale\": [[0.0, \"#0d0887\"], [0.1111111111111111, \"#46039f\"], [0.2222222222222222, \"#7201a8\"], [0.3333333333333333, \"#9c179e\"], [0.4444444444444444, \"#bd3786\"], [0.5555555555555556, \"#d8576b\"], [0.6666666666666666, \"#ed7953\"], [0.7777777777777778, \"#fb9f3a\"], [0.8888888888888888, \"#fdca26\"], [1.0, \"#f0f921\"]], \"type\": \"histogram2dcontour\"}], \"mesh3d\": [{\"colorbar\": {\"outlinewidth\": 0, \"ticks\": \"\"}, \"type\": \"mesh3d\"}], \"parcoords\": [{\"line\": {\"colorbar\": {\"outlinewidth\": 0, \"ticks\": \"\"}}, \"type\": \"parcoords\"}], \"pie\": [{\"automargin\": true, \"type\": \"pie\"}], \"scatter\": [{\"marker\": {\"colorbar\": {\"outlinewidth\": 0, \"ticks\": \"\"}}, \"type\": \"scatter\"}], \"scatter3d\": [{\"line\": {\"colorbar\": {\"outlinewidth\": 0, \"ticks\": \"\"}}, \"marker\": {\"colorbar\": {\"outlinewidth\": 0, \"ticks\": \"\"}}, \"type\": \"scatter3d\"}], \"scattercarpet\": [{\"marker\": {\"colorbar\": {\"outlinewidth\": 0, \"ticks\": \"\"}}, \"type\": \"scattercarpet\"}], \"scattergeo\": [{\"marker\": {\"colorbar\": {\"outlinewidth\": 0, \"ticks\": \"\"}}, \"type\": \"scattergeo\"}], \"scattergl\": [{\"marker\": {\"colorbar\": {\"outlinewidth\": 0, \"ticks\": \"\"}}, \"type\": \"scattergl\"}], \"scattermapbox\": [{\"marker\": {\"colorbar\": {\"outlinewidth\": 0, \"ticks\": \"\"}}, \"type\": \"scattermapbox\"}], \"scatterpolar\": [{\"marker\": {\"colorbar\": {\"outlinewidth\": 0, \"ticks\": \"\"}}, \"type\": \"scatterpolar\"}], \"scatterpolargl\": [{\"marker\": {\"colorbar\": {\"outlinewidth\": 0, \"ticks\": \"\"}}, \"type\": \"scatterpolargl\"}], \"scatterternary\": [{\"marker\": {\"colorbar\": {\"outlinewidth\": 0, \"ticks\": \"\"}}, \"type\": \"scatterternary\"}], \"surface\": [{\"colorbar\": {\"outlinewidth\": 0, \"ticks\": \"\"}, \"colorscale\": [[0.0, \"#0d0887\"], [0.1111111111111111, \"#46039f\"], [0.2222222222222222, \"#7201a8\"], [0.3333333333333333, \"#9c179e\"], [0.4444444444444444, \"#bd3786\"], [0.5555555555555556, \"#d8576b\"], [0.6666666666666666, \"#ed7953\"], [0.7777777777777778, \"#fb9f3a\"], [0.8888888888888888, \"#fdca26\"], [1.0, \"#f0f921\"]], \"type\": \"surface\"}], \"table\": [{\"cells\": {\"fill\": {\"color\": \"#EBF0F8\"}, \"line\": {\"color\": \"white\"}}, \"header\": {\"fill\": {\"color\": \"#C8D4E3\"}, \"line\": {\"color\": \"white\"}}, \"type\": \"table\"}]}, \"layout\": {\"annotationdefaults\": {\"arrowcolor\": \"#2a3f5f\", \"arrowhead\": 0, \"arrowwidth\": 1}, \"coloraxis\": {\"colorbar\": {\"outlinewidth\": 0, \"ticks\": \"\"}}, \"colorscale\": {\"diverging\": [[0, \"#8e0152\"], [0.1, \"#c51b7d\"], [0.2, \"#de77ae\"], [0.3, \"#f1b6da\"], [0.4, \"#fde0ef\"], [0.5, \"#f7f7f7\"], [0.6, \"#e6f5d0\"], [0.7, \"#b8e186\"], [0.8, \"#7fbc41\"], [0.9, \"#4d9221\"], [1, \"#276419\"]], \"sequential\": [[0.0, \"#0d0887\"], [0.1111111111111111, \"#46039f\"], [0.2222222222222222, \"#7201a8\"], [0.3333333333333333, \"#9c179e\"], [0.4444444444444444, \"#bd3786\"], [0.5555555555555556, \"#d8576b\"], [0.6666666666666666, \"#ed7953\"], [0.7777777777777778, \"#fb9f3a\"], [0.8888888888888888, \"#fdca26\"], [1.0, \"#f0f921\"]], \"sequentialminus\": [[0.0, \"#0d0887\"], [0.1111111111111111, \"#46039f\"], [0.2222222222222222, \"#7201a8\"], [0.3333333333333333, \"#9c179e\"], [0.4444444444444444, \"#bd3786\"], [0.5555555555555556, \"#d8576b\"], [0.6666666666666666, \"#ed7953\"], [0.7777777777777778, \"#fb9f3a\"], [0.8888888888888888, \"#fdca26\"], [1.0, \"#f0f921\"]]}, \"colorway\": [\"#636efa\", \"#EF553B\", \"#00cc96\", \"#ab63fa\", \"#FFA15A\", \"#19d3f3\", \"#FF6692\", \"#B6E880\", \"#FF97FF\", \"#FECB52\"], \"font\": {\"color\": \"#2a3f5f\"}, \"geo\": {\"bgcolor\": \"white\", \"lakecolor\": \"white\", \"landcolor\": \"#E5ECF6\", \"showlakes\": true, \"showland\": true, \"subunitcolor\": \"white\"}, \"hoverlabel\": {\"align\": \"left\"}, \"hovermode\": \"closest\", \"mapbox\": {\"style\": \"light\"}, \"paper_bgcolor\": \"white\", \"plot_bgcolor\": \"#E5ECF6\", \"polar\": {\"angularaxis\": {\"gridcolor\": \"white\", \"linecolor\": \"white\", \"ticks\": \"\"}, \"bgcolor\": \"#E5ECF6\", \"radialaxis\": {\"gridcolor\": \"white\", \"linecolor\": \"white\", \"ticks\": \"\"}}, \"scene\": {\"xaxis\": {\"backgroundcolor\": \"#E5ECF6\", \"gridcolor\": \"white\", \"gridwidth\": 2, \"linecolor\": \"white\", \"showbackground\": true, \"ticks\": \"\", \"zerolinecolor\": \"white\"}, \"yaxis\": {\"backgroundcolor\": \"#E5ECF6\", \"gridcolor\": \"white\", \"gridwidth\": 2, \"linecolor\": \"white\", \"showbackground\": true, \"ticks\": \"\", \"zerolinecolor\": \"white\"}, \"zaxis\": {\"backgroundcolor\": \"#E5ECF6\", \"gridcolor\": \"white\", \"gridwidth\": 2, \"linecolor\": \"white\", \"showbackground\": true, \"ticks\": \"\", \"zerolinecolor\": \"white\"}}, \"shapedefaults\": {\"line\": {\"color\": \"#2a3f5f\"}}, \"ternary\": {\"aaxis\": {\"gridcolor\": \"white\", \"linecolor\": \"white\", \"ticks\": \"\"}, \"baxis\": {\"gridcolor\": \"white\", \"linecolor\": \"white\", \"ticks\": \"\"}, \"bgcolor\": \"#E5ECF6\", \"caxis\": {\"gridcolor\": \"white\", \"linecolor\": \"white\", \"ticks\": \"\"}}, \"title\": {\"x\": 0.05}, \"xaxis\": {\"automargin\": true, \"gridcolor\": \"white\", \"linecolor\": \"white\", \"ticks\": \"\", \"title\": {\"standoff\": 15}, \"zerolinecolor\": \"white\", \"zerolinewidth\": 2}, \"yaxis\": {\"automargin\": true, \"gridcolor\": \"white\", \"linecolor\": \"white\", \"ticks\": \"\", \"title\": {\"standoff\": 15}, \"zerolinecolor\": \"white\", \"zerolinewidth\": 2}}}, \"title\": {\"text\": \"Association Rules Strength Distribution\"}, \"xaxis\": {\"autorange\": \"reversed\", \"title\": {\"text\": \"Support\"}}, \"yaxis\": {\"title\": {\"text\": \"Confidence\"}}},\n",
              "                        {\"responsive\": true}\n",
              "                    ).then(function(){\n",
              "                            \n",
              "var gd = document.getElementById('e502e6ee-31cb-4c6d-8756-565ddeca0a58');\n",
              "var x = new MutationObserver(function (mutations, observer) {{\n",
              "        var display = window.getComputedStyle(gd).display;\n",
              "        if (!display || display === 'none') {{\n",
              "            console.log([gd, 'removed!']);\n",
              "            Plotly.purge(gd);\n",
              "            observer.disconnect();\n",
              "        }}\n",
              "}});\n",
              "\n",
              "// Listen for the removal of the full notebook cells\n",
              "var notebookContainer = gd.closest('#notebook-container');\n",
              "if (notebookContainer) {{\n",
              "    x.observe(notebookContainer, {childList: true});\n",
              "}}\n",
              "\n",
              "// Listen for the clearing of the current output cell\n",
              "var outputEl = gd.closest('.output');\n",
              "if (outputEl) {{\n",
              "    x.observe(outputEl, {childList: true});\n",
              "}}\n",
              "\n",
              "                        })\n",
              "                };\n",
              "                \n",
              "            </script>\n",
              "        </div>\n",
              "</body>\n",
              "</html>"
            ]
          },
          "metadata": {}
        }
      ]
    },
    {
      "cell_type": "code",
      "metadata": {
        "colab": {
          "base_uri": "https://localhost:8080/",
          "height": 542
        },
        "id": "7Bjx-B044j7-",
        "outputId": "5d7f7128-38e1-4f42-83c7-e0e3a04f0165"
      },
      "source": [
        "from efficient_apriori import apriori as eApriori\n",
        "from PyARMViz import Rule\n",
        "import csv\n",
        "\n",
        "class CSVHandler:\n",
        "    def __init__(self, transactions):\n",
        "        self.transactions = transactions\n",
        "\n",
        "    def read(self, filename):\n",
        "        with open(filename) as file:\n",
        "            reader = csv.reader(file)\n",
        "            for row in reader:\n",
        "                self.transactions.append(row)\n",
        "            return self.transactions\n",
        "        \n",
        "\n",
        "\n",
        "transactions = list()\n",
        "dataset = CSVHandler(transactions)\n",
        "transactions = dataset.read('my_dataset — копия.csv')\n",
        "\n",
        "freqItemSet, rules = apriori(transactions, min_support=8/30, min_confidence=0.4)\n",
        "\n",
        "PyARMViz.adjacency_graph_plotly(rules)"
      ],
      "execution_count": null,
      "outputs": [
        {
          "output_type": "display_data",
          "data": {
            "text/html": [
              "<html>\n",
              "<head><meta charset=\"utf-8\" /></head>\n",
              "<body>\n",
              "    <div>\n",
              "            <script src=\"https://cdnjs.cloudflare.com/ajax/libs/mathjax/2.7.5/MathJax.js?config=TeX-AMS-MML_SVG\"></script><script type=\"text/javascript\">if (window.MathJax) {MathJax.Hub.Config({SVG: {font: \"STIX-Web\"}});}</script>\n",
              "                <script type=\"text/javascript\">window.PlotlyConfig = {MathJaxConfig: 'local'};</script>\n",
              "        <script src=\"https://cdn.plot.ly/plotly-latest.min.js\"></script>    \n",
              "            <div id=\"0f9ff2a8-9dc2-496e-8629-3e1d858a3d7c\" class=\"plotly-graph-div\" style=\"height:525px; width:100%;\"></div>\n",
              "            <script type=\"text/javascript\">\n",
              "                \n",
              "                    window.PLOTLYENV=window.PLOTLYENV || {};\n",
              "                    \n",
              "                if (document.getElementById(\"0f9ff2a8-9dc2-496e-8629-3e1d858a3d7c\")) {\n",
              "                    Plotly.newPlot(\n",
              "                        '0f9ff2a8-9dc2-496e-8629-3e1d858a3d7c',\n",
              "                        [{\"hoverinfo\": \"none\", \"line\": {\"color\": \"#888\", \"width\": 0.5}, \"mode\": \"lines\", \"type\": \"scatter\", \"x\": [-0.03393991380628468, -0.08481747151856489, null, 0.1936937542888411, -0.03393991380628468, null, 0.1936937542888411, -0.18016658177834863, null, -0.08481747151856489, 0.9424257962095814, null, -0.08481747151856489, -0.8469626172738052, null, 0.9424257962095814, 0.1936937542888411, null, -0.7635227470867522, -0.08481747151856489, null, -0.10923268688653805, -0.7635227470867522, null, -0.10923268688653805, 0.8825224678518718, null, -0.8469626172738052, -0.10923268688653805, null, 0.8825224678518718, 0.1936937542888411, null, -0.18016658177834863, -0.10923268688653805, null], \"y\": [1.0, 0.1743653176827826, null, -0.014341242245672124, 1.0, null, -0.014341242245672124, -0.9863783780062773, null, 0.1743653176827826, 0.3357193657821815, null, 0.1743653176827826, -0.5296847196948358, null, 0.3357193657821815, -0.014341242245672124, null, 0.6483313036512676, 0.1743653176827826, null, -0.1604432687666647, 0.6483313036512676, null, -0.1604432687666647, -0.4675683784027812, null, -0.5296847196948358, -0.1604432687666647, null, -0.4675683784027812, -0.014341242245672124, null, -0.9863783780062773, -0.1604432687666647, null]}, {\"hoverinfo\": \"text\", \"marker\": {\"color\": [], \"colorbar\": {\"thickness\": 15, \"title\": {\"side\": \"right\", \"text\": \"Node Connections\"}, \"xanchor\": \"left\"}, \"colorscale\": [[0.0, \"rgb(255,255,217)\"], [0.125, \"rgb(237,248,177)\"], [0.25, \"rgb(199,233,180)\"], [0.375, \"rgb(127,205,187)\"], [0.5, \"rgb(65,182,196)\"], [0.625, \"rgb(29,145,192)\"], [0.75, \"rgb(34,94,168)\"], [0.875, \"rgb(37,52,148)\"], [1.0, \"rgb(8,29,88)\"]], \"line\": {\"width\": 2}, \"reversescale\": true, \"showscale\": true, \"size\": 10}, \"mode\": \"markers\", \"text\": [\"0\", \"\\u0424\\u0443\\u0442\\u0431\\u043e\\u043b\\u043a\\u0430\", \"\\u041a\\u0440\\u043e\\u0441\\u0441\\u043e\\u0432\\u043a\\u0438\", \"1\", \"2\", \"\\u0428\\u043e\\u0440\\u0442\\u044b\", \"3\", \"4\", \"5\"], \"type\": \"scatter\", \"x\": [-0.03393991380628468, 0.1936937542888411, -0.08481747151856489, 0.9424257962095814, -0.7635227470867522, -0.10923268688653805, -0.8469626172738052, 0.8825224678518718, -0.18016658177834863], \"y\": [1.0, -0.014341242245672124, 0.1743653176827826, 0.3357193657821815, 0.6483313036512676, -0.1604432687666647, -0.5296847196948358, -0.4675683784027812, -0.9863783780062773]}],\n",
              "                        {\"annotations\": [{\"showarrow\": false, \"text\": \"Python code: <a href='https://plotly.com/ipython-notebooks/network-graphs/'> https://plotly.com/ipython-notebooks/network-graphs/</a>\", \"x\": 0.005, \"xref\": \"paper\", \"y\": -0.002, \"yref\": \"paper\"}], \"hovermode\": \"closest\", \"margin\": {\"b\": 20, \"l\": 5, \"r\": 5, \"t\": 40}, \"showlegend\": false, \"template\": {\"data\": {\"bar\": [{\"error_x\": {\"color\": \"#2a3f5f\"}, \"error_y\": {\"color\": \"#2a3f5f\"}, \"marker\": {\"line\": {\"color\": \"#E5ECF6\", \"width\": 0.5}}, \"type\": \"bar\"}], \"barpolar\": [{\"marker\": {\"line\": {\"color\": \"#E5ECF6\", \"width\": 0.5}}, \"type\": \"barpolar\"}], \"carpet\": [{\"aaxis\": {\"endlinecolor\": \"#2a3f5f\", \"gridcolor\": \"white\", \"linecolor\": \"white\", \"minorgridcolor\": \"white\", \"startlinecolor\": \"#2a3f5f\"}, \"baxis\": {\"endlinecolor\": \"#2a3f5f\", \"gridcolor\": \"white\", \"linecolor\": \"white\", \"minorgridcolor\": \"white\", \"startlinecolor\": \"#2a3f5f\"}, \"type\": \"carpet\"}], \"choropleth\": [{\"colorbar\": {\"outlinewidth\": 0, \"ticks\": \"\"}, \"type\": \"choropleth\"}], \"contour\": [{\"colorbar\": {\"outlinewidth\": 0, \"ticks\": \"\"}, \"colorscale\": [[0.0, \"#0d0887\"], [0.1111111111111111, \"#46039f\"], [0.2222222222222222, \"#7201a8\"], [0.3333333333333333, \"#9c179e\"], [0.4444444444444444, \"#bd3786\"], [0.5555555555555556, \"#d8576b\"], [0.6666666666666666, \"#ed7953\"], [0.7777777777777778, \"#fb9f3a\"], [0.8888888888888888, \"#fdca26\"], [1.0, \"#f0f921\"]], \"type\": \"contour\"}], \"contourcarpet\": [{\"colorbar\": {\"outlinewidth\": 0, \"ticks\": \"\"}, \"type\": \"contourcarpet\"}], \"heatmap\": [{\"colorbar\": {\"outlinewidth\": 0, \"ticks\": \"\"}, \"colorscale\": [[0.0, \"#0d0887\"], [0.1111111111111111, \"#46039f\"], [0.2222222222222222, \"#7201a8\"], [0.3333333333333333, \"#9c179e\"], [0.4444444444444444, \"#bd3786\"], [0.5555555555555556, \"#d8576b\"], [0.6666666666666666, \"#ed7953\"], [0.7777777777777778, \"#fb9f3a\"], [0.8888888888888888, \"#fdca26\"], [1.0, \"#f0f921\"]], \"type\": \"heatmap\"}], \"heatmapgl\": [{\"colorbar\": {\"outlinewidth\": 0, \"ticks\": \"\"}, \"colorscale\": [[0.0, \"#0d0887\"], [0.1111111111111111, \"#46039f\"], [0.2222222222222222, \"#7201a8\"], [0.3333333333333333, \"#9c179e\"], [0.4444444444444444, \"#bd3786\"], [0.5555555555555556, \"#d8576b\"], [0.6666666666666666, \"#ed7953\"], [0.7777777777777778, \"#fb9f3a\"], [0.8888888888888888, \"#fdca26\"], [1.0, \"#f0f921\"]], \"type\": \"heatmapgl\"}], \"histogram\": [{\"marker\": {\"colorbar\": {\"outlinewidth\": 0, \"ticks\": \"\"}}, \"type\": \"histogram\"}], \"histogram2d\": [{\"colorbar\": {\"outlinewidth\": 0, \"ticks\": \"\"}, \"colorscale\": [[0.0, \"#0d0887\"], [0.1111111111111111, \"#46039f\"], [0.2222222222222222, \"#7201a8\"], [0.3333333333333333, \"#9c179e\"], [0.4444444444444444, \"#bd3786\"], [0.5555555555555556, \"#d8576b\"], [0.6666666666666666, \"#ed7953\"], [0.7777777777777778, \"#fb9f3a\"], [0.8888888888888888, \"#fdca26\"], [1.0, \"#f0f921\"]], \"type\": \"histogram2d\"}], \"histogram2dcontour\": [{\"colorbar\": {\"outlinewidth\": 0, \"ticks\": \"\"}, \"colorscale\": [[0.0, \"#0d0887\"], [0.1111111111111111, \"#46039f\"], [0.2222222222222222, \"#7201a8\"], [0.3333333333333333, \"#9c179e\"], [0.4444444444444444, \"#bd3786\"], [0.5555555555555556, \"#d8576b\"], [0.6666666666666666, \"#ed7953\"], [0.7777777777777778, \"#fb9f3a\"], [0.8888888888888888, \"#fdca26\"], [1.0, \"#f0f921\"]], \"type\": \"histogram2dcontour\"}], \"mesh3d\": [{\"colorbar\": {\"outlinewidth\": 0, \"ticks\": \"\"}, \"type\": \"mesh3d\"}], \"parcoords\": [{\"line\": {\"colorbar\": {\"outlinewidth\": 0, \"ticks\": \"\"}}, \"type\": \"parcoords\"}], \"pie\": [{\"automargin\": true, \"type\": \"pie\"}], \"scatter\": [{\"marker\": {\"colorbar\": {\"outlinewidth\": 0, \"ticks\": \"\"}}, \"type\": \"scatter\"}], \"scatter3d\": [{\"line\": {\"colorbar\": {\"outlinewidth\": 0, \"ticks\": \"\"}}, \"marker\": {\"colorbar\": {\"outlinewidth\": 0, \"ticks\": \"\"}}, \"type\": \"scatter3d\"}], \"scattercarpet\": [{\"marker\": {\"colorbar\": {\"outlinewidth\": 0, \"ticks\": \"\"}}, \"type\": \"scattercarpet\"}], \"scattergeo\": [{\"marker\": {\"colorbar\": {\"outlinewidth\": 0, \"ticks\": \"\"}}, \"type\": \"scattergeo\"}], \"scattergl\": [{\"marker\": {\"colorbar\": {\"outlinewidth\": 0, \"ticks\": \"\"}}, \"type\": \"scattergl\"}], \"scattermapbox\": [{\"marker\": {\"colorbar\": {\"outlinewidth\": 0, \"ticks\": \"\"}}, \"type\": \"scattermapbox\"}], \"scatterpolar\": [{\"marker\": {\"colorbar\": {\"outlinewidth\": 0, \"ticks\": \"\"}}, \"type\": \"scatterpolar\"}], \"scatterpolargl\": [{\"marker\": {\"colorbar\": {\"outlinewidth\": 0, \"ticks\": \"\"}}, \"type\": \"scatterpolargl\"}], \"scatterternary\": [{\"marker\": {\"colorbar\": {\"outlinewidth\": 0, \"ticks\": \"\"}}, \"type\": \"scatterternary\"}], \"surface\": [{\"colorbar\": {\"outlinewidth\": 0, \"ticks\": \"\"}, \"colorscale\": [[0.0, \"#0d0887\"], [0.1111111111111111, \"#46039f\"], [0.2222222222222222, \"#7201a8\"], [0.3333333333333333, \"#9c179e\"], [0.4444444444444444, \"#bd3786\"], [0.5555555555555556, \"#d8576b\"], [0.6666666666666666, \"#ed7953\"], [0.7777777777777778, \"#fb9f3a\"], [0.8888888888888888, \"#fdca26\"], [1.0, \"#f0f921\"]], \"type\": \"surface\"}], \"table\": [{\"cells\": {\"fill\": {\"color\": \"#EBF0F8\"}, \"line\": {\"color\": \"white\"}}, \"header\": {\"fill\": {\"color\": \"#C8D4E3\"}, \"line\": {\"color\": \"white\"}}, \"type\": \"table\"}]}, \"layout\": {\"annotationdefaults\": {\"arrowcolor\": \"#2a3f5f\", \"arrowhead\": 0, \"arrowwidth\": 1}, \"coloraxis\": {\"colorbar\": {\"outlinewidth\": 0, \"ticks\": \"\"}}, \"colorscale\": {\"diverging\": [[0, \"#8e0152\"], [0.1, \"#c51b7d\"], [0.2, \"#de77ae\"], [0.3, \"#f1b6da\"], [0.4, \"#fde0ef\"], [0.5, \"#f7f7f7\"], [0.6, \"#e6f5d0\"], [0.7, \"#b8e186\"], [0.8, \"#7fbc41\"], [0.9, \"#4d9221\"], [1, \"#276419\"]], \"sequential\": [[0.0, \"#0d0887\"], [0.1111111111111111, \"#46039f\"], [0.2222222222222222, \"#7201a8\"], [0.3333333333333333, \"#9c179e\"], [0.4444444444444444, \"#bd3786\"], [0.5555555555555556, \"#d8576b\"], [0.6666666666666666, \"#ed7953\"], [0.7777777777777778, \"#fb9f3a\"], [0.8888888888888888, \"#fdca26\"], [1.0, \"#f0f921\"]], \"sequentialminus\": [[0.0, \"#0d0887\"], [0.1111111111111111, \"#46039f\"], [0.2222222222222222, \"#7201a8\"], [0.3333333333333333, \"#9c179e\"], [0.4444444444444444, \"#bd3786\"], [0.5555555555555556, \"#d8576b\"], [0.6666666666666666, \"#ed7953\"], [0.7777777777777778, \"#fb9f3a\"], [0.8888888888888888, \"#fdca26\"], [1.0, \"#f0f921\"]]}, \"colorway\": [\"#636efa\", \"#EF553B\", \"#00cc96\", \"#ab63fa\", \"#FFA15A\", \"#19d3f3\", \"#FF6692\", \"#B6E880\", \"#FF97FF\", \"#FECB52\"], \"font\": {\"color\": \"#2a3f5f\"}, \"geo\": {\"bgcolor\": \"white\", \"lakecolor\": \"white\", \"landcolor\": \"#E5ECF6\", \"showlakes\": true, \"showland\": true, \"subunitcolor\": \"white\"}, \"hoverlabel\": {\"align\": \"left\"}, \"hovermode\": \"closest\", \"mapbox\": {\"style\": \"light\"}, \"paper_bgcolor\": \"white\", \"plot_bgcolor\": \"#E5ECF6\", \"polar\": {\"angularaxis\": {\"gridcolor\": \"white\", \"linecolor\": \"white\", \"ticks\": \"\"}, \"bgcolor\": \"#E5ECF6\", \"radialaxis\": {\"gridcolor\": \"white\", \"linecolor\": \"white\", \"ticks\": \"\"}}, \"scene\": {\"xaxis\": {\"backgroundcolor\": \"#E5ECF6\", \"gridcolor\": \"white\", \"gridwidth\": 2, \"linecolor\": \"white\", \"showbackground\": true, \"ticks\": \"\", \"zerolinecolor\": \"white\"}, \"yaxis\": {\"backgroundcolor\": \"#E5ECF6\", \"gridcolor\": \"white\", \"gridwidth\": 2, \"linecolor\": \"white\", \"showbackground\": true, \"ticks\": \"\", \"zerolinecolor\": \"white\"}, \"zaxis\": {\"backgroundcolor\": \"#E5ECF6\", \"gridcolor\": \"white\", \"gridwidth\": 2, \"linecolor\": \"white\", \"showbackground\": true, \"ticks\": \"\", \"zerolinecolor\": \"white\"}}, \"shapedefaults\": {\"line\": {\"color\": \"#2a3f5f\"}}, \"ternary\": {\"aaxis\": {\"gridcolor\": \"white\", \"linecolor\": \"white\", \"ticks\": \"\"}, \"baxis\": {\"gridcolor\": \"white\", \"linecolor\": \"white\", \"ticks\": \"\"}, \"bgcolor\": \"#E5ECF6\", \"caxis\": {\"gridcolor\": \"white\", \"linecolor\": \"white\", \"ticks\": \"\"}}, \"title\": {\"x\": 0.05}, \"xaxis\": {\"automargin\": true, \"gridcolor\": \"white\", \"linecolor\": \"white\", \"ticks\": \"\", \"title\": {\"standoff\": 15}, \"zerolinecolor\": \"white\", \"zerolinewidth\": 2}, \"yaxis\": {\"automargin\": true, \"gridcolor\": \"white\", \"linecolor\": \"white\", \"ticks\": \"\", \"title\": {\"standoff\": 15}, \"zerolinecolor\": \"white\", \"zerolinewidth\": 2}}}, \"title\": {\"font\": {\"size\": 16}, \"text\": \"<br>Network graph made with Python\"}, \"xaxis\": {\"showgrid\": false, \"showticklabels\": false, \"zeroline\": false}, \"yaxis\": {\"showgrid\": false, \"showticklabels\": false, \"zeroline\": false}},\n",
              "                        {\"responsive\": true}\n",
              "                    ).then(function(){\n",
              "                            \n",
              "var gd = document.getElementById('0f9ff2a8-9dc2-496e-8629-3e1d858a3d7c');\n",
              "var x = new MutationObserver(function (mutations, observer) {{\n",
              "        var display = window.getComputedStyle(gd).display;\n",
              "        if (!display || display === 'none') {{\n",
              "            console.log([gd, 'removed!']);\n",
              "            Plotly.purge(gd);\n",
              "            observer.disconnect();\n",
              "        }}\n",
              "}});\n",
              "\n",
              "// Listen for the removal of the full notebook cells\n",
              "var notebookContainer = gd.closest('#notebook-container');\n",
              "if (notebookContainer) {{\n",
              "    x.observe(notebookContainer, {childList: true});\n",
              "}}\n",
              "\n",
              "// Listen for the clearing of the current output cell\n",
              "var outputEl = gd.closest('.output');\n",
              "if (outputEl) {{\n",
              "    x.observe(outputEl, {childList: true});\n",
              "}}\n",
              "\n",
              "                        })\n",
              "                };\n",
              "                \n",
              "            </script>\n",
              "        </div>\n",
              "</body>\n",
              "</html>"
            ]
          },
          "metadata": {}
        }
      ]
    },
    {
      "cell_type": "code",
      "metadata": {
        "colab": {
          "base_uri": "https://localhost:8080/",
          "height": 542
        },
        "id": "qOrM59gH9A3X",
        "outputId": "b16b8374-507c-4c42-c2ff-fef78acc60d3"
      },
      "source": [
        "from efficient_apriori import apriori as eApriori\n",
        "from PyARMViz import Rule\n",
        "import csv\n",
        "\n",
        "class CSVHandler:\n",
        "    def __init__(self, transactions):\n",
        "        self.transactions = transactions\n",
        "\n",
        "    def read(self, filename):\n",
        "        with open(filename) as file:\n",
        "            reader = csv.reader(file)\n",
        "            for row in reader:\n",
        "                self.transactions.append(row)\n",
        "            return self.transactions\n",
        "        \n",
        "transactions = list()\n",
        "dataset = CSVHandler(transactions)\n",
        "transactions = dataset.read('BigDataSet.csv')\n",
        "\n",
        "freqItemSet, rules = apriori(transactions, min_support=0.01, min_confidence=0.01)\n",
        "\n",
        "PyARMViz.adjacency_graph_plotly(rules)"
      ],
      "execution_count": null,
      "outputs": [
        {
          "output_type": "display_data",
          "data": {
            "text/html": [
              "<html>\n",
              "<head><meta charset=\"utf-8\" /></head>\n",
              "<body>\n",
              "    <div>\n",
              "            <script src=\"https://cdnjs.cloudflare.com/ajax/libs/mathjax/2.7.5/MathJax.js?config=TeX-AMS-MML_SVG\"></script><script type=\"text/javascript\">if (window.MathJax) {MathJax.Hub.Config({SVG: {font: \"STIX-Web\"}});}</script>\n",
              "                <script type=\"text/javascript\">window.PlotlyConfig = {MathJaxConfig: 'local'};</script>\n",
              "        <script src=\"https://cdn.plot.ly/plotly-latest.min.js\"></script>    \n",
              "            <div id=\"65c73e36-5ec0-423f-9890-c1e66663fb40\" class=\"plotly-graph-div\" style=\"height:525px; width:100%;\"></div>\n",
              "            <script type=\"text/javascript\">\n",
              "                \n",
              "                    window.PLOTLYENV=window.PLOTLYENV || {};\n",
              "                    \n",
              "                if (document.getElementById(\"65c73e36-5ec0-423f-9890-c1e66663fb40\")) {\n",
              "                    Plotly.newPlot(\n",
              "                        '65c73e36-5ec0-423f-9890-c1e66663fb40',\n",
              "                        [{\"hoverinfo\": \"none\", \"line\": {\"color\": \"#888\", \"width\": 0.5}, \"mode\": \"lines\", \"type\": \"scatter\", \"x\": [0.006406111646462532, -0.004892919171123799, null, -0.02721755940215554, 0.006406111646462532, null, -0.02721755940215554, 0.19110289718771717, null, -0.02721755940215554, -0.03567602841635996, null, -0.02721755940215554, 0.00830063761888545, null, -0.02721755940215554, 0.3823841904168591, null, -0.02721755940215554, 0.3322928201862903, null, -0.02721755940215554, -0.8425119872499476, null, -0.02721755940215554, 0.7448909350238825, null, -0.02721755940215554, 0.4625345140260733, null, -0.02721755940215554, -0.06847041278454014, null, -0.02721755940215554, 0.35838599666554893, null, -0.02721755940215554, -0.43587941937026276, null, -0.02721755940215554, -0.5630030279462117, null, -0.02721755940215554, -0.3032149921392115, null, -0.02721755940215554, -0.8497706948110952, null, -0.02721755940215554, -0.28789029307432723, null, -0.02721755940215554, 0.3124650877025211, null, -0.02721755940215554, 0.29814846252668226, null, -0.02721755940215554, 0.36430628438339957, null, -0.02721755940215554, 0.2290034594827549, null, -0.004892919171123799, -0.01922988285911403, null, -0.01922988285911403, -0.02721755940215554, null, 0.27249422877040314, 0.06977703383646008, null, 0.15437414803024305, 0.27249422877040314, null, 0.15437414803024305, -0.09717221515496077, null, 0.06977703383646008, -0.041299142013690615, null, 0.06977703383646008, 0.1159835907735582, null, 0.06977703383646008, -0.23936052986646572, null, 0.06977703383646008, 0.3284688688116606, null, 0.06977703383646008, 0.20114577401977565, null, 0.06977703383646008, 0.741989778409512, null, 0.06977703383646008, -0.15711277831625914, null, 0.06977703383646008, 0.4303123524121596, null, 0.06977703383646008, -0.4061761152374043, null, 0.06977703383646008, -0.4296880648577262, null, 0.06977703383646008, -0.3445899525262623, null, 0.06977703383646008, 0.36430628438339957, null, 0.06977703383646008, 0.1751976292295483, null, -0.041299142013690615, 0.15437414803024305, null, 0.39237652242087273, 0.06977703383646008, null, -0.015136378703989479, 0.39237652242087273, null, -0.015136378703989479, -0.3423206455784331, null, -0.015136378703989479, 0.27225483148021734, null, -0.015136378703989479, -0.21568306277017102, null, 0.1159835907735582, -0.015136378703989479, null, 0.19110289718771717, 0.06977703383646008, null, -0.23936052986646572, -0.02721755940215554, null, 0.3752337542527308, 0.06977703383646008, null, 0.08460457945857701, 0.3752337542527308, null, 0.08460457945857701, -0.2630629210243408, null, 0.3284688688116606, 0.08460457945857701, null, 0.4311067206422426, 0.06977703383646008, null, 0.06557236098787111, 0.4311067206422426, null, 0.06557236098787111, 0.044833235197324, null, 0.06557236098787111, -0.25390287967532166, null, 0.20114577401977565, 0.06557236098787111, null, 0.34330082248321486, 0.06977703383646008, null, 0.41610115894461214, 0.34330082248321486, null, 0.41610115894461214, 0.19877708733635663, null, 0.741989778409512, 0.41610115894461214, null, 0.3000850656369135, 0.06977703383646008, null, -0.02102900647841585, 0.3000850656369135, null, -0.02102900647841585, 0.17181003862073357, null, -0.02102900647841585, -0.3819464737741478, null, -0.15711277831625914, -0.02102900647841585, null, 0.4023741419936151, 0.06977703383646008, null, 0.08654444954633347, 0.4023741419936151, null, 0.08654444954633347, 0.012700130812034404, null, 0.08654444954633347, 0.29814846252668226, null, 0.08654444954633347, -0.3445899525262623, null, 0.08654444954633347, -0.013372795881832452, null, 0.4303123524121596, 0.08654444954633347, null, 0.2107475736428, 0.06977703383646008, null, -0.14154538581643789, 0.2107475736428, null, -0.14154538581643789, -0.17600602474283034, null, -0.14154538581643789, -0.31884169974381565, null, -0.4061761152374043, -0.14154538581643789, null, 0.10989741425737391, 0.06977703383646008, null, -0.1674982551168486, 0.10989741425737391, null, -0.1674982551168486, -0.0663808140589844, null, -0.1674982551168486, -0.330741402872833, null, -0.1674982551168486, 0.021996746080474697, null, -0.1674982551168486, -0.3380392941535203, null, -0.4296880648577262, -0.1674982551168486, null, -0.03567602841635996, 0.15437414803024305, null, -0.09717221515496077, -0.02721755940215554, null, 0.00830063761888545, -0.015136378703989479, null, -0.3423206455784331, -0.02721755940215554, null, 0.044833235197324, -0.015136378703989479, null, 0.27225483148021734, 0.06557236098787111, null, -0.0663808140589844, -0.015136378703989479, null, -0.21568306277017102, -0.1674982551168486, null, -0.2630629210243408, -0.02721755940215554, null, 0.3823841904168591, 0.08460457945857701, null, -0.25390287967532166, -0.02721755940215554, null, 0.3322928201862903, 0.06557236098787111, null, -0.24745623963651048, -0.02721755940215554, null, -0.5605228861854177, -0.24745623963651048, null, -0.8425119872499476, -0.5605228861854177, null, 0.19877708733635663, -0.02721755940215554, null, 0.7448909350238825, 0.41610115894461214, null, 0.10043892274889996, -0.02721755940215554, null, 0.2827302507515848, 0.10043892274889996, null, 0.4625345140260733, 0.2827302507515848, null, 0.17181003862073357, -0.02721755940215554, null, -0.06847041278454014, -0.02102900647841585, null, 0.012700130812034404, -0.02721755940215554, null, 0.35838599666554893, 0.08654444954633347, null, -0.17600602474283034, -0.02721755940215554, null, -0.43587941937026276, -0.14154538581643789, null, -0.18530226457895652, -0.02721755940215554, null, -0.37697088396395917, -0.18530226457895652, null, -0.5630030279462117, -0.37697088396395917, null, -0.10122583692972659, -0.02721755940215554, null, -0.20515768253868524, -0.10122583692972659, null, -0.3032149921392115, -0.20515768253868524, null, -0.3117490096898579, -0.02721755940215554, null, -0.5860373631374834, -0.3117490096898579, null, -0.8497706948110952, -0.5860373631374834, null, -0.330741402872833, -0.02721755940215554, null, -0.28789029307432723, -0.1674982551168486, null, 0.07133690162629484, -0.02721755940215554, null, 0.19829771216816433, 0.07133690162629484, null, 0.3124650877025211, 0.19829771216816433, null, 0.021996746080474697, -0.02102900647841585, null, -0.3819464737741478, -0.1674982551168486, null, -0.3380392941535203, -0.14154538581643789, null, -0.31884169974381565, -0.1674982551168486, null, 0.29814846252668226, 0.06977703383646008, null, -0.3445899525262623, -0.02721755940215554, null, 0.36430628438339957, 0.08654444954633347, null, -0.013372795881832452, 0.06977703383646008, null, -0.013372795881832452, -0.02721755940215554, null, 0.2290034594827549, 0.06977703383646008, null, 0.2290034594827549, 0.08654444954633347, null, 0.1751976292295483, -0.02721755940215554, null, 0.1751976292295483, 0.08654444954633347, null], \"y\": [1.0, 0.7023734479070137, null, 0.1401925163688442, 1.0, null, 0.1401925163688442, -0.4329583952195064, null, 0.1401925163688442, -0.09294404607698487, null, 0.1401925163688442, -0.7418079982610943, null, 0.1401925163688442, 0.3104637338962501, null, 0.1401925163688442, -0.5627333945264652, null, 0.1401925163688442, 0.0935450142540147, null, 0.1401925163688442, -0.07221538976552228, null, 0.1401925163688442, 0.9397817753811113, null, 0.1401925163688442, -0.5041147057239974, null, 0.1401925163688442, 0.17239409109899387, null, 0.1401925163688442, -0.31681924263947003, null, 0.1401925163688442, 0.862404993153173, null, 0.1401925163688442, 0.9175108852302702, null, 0.1401925163688442, 0.5031049916611384, null, 0.1401925163688442, -0.7350724869496159, null, 0.1401925163688442, 0.9037061030875508, null, 0.1401925163688442, -0.29455720719767514, null, 0.1401925163688442, 0.07389117422283545, null, 0.1401925163688442, -0.07459783615713293, null, 0.7023734479070137, 0.388576042732849, null, 0.388576042732849, 0.1401925163688442, null, -0.41158048243642, -0.1517712156742745, null, 0.016620054356406348, -0.41158048243642, null, 0.016620054356406348, 0.45642939957396617, null, -0.1517712156742745, 0.03359324893338207, null, -0.1517712156742745, -0.709257750987244, null, -0.1517712156742745, 0.24711660305950334, null, -0.1517712156742745, 0.38011371288565454, null, -0.1517712156742745, -0.6306430518153181, null, -0.1517712156742745, 0.028130247607511195, null, -0.1517712156742745, -0.47475963128040066, null, -0.1517712156742745, 0.10798250998614975, null, -0.1517712156742745, -0.3988024978052765, null, -0.1517712156742745, -0.5976805865294249, null, -0.1517712156742745, 0.21506812262491407, null, -0.1517712156742745, 0.07389117422283545, null, -0.1517712156742745, 0.1703171153688745, null, 0.03359324893338207, 0.016620054356406348, null, -0.2603175953705761, -0.1517712156742745, null, -0.35766547969267753, -0.2603175953705761, null, -0.35766547969267753, 0.12997821620726016, null, -0.35766547969267753, -0.6130775524088213, null, -0.35766547969267753, -0.7271831164396766, null, -0.709257750987244, -0.35766547969267753, null, -0.4329583952195064, -0.1517712156742745, null, 0.24711660305950334, 0.1401925163688442, null, -0.1395657169842048, -0.1517712156742745, null, 0.14641694599730315, -0.1395657169842048, null, 0.14641694599730315, 0.36846402182722265, null, 0.38011371288565454, 0.14641694599730315, null, -0.19776258526613288, -0.1517712156742745, null, -0.30361414747687143, -0.19776258526613288, null, -0.30361414747687143, -0.6820546620974216, null, -0.30361414747687143, 0.02795054618239892, null, -0.6306430518153181, -0.30361414747687143, null, -0.3813674195831115, -0.1517712156742745, null, -0.02507368756767391, -0.3813674195831115, null, -0.02507368756767391, 0.30357937027659454, null, 0.028130247607511195, -0.02507368756767391, null, -0.19924170829870497, -0.1517712156742745, null, -0.1977845793247536, -0.19924170829870497, null, -0.1977845793247536, 0.3828678898420179, null, -0.1977845793247536, -0.6822611910630864, null, -0.47475963128040066, -0.1977845793247536, null, -0.33109237043183837, -0.1517712156742745, null, 0.02087192551162738, -0.33109237043183837, null, 0.02087192551162738, 0.4630410491154121, null, 0.02087192551162738, -0.29455720719767514, null, 0.02087192551162738, 0.21506812262491407, null, 0.02087192551162738, -0.028722031622967117, null, 0.10798250998614975, 0.02087192551162738, null, -0.33307007221809815, -0.1517712156742745, null, -0.23182122032557476, -0.33307007221809815, null, -0.23182122032557476, 0.3101948809224126, null, -0.23182122032557476, -0.6501978974758159, null, -0.3988024978052765, -0.23182122032557476, null, -0.42448197128924414, -0.1517712156742745, null, -0.38953965224312637, -0.42448197128924414, null, -0.38953965224312637, -0.6962684664813754, null, -0.38953965224312637, 0.04563918699729701, null, -0.38953965224312637, -0.5092782208741413, null, -0.38953965224312637, -0.4575865507018564, null, -0.5976805865294249, -0.38953965224312637, null, -0.09294404607698487, 0.016620054356406348, null, 0.45642939957396617, 0.1401925163688442, null, -0.7418079982610943, -0.35766547969267753, null, 0.12997821620726016, 0.1401925163688442, null, -0.6820546620974216, -0.35766547969267753, null, -0.6130775524088213, -0.30361414747687143, null, -0.6962684664813754, -0.35766547969267753, null, -0.7271831164396766, -0.38953965224312637, null, 0.36846402182722265, 0.1401925163688442, null, 0.3104637338962501, 0.14641694599730315, null, 0.02795054618239892, 0.1401925163688442, null, -0.5627333945264652, -0.30361414747687143, null, 0.14902465880048216, 0.1401925163688442, null, 0.1463300404167093, 0.14902465880048216, null, 0.0935450142540147, 0.1463300404167093, null, 0.30357937027659454, 0.1401925163688442, null, -0.07221538976552228, -0.02507368756767391, null, 0.43151575738975173, 0.1401925163688442, null, 0.6954192621433132, 0.43151575738975173, null, 0.9397817753811113, 0.6954192621433132, null, 0.3828678898420179, 0.1401925163688442, null, -0.5041147057239974, -0.1977845793247536, null, 0.4630410491154121, 0.1401925163688442, null, 0.17239409109899387, 0.02087192551162738, null, 0.3101948809224126, 0.1401925163688442, null, -0.31681924263947003, -0.23182122032557476, null, 0.41518051787427057, 0.1401925163688442, null, 0.6427696830290139, 0.41518051787427057, null, 0.862404993153173, 0.6427696830290139, null, 0.3581747612025885, 0.1401925163688442, null, 0.6560249280604595, 0.3581747612025885, null, 0.9175108852302702, 0.6560249280604595, null, 0.292730496094284, 0.1401925163688442, null, 0.4068713533048303, 0.292730496094284, null, 0.5031049916611384, 0.4068713533048303, null, 0.04563918699729701, 0.1401925163688442, null, -0.7350724869496159, -0.38953965224312637, null, 0.34092098602893955, 0.1401925163688442, null, 0.6240615536689811, 0.34092098602893955, null, 0.9037061030875508, 0.6240615536689811, null, -0.5092782208741413, -0.1977845793247536, null, -0.6822611910630864, -0.38953965224312637, null, -0.4575865507018564, -0.23182122032557476, null, -0.6501978974758159, -0.38953965224312637, null, -0.29455720719767514, -0.1517712156742745, null, 0.21506812262491407, 0.1401925163688442, null, 0.07389117422283545, 0.02087192551162738, null, -0.028722031622967117, -0.1517712156742745, null, -0.028722031622967117, 0.1401925163688442, null, -0.07459783615713293, -0.1517712156742745, null, -0.07459783615713293, 0.02087192551162738, null, 0.1703171153688745, 0.1401925163688442, null, 0.1703171153688745, 0.02087192551162738, null]}, {\"hoverinfo\": \"text\", \"marker\": {\"color\": [], \"colorbar\": {\"thickness\": 15, \"title\": {\"side\": \"right\", \"text\": \"Node Connections\"}, \"xanchor\": \"left\"}, \"colorscale\": [[0.0, \"rgb(255,255,217)\"], [0.125, \"rgb(237,248,177)\"], [0.25, \"rgb(199,233,180)\"], [0.375, \"rgb(127,205,187)\"], [0.5, \"rgb(65,182,196)\"], [0.625, \"rgb(29,145,192)\"], [0.75, \"rgb(34,94,168)\"], [0.875, \"rgb(37,52,148)\"], [1.0, \"rgb(8,29,88)\"]], \"line\": {\"width\": 2}, \"reversescale\": true, \"showscale\": true, \"size\": 10}, \"mode\": \"markers\", \"text\": [\"0\", \"Coffee\", \"Alfajores\", \"1\", \"2\", \"Brownie\", \"Bread\", \"3\", \"4\", \"Cake\", \"5\", \"6\", \"7\", \"8\", \"Cookies\", \"9\", \"10\", \"Hot chocolate\", \"11\", \"12\", \"Medialuna\", \"13\", \"14\", \"NONE\", \"15\", \"16\", \"Pastry\", \"17\", \"18\", \"Sandwich\", \"19\", \"20\", \"Tea\", \"21\", \"22\", \"23\", \"24\", \"25\", \"26\", \"27\", \"28\", \"29\", \"30\", \"31\", \"32\", \"33\", \"34\", \"Juice\", \"35\", \"36\", \"37\", \"38\", \"Muffin\", \"39\", \"40\", \"41\", \"42\", \"43\", \"44\", \"45\", \"46\", \"Scone\", \"47\", \"48\", \"Soup\", \"49\", \"50\", \"Spanish Brunch\", \"51\", \"52\", \"53\", \"54\", \"Toast\", \"55\", \"56\", \"57\", \"58\", \"59\", \"60\", \"61\", \"62\", \"63\", \"64\", \"65\"], \"type\": \"scatter\", \"x\": [0.006406111646462532, -0.02721755940215554, -0.004892919171123799, -0.01922988285911403, 0.27249422877040314, 0.15437414803024305, 0.06977703383646008, -0.041299142013690615, 0.39237652242087273, -0.015136378703989479, 0.1159835907735582, 0.19110289718771717, -0.23936052986646572, 0.3752337542527308, 0.08460457945857701, 0.3284688688116606, 0.4311067206422426, 0.06557236098787111, 0.20114577401977565, 0.34330082248321486, 0.41610115894461214, 0.741989778409512, 0.3000850656369135, -0.02102900647841585, -0.15711277831625914, 0.4023741419936151, 0.08654444954633347, 0.4303123524121596, 0.2107475736428, -0.14154538581643789, -0.4061761152374043, 0.10989741425737391, -0.1674982551168486, -0.4296880648577262, -0.03567602841635996, -0.09717221515496077, 0.00830063761888545, -0.3423206455784331, 0.044833235197324, 0.27225483148021734, -0.0663808140589844, -0.21568306277017102, -0.2630629210243408, 0.3823841904168591, -0.25390287967532166, 0.3322928201862903, -0.24745623963651048, -0.5605228861854177, -0.8425119872499476, 0.19877708733635663, 0.7448909350238825, 0.10043892274889996, 0.2827302507515848, 0.4625345140260733, 0.17181003862073357, -0.06847041278454014, 0.012700130812034404, 0.35838599666554893, -0.17600602474283034, -0.43587941937026276, -0.18530226457895652, -0.37697088396395917, -0.5630030279462117, -0.10122583692972659, -0.20515768253868524, -0.3032149921392115, -0.3117490096898579, -0.5860373631374834, -0.8497706948110952, -0.330741402872833, -0.28789029307432723, 0.07133690162629484, 0.19829771216816433, 0.3124650877025211, 0.021996746080474697, -0.3819464737741478, -0.3380392941535203, -0.31884169974381565, 0.29814846252668226, -0.3445899525262623, 0.36430628438339957, -0.013372795881832452, 0.2290034594827549, 0.1751976292295483], \"y\": [1.0, 0.1401925163688442, 0.7023734479070137, 0.388576042732849, -0.41158048243642, 0.016620054356406348, -0.1517712156742745, 0.03359324893338207, -0.2603175953705761, -0.35766547969267753, -0.709257750987244, -0.4329583952195064, 0.24711660305950334, -0.1395657169842048, 0.14641694599730315, 0.38011371288565454, -0.19776258526613288, -0.30361414747687143, -0.6306430518153181, -0.3813674195831115, -0.02507368756767391, 0.028130247607511195, -0.19924170829870497, -0.1977845793247536, -0.47475963128040066, -0.33109237043183837, 0.02087192551162738, 0.10798250998614975, -0.33307007221809815, -0.23182122032557476, -0.3988024978052765, -0.42448197128924414, -0.38953965224312637, -0.5976805865294249, -0.09294404607698487, 0.45642939957396617, -0.7418079982610943, 0.12997821620726016, -0.6820546620974216, -0.6130775524088213, -0.6962684664813754, -0.7271831164396766, 0.36846402182722265, 0.3104637338962501, 0.02795054618239892, -0.5627333945264652, 0.14902465880048216, 0.1463300404167093, 0.0935450142540147, 0.30357937027659454, -0.07221538976552228, 0.43151575738975173, 0.6954192621433132, 0.9397817753811113, 0.3828678898420179, -0.5041147057239974, 0.4630410491154121, 0.17239409109899387, 0.3101948809224126, -0.31681924263947003, 0.41518051787427057, 0.6427696830290139, 0.862404993153173, 0.3581747612025885, 0.6560249280604595, 0.9175108852302702, 0.292730496094284, 0.4068713533048303, 0.5031049916611384, 0.04563918699729701, -0.7350724869496159, 0.34092098602893955, 0.6240615536689811, 0.9037061030875508, -0.5092782208741413, -0.6822611910630864, -0.4575865507018564, -0.6501978974758159, -0.29455720719767514, 0.21506812262491407, 0.07389117422283545, -0.028722031622967117, -0.07459783615713293, 0.1703171153688745]}],\n",
              "                        {\"annotations\": [{\"showarrow\": false, \"text\": \"Python code: <a href='https://plotly.com/ipython-notebooks/network-graphs/'> https://plotly.com/ipython-notebooks/network-graphs/</a>\", \"x\": 0.005, \"xref\": \"paper\", \"y\": -0.002, \"yref\": \"paper\"}], \"hovermode\": \"closest\", \"margin\": {\"b\": 20, \"l\": 5, \"r\": 5, \"t\": 40}, \"showlegend\": false, \"template\": {\"data\": {\"bar\": [{\"error_x\": {\"color\": \"#2a3f5f\"}, \"error_y\": {\"color\": \"#2a3f5f\"}, \"marker\": {\"line\": {\"color\": \"#E5ECF6\", \"width\": 0.5}}, \"type\": \"bar\"}], \"barpolar\": [{\"marker\": {\"line\": {\"color\": \"#E5ECF6\", \"width\": 0.5}}, \"type\": \"barpolar\"}], \"carpet\": [{\"aaxis\": {\"endlinecolor\": \"#2a3f5f\", \"gridcolor\": \"white\", \"linecolor\": \"white\", \"minorgridcolor\": \"white\", \"startlinecolor\": \"#2a3f5f\"}, \"baxis\": {\"endlinecolor\": \"#2a3f5f\", \"gridcolor\": \"white\", \"linecolor\": \"white\", \"minorgridcolor\": \"white\", \"startlinecolor\": \"#2a3f5f\"}, \"type\": \"carpet\"}], \"choropleth\": [{\"colorbar\": {\"outlinewidth\": 0, \"ticks\": \"\"}, \"type\": \"choropleth\"}], \"contour\": [{\"colorbar\": {\"outlinewidth\": 0, \"ticks\": \"\"}, \"colorscale\": [[0.0, \"#0d0887\"], [0.1111111111111111, \"#46039f\"], [0.2222222222222222, \"#7201a8\"], [0.3333333333333333, \"#9c179e\"], [0.4444444444444444, \"#bd3786\"], [0.5555555555555556, \"#d8576b\"], [0.6666666666666666, \"#ed7953\"], [0.7777777777777778, \"#fb9f3a\"], [0.8888888888888888, \"#fdca26\"], [1.0, \"#f0f921\"]], \"type\": \"contour\"}], \"contourcarpet\": [{\"colorbar\": {\"outlinewidth\": 0, \"ticks\": \"\"}, \"type\": \"contourcarpet\"}], \"heatmap\": [{\"colorbar\": {\"outlinewidth\": 0, \"ticks\": \"\"}, \"colorscale\": [[0.0, \"#0d0887\"], [0.1111111111111111, \"#46039f\"], [0.2222222222222222, \"#7201a8\"], [0.3333333333333333, \"#9c179e\"], [0.4444444444444444, \"#bd3786\"], [0.5555555555555556, \"#d8576b\"], [0.6666666666666666, \"#ed7953\"], [0.7777777777777778, \"#fb9f3a\"], [0.8888888888888888, \"#fdca26\"], [1.0, \"#f0f921\"]], \"type\": \"heatmap\"}], \"heatmapgl\": [{\"colorbar\": {\"outlinewidth\": 0, \"ticks\": \"\"}, \"colorscale\": [[0.0, \"#0d0887\"], [0.1111111111111111, \"#46039f\"], [0.2222222222222222, \"#7201a8\"], [0.3333333333333333, \"#9c179e\"], [0.4444444444444444, \"#bd3786\"], [0.5555555555555556, \"#d8576b\"], [0.6666666666666666, \"#ed7953\"], [0.7777777777777778, \"#fb9f3a\"], [0.8888888888888888, \"#fdca26\"], [1.0, \"#f0f921\"]], \"type\": \"heatmapgl\"}], \"histogram\": [{\"marker\": {\"colorbar\": {\"outlinewidth\": 0, \"ticks\": \"\"}}, \"type\": \"histogram\"}], \"histogram2d\": [{\"colorbar\": {\"outlinewidth\": 0, \"ticks\": \"\"}, \"colorscale\": [[0.0, \"#0d0887\"], [0.1111111111111111, \"#46039f\"], [0.2222222222222222, \"#7201a8\"], [0.3333333333333333, \"#9c179e\"], [0.4444444444444444, \"#bd3786\"], [0.5555555555555556, \"#d8576b\"], [0.6666666666666666, \"#ed7953\"], [0.7777777777777778, \"#fb9f3a\"], [0.8888888888888888, \"#fdca26\"], [1.0, \"#f0f921\"]], \"type\": \"histogram2d\"}], \"histogram2dcontour\": [{\"colorbar\": {\"outlinewidth\": 0, \"ticks\": \"\"}, \"colorscale\": [[0.0, \"#0d0887\"], [0.1111111111111111, \"#46039f\"], [0.2222222222222222, \"#7201a8\"], [0.3333333333333333, \"#9c179e\"], [0.4444444444444444, \"#bd3786\"], [0.5555555555555556, \"#d8576b\"], [0.6666666666666666, \"#ed7953\"], [0.7777777777777778, \"#fb9f3a\"], [0.8888888888888888, \"#fdca26\"], [1.0, \"#f0f921\"]], \"type\": \"histogram2dcontour\"}], \"mesh3d\": [{\"colorbar\": {\"outlinewidth\": 0, \"ticks\": \"\"}, \"type\": \"mesh3d\"}], \"parcoords\": [{\"line\": {\"colorbar\": {\"outlinewidth\": 0, \"ticks\": \"\"}}, \"type\": \"parcoords\"}], \"pie\": [{\"automargin\": true, \"type\": \"pie\"}], \"scatter\": [{\"marker\": {\"colorbar\": {\"outlinewidth\": 0, \"ticks\": \"\"}}, \"type\": \"scatter\"}], \"scatter3d\": [{\"line\": {\"colorbar\": {\"outlinewidth\": 0, \"ticks\": \"\"}}, \"marker\": {\"colorbar\": {\"outlinewidth\": 0, \"ticks\": \"\"}}, \"type\": \"scatter3d\"}], \"scattercarpet\": [{\"marker\": {\"colorbar\": {\"outlinewidth\": 0, \"ticks\": \"\"}}, \"type\": \"scattercarpet\"}], \"scattergeo\": [{\"marker\": {\"colorbar\": {\"outlinewidth\": 0, \"ticks\": \"\"}}, \"type\": \"scattergeo\"}], \"scattergl\": [{\"marker\": {\"colorbar\": {\"outlinewidth\": 0, \"ticks\": \"\"}}, \"type\": \"scattergl\"}], \"scattermapbox\": [{\"marker\": {\"colorbar\": {\"outlinewidth\": 0, \"ticks\": \"\"}}, \"type\": \"scattermapbox\"}], \"scatterpolar\": [{\"marker\": {\"colorbar\": {\"outlinewidth\": 0, \"ticks\": \"\"}}, \"type\": \"scatterpolar\"}], \"scatterpolargl\": [{\"marker\": {\"colorbar\": {\"outlinewidth\": 0, \"ticks\": \"\"}}, \"type\": \"scatterpolargl\"}], \"scatterternary\": [{\"marker\": {\"colorbar\": {\"outlinewidth\": 0, \"ticks\": \"\"}}, \"type\": \"scatterternary\"}], \"surface\": [{\"colorbar\": {\"outlinewidth\": 0, \"ticks\": \"\"}, \"colorscale\": [[0.0, \"#0d0887\"], [0.1111111111111111, \"#46039f\"], [0.2222222222222222, \"#7201a8\"], [0.3333333333333333, \"#9c179e\"], [0.4444444444444444, \"#bd3786\"], [0.5555555555555556, \"#d8576b\"], [0.6666666666666666, \"#ed7953\"], [0.7777777777777778, \"#fb9f3a\"], [0.8888888888888888, \"#fdca26\"], [1.0, \"#f0f921\"]], \"type\": \"surface\"}], \"table\": [{\"cells\": {\"fill\": {\"color\": \"#EBF0F8\"}, \"line\": {\"color\": \"white\"}}, \"header\": {\"fill\": {\"color\": \"#C8D4E3\"}, \"line\": {\"color\": \"white\"}}, \"type\": \"table\"}]}, \"layout\": {\"annotationdefaults\": {\"arrowcolor\": \"#2a3f5f\", \"arrowhead\": 0, \"arrowwidth\": 1}, \"coloraxis\": {\"colorbar\": {\"outlinewidth\": 0, \"ticks\": \"\"}}, \"colorscale\": {\"diverging\": [[0, \"#8e0152\"], [0.1, \"#c51b7d\"], [0.2, \"#de77ae\"], [0.3, \"#f1b6da\"], [0.4, \"#fde0ef\"], [0.5, \"#f7f7f7\"], [0.6, \"#e6f5d0\"], [0.7, \"#b8e186\"], [0.8, \"#7fbc41\"], [0.9, \"#4d9221\"], [1, \"#276419\"]], \"sequential\": [[0.0, \"#0d0887\"], [0.1111111111111111, \"#46039f\"], [0.2222222222222222, \"#7201a8\"], [0.3333333333333333, \"#9c179e\"], [0.4444444444444444, \"#bd3786\"], [0.5555555555555556, \"#d8576b\"], [0.6666666666666666, \"#ed7953\"], [0.7777777777777778, \"#fb9f3a\"], [0.8888888888888888, \"#fdca26\"], [1.0, \"#f0f921\"]], \"sequentialminus\": [[0.0, \"#0d0887\"], [0.1111111111111111, \"#46039f\"], [0.2222222222222222, \"#7201a8\"], [0.3333333333333333, \"#9c179e\"], [0.4444444444444444, \"#bd3786\"], [0.5555555555555556, \"#d8576b\"], [0.6666666666666666, \"#ed7953\"], [0.7777777777777778, \"#fb9f3a\"], [0.8888888888888888, \"#fdca26\"], [1.0, \"#f0f921\"]]}, \"colorway\": [\"#636efa\", \"#EF553B\", \"#00cc96\", \"#ab63fa\", \"#FFA15A\", \"#19d3f3\", \"#FF6692\", \"#B6E880\", \"#FF97FF\", \"#FECB52\"], \"font\": {\"color\": \"#2a3f5f\"}, \"geo\": {\"bgcolor\": \"white\", \"lakecolor\": \"white\", \"landcolor\": \"#E5ECF6\", \"showlakes\": true, \"showland\": true, \"subunitcolor\": \"white\"}, \"hoverlabel\": {\"align\": \"left\"}, \"hovermode\": \"closest\", \"mapbox\": {\"style\": \"light\"}, \"paper_bgcolor\": \"white\", \"plot_bgcolor\": \"#E5ECF6\", \"polar\": {\"angularaxis\": {\"gridcolor\": \"white\", \"linecolor\": \"white\", \"ticks\": \"\"}, \"bgcolor\": \"#E5ECF6\", \"radialaxis\": {\"gridcolor\": \"white\", \"linecolor\": \"white\", \"ticks\": \"\"}}, \"scene\": {\"xaxis\": {\"backgroundcolor\": \"#E5ECF6\", \"gridcolor\": \"white\", \"gridwidth\": 2, \"linecolor\": \"white\", \"showbackground\": true, \"ticks\": \"\", \"zerolinecolor\": \"white\"}, \"yaxis\": {\"backgroundcolor\": \"#E5ECF6\", \"gridcolor\": \"white\", \"gridwidth\": 2, \"linecolor\": \"white\", \"showbackground\": true, \"ticks\": \"\", \"zerolinecolor\": \"white\"}, \"zaxis\": {\"backgroundcolor\": \"#E5ECF6\", \"gridcolor\": \"white\", \"gridwidth\": 2, \"linecolor\": \"white\", \"showbackground\": true, \"ticks\": \"\", \"zerolinecolor\": \"white\"}}, \"shapedefaults\": {\"line\": {\"color\": \"#2a3f5f\"}}, \"ternary\": {\"aaxis\": {\"gridcolor\": \"white\", \"linecolor\": \"white\", \"ticks\": \"\"}, \"baxis\": {\"gridcolor\": \"white\", \"linecolor\": \"white\", \"ticks\": \"\"}, \"bgcolor\": \"#E5ECF6\", \"caxis\": {\"gridcolor\": \"white\", \"linecolor\": \"white\", \"ticks\": \"\"}}, \"title\": {\"x\": 0.05}, \"xaxis\": {\"automargin\": true, \"gridcolor\": \"white\", \"linecolor\": \"white\", \"ticks\": \"\", \"title\": {\"standoff\": 15}, \"zerolinecolor\": \"white\", \"zerolinewidth\": 2}, \"yaxis\": {\"automargin\": true, \"gridcolor\": \"white\", \"linecolor\": \"white\", \"ticks\": \"\", \"title\": {\"standoff\": 15}, \"zerolinecolor\": \"white\", \"zerolinewidth\": 2}}}, \"title\": {\"font\": {\"size\": 16}, \"text\": \"<br>Network graph made with Python\"}, \"xaxis\": {\"showgrid\": false, \"showticklabels\": false, \"zeroline\": false}, \"yaxis\": {\"showgrid\": false, \"showticklabels\": false, \"zeroline\": false}},\n",
              "                        {\"responsive\": true}\n",
              "                    ).then(function(){\n",
              "                            \n",
              "var gd = document.getElementById('65c73e36-5ec0-423f-9890-c1e66663fb40');\n",
              "var x = new MutationObserver(function (mutations, observer) {{\n",
              "        var display = window.getComputedStyle(gd).display;\n",
              "        if (!display || display === 'none') {{\n",
              "            console.log([gd, 'removed!']);\n",
              "            Plotly.purge(gd);\n",
              "            observer.disconnect();\n",
              "        }}\n",
              "}});\n",
              "\n",
              "// Listen for the removal of the full notebook cells\n",
              "var notebookContainer = gd.closest('#notebook-container');\n",
              "if (notebookContainer) {{\n",
              "    x.observe(notebookContainer, {childList: true});\n",
              "}}\n",
              "\n",
              "// Listen for the clearing of the current output cell\n",
              "var outputEl = gd.closest('.output');\n",
              "if (outputEl) {{\n",
              "    x.observe(outputEl, {childList: true});\n",
              "}}\n",
              "\n",
              "                        })\n",
              "                };\n",
              "                \n",
              "            </script>\n",
              "        </div>\n",
              "</body>\n",
              "</html>"
            ]
          },
          "metadata": {}
        }
      ]
    },
    {
      "cell_type": "code",
      "metadata": {
        "colab": {
          "base_uri": "https://localhost:8080/",
          "height": 542
        },
        "id": "ihddMmRP6pfn",
        "outputId": "f806c757-1d93-45a2-b313-2756e747ce83"
      },
      "source": [
        "from efficient_apriori import apriori as eApriori\n",
        "from PyARMViz import Rule\n",
        "import csv\n",
        "\n",
        "class CSVHandler:\n",
        "    def __init__(self, transactions):\n",
        "        self.transactions = transactions\n",
        "\n",
        "    def read(self, filename):\n",
        "        with open(filename) as file:\n",
        "            reader = csv.reader(file)\n",
        "            for row in reader:\n",
        "                self.transactions.append(row)\n",
        "            return self.transactions\n",
        "        \n",
        "transactions = list()\n",
        "dataset = CSVHandler(transactions)\n",
        "transactions = dataset.read('my_dataset — копия.csv')\n",
        "\n",
        "freqItemSet, rules = apriori(transactions, min_support=8/30, min_confidence=0.4)\n",
        "\n",
        "PyARMViz.adjacency_parallel_category_plot(rules)"
      ],
      "execution_count": null,
      "outputs": [
        {
          "output_type": "display_data",
          "data": {
            "text/html": [
              "<html>\n",
              "<head><meta charset=\"utf-8\" /></head>\n",
              "<body>\n",
              "    <div>\n",
              "            <script src=\"https://cdnjs.cloudflare.com/ajax/libs/mathjax/2.7.5/MathJax.js?config=TeX-AMS-MML_SVG\"></script><script type=\"text/javascript\">if (window.MathJax) {MathJax.Hub.Config({SVG: {font: \"STIX-Web\"}});}</script>\n",
              "                <script type=\"text/javascript\">window.PlotlyConfig = {MathJaxConfig: 'local'};</script>\n",
              "        <script src=\"https://cdn.plot.ly/plotly-latest.min.js\"></script>    \n",
              "            <div id=\"6642a128-fbd2-4504-8b1f-d4f982cdb405\" class=\"plotly-graph-div\" style=\"height:525px; width:100%;\"></div>\n",
              "            <script type=\"text/javascript\">\n",
              "                \n",
              "                    window.PLOTLYENV=window.PLOTLYENV || {};\n",
              "                    \n",
              "                if (document.getElementById(\"6642a128-fbd2-4504-8b1f-d4f982cdb405\")) {\n",
              "                    Plotly.newPlot(\n",
              "                        '6642a128-fbd2-4504-8b1f-d4f982cdb405',\n",
              "                        [{\"dimensions\": [{\"label\": \"Antacedent 1\", \"values\": [\"\\u0424\\u0443\\u0442\\u0431\\u043e\\u043b\\u043a\\u0430\", \"\\u041a\\u0440\\u043e\\u0441\\u0441\\u043e\\u0432\\u043a\\u0438\", \"\\u0428\\u043e\\u0440\\u0442\\u044b\", \"\\u041a\\u0440\\u043e\\u0441\\u0441\\u043e\\u0432\\u043a\\u0438\", \"\\u0428\\u043e\\u0440\\u0442\\u044b\", \"\\u0424\\u0443\\u0442\\u0431\\u043e\\u043b\\u043a\\u0430\"]}, {\"label\": \"Consequent\", \"values\": [\"\\u041a\\u0440\\u043e\\u0441\\u0441\\u043e\\u0432\\u043a\\u0438\", \"\\u0424\\u0443\\u0442\\u0431\\u043e\\u043b\\u043a\\u0430\", \"\\u041a\\u0440\\u043e\\u0441\\u0441\\u043e\\u0432\\u043a\\u0438\", \"\\u0428\\u043e\\u0440\\u0442\\u044b\", \"\\u0424\\u0443\\u0442\\u0431\\u043e\\u043b\\u043a\\u0430\", \"\\u0428\\u043e\\u0440\\u0442\\u044b\"]}], \"type\": \"parcats\"}],\n",
              "                        {\"paper_bgcolor\": \"white\", \"plot_bgcolor\": \"white\", \"template\": {\"data\": {\"bar\": [{\"error_x\": {\"color\": \"#2a3f5f\"}, \"error_y\": {\"color\": \"#2a3f5f\"}, \"marker\": {\"line\": {\"color\": \"#E5ECF6\", \"width\": 0.5}}, \"type\": \"bar\"}], \"barpolar\": [{\"marker\": {\"line\": {\"color\": \"#E5ECF6\", \"width\": 0.5}}, \"type\": \"barpolar\"}], \"carpet\": [{\"aaxis\": {\"endlinecolor\": \"#2a3f5f\", \"gridcolor\": \"white\", \"linecolor\": \"white\", \"minorgridcolor\": \"white\", \"startlinecolor\": \"#2a3f5f\"}, \"baxis\": {\"endlinecolor\": \"#2a3f5f\", \"gridcolor\": \"white\", \"linecolor\": \"white\", \"minorgridcolor\": \"white\", \"startlinecolor\": \"#2a3f5f\"}, \"type\": \"carpet\"}], \"choropleth\": [{\"colorbar\": {\"outlinewidth\": 0, \"ticks\": \"\"}, \"type\": \"choropleth\"}], \"contour\": [{\"colorbar\": {\"outlinewidth\": 0, \"ticks\": \"\"}, \"colorscale\": [[0.0, \"#0d0887\"], [0.1111111111111111, \"#46039f\"], [0.2222222222222222, \"#7201a8\"], [0.3333333333333333, \"#9c179e\"], [0.4444444444444444, \"#bd3786\"], [0.5555555555555556, \"#d8576b\"], [0.6666666666666666, \"#ed7953\"], [0.7777777777777778, \"#fb9f3a\"], [0.8888888888888888, \"#fdca26\"], [1.0, \"#f0f921\"]], \"type\": \"contour\"}], \"contourcarpet\": [{\"colorbar\": {\"outlinewidth\": 0, \"ticks\": \"\"}, \"type\": \"contourcarpet\"}], \"heatmap\": [{\"colorbar\": {\"outlinewidth\": 0, \"ticks\": \"\"}, \"colorscale\": [[0.0, \"#0d0887\"], [0.1111111111111111, \"#46039f\"], [0.2222222222222222, \"#7201a8\"], [0.3333333333333333, \"#9c179e\"], [0.4444444444444444, \"#bd3786\"], [0.5555555555555556, \"#d8576b\"], [0.6666666666666666, \"#ed7953\"], [0.7777777777777778, \"#fb9f3a\"], [0.8888888888888888, \"#fdca26\"], [1.0, \"#f0f921\"]], \"type\": \"heatmap\"}], \"heatmapgl\": [{\"colorbar\": {\"outlinewidth\": 0, \"ticks\": \"\"}, \"colorscale\": [[0.0, \"#0d0887\"], [0.1111111111111111, \"#46039f\"], [0.2222222222222222, \"#7201a8\"], [0.3333333333333333, \"#9c179e\"], [0.4444444444444444, \"#bd3786\"], [0.5555555555555556, \"#d8576b\"], [0.6666666666666666, \"#ed7953\"], [0.7777777777777778, \"#fb9f3a\"], [0.8888888888888888, \"#fdca26\"], [1.0, \"#f0f921\"]], \"type\": \"heatmapgl\"}], \"histogram\": [{\"marker\": {\"colorbar\": {\"outlinewidth\": 0, \"ticks\": \"\"}}, \"type\": \"histogram\"}], \"histogram2d\": [{\"colorbar\": {\"outlinewidth\": 0, \"ticks\": \"\"}, \"colorscale\": [[0.0, \"#0d0887\"], [0.1111111111111111, \"#46039f\"], [0.2222222222222222, \"#7201a8\"], [0.3333333333333333, \"#9c179e\"], [0.4444444444444444, \"#bd3786\"], [0.5555555555555556, \"#d8576b\"], [0.6666666666666666, \"#ed7953\"], [0.7777777777777778, \"#fb9f3a\"], [0.8888888888888888, \"#fdca26\"], [1.0, \"#f0f921\"]], \"type\": \"histogram2d\"}], \"histogram2dcontour\": [{\"colorbar\": {\"outlinewidth\": 0, \"ticks\": \"\"}, \"colorscale\": [[0.0, \"#0d0887\"], [0.1111111111111111, \"#46039f\"], [0.2222222222222222, \"#7201a8\"], [0.3333333333333333, \"#9c179e\"], [0.4444444444444444, \"#bd3786\"], [0.5555555555555556, \"#d8576b\"], [0.6666666666666666, \"#ed7953\"], [0.7777777777777778, \"#fb9f3a\"], [0.8888888888888888, \"#fdca26\"], [1.0, \"#f0f921\"]], \"type\": \"histogram2dcontour\"}], \"mesh3d\": [{\"colorbar\": {\"outlinewidth\": 0, \"ticks\": \"\"}, \"type\": \"mesh3d\"}], \"parcoords\": [{\"line\": {\"colorbar\": {\"outlinewidth\": 0, \"ticks\": \"\"}}, \"type\": \"parcoords\"}], \"pie\": [{\"automargin\": true, \"type\": \"pie\"}], \"scatter\": [{\"marker\": {\"colorbar\": {\"outlinewidth\": 0, \"ticks\": \"\"}}, \"type\": \"scatter\"}], \"scatter3d\": [{\"line\": {\"colorbar\": {\"outlinewidth\": 0, \"ticks\": \"\"}}, \"marker\": {\"colorbar\": {\"outlinewidth\": 0, \"ticks\": \"\"}}, \"type\": \"scatter3d\"}], \"scattercarpet\": [{\"marker\": {\"colorbar\": {\"outlinewidth\": 0, \"ticks\": \"\"}}, \"type\": \"scattercarpet\"}], \"scattergeo\": [{\"marker\": {\"colorbar\": {\"outlinewidth\": 0, \"ticks\": \"\"}}, \"type\": \"scattergeo\"}], \"scattergl\": [{\"marker\": {\"colorbar\": {\"outlinewidth\": 0, \"ticks\": \"\"}}, \"type\": \"scattergl\"}], \"scattermapbox\": [{\"marker\": {\"colorbar\": {\"outlinewidth\": 0, \"ticks\": \"\"}}, \"type\": \"scattermapbox\"}], \"scatterpolar\": [{\"marker\": {\"colorbar\": {\"outlinewidth\": 0, \"ticks\": \"\"}}, \"type\": \"scatterpolar\"}], \"scatterpolargl\": [{\"marker\": {\"colorbar\": {\"outlinewidth\": 0, \"ticks\": \"\"}}, \"type\": \"scatterpolargl\"}], \"scatterternary\": [{\"marker\": {\"colorbar\": {\"outlinewidth\": 0, \"ticks\": \"\"}}, \"type\": \"scatterternary\"}], \"surface\": [{\"colorbar\": {\"outlinewidth\": 0, \"ticks\": \"\"}, \"colorscale\": [[0.0, \"#0d0887\"], [0.1111111111111111, \"#46039f\"], [0.2222222222222222, \"#7201a8\"], [0.3333333333333333, \"#9c179e\"], [0.4444444444444444, \"#bd3786\"], [0.5555555555555556, \"#d8576b\"], [0.6666666666666666, \"#ed7953\"], [0.7777777777777778, \"#fb9f3a\"], [0.8888888888888888, \"#fdca26\"], [1.0, \"#f0f921\"]], \"type\": \"surface\"}], \"table\": [{\"cells\": {\"fill\": {\"color\": \"#EBF0F8\"}, \"line\": {\"color\": \"white\"}}, \"header\": {\"fill\": {\"color\": \"#C8D4E3\"}, \"line\": {\"color\": \"white\"}}, \"type\": \"table\"}]}, \"layout\": {\"annotationdefaults\": {\"arrowcolor\": \"#2a3f5f\", \"arrowhead\": 0, \"arrowwidth\": 1}, \"coloraxis\": {\"colorbar\": {\"outlinewidth\": 0, \"ticks\": \"\"}}, \"colorscale\": {\"diverging\": [[0, \"#8e0152\"], [0.1, \"#c51b7d\"], [0.2, \"#de77ae\"], [0.3, \"#f1b6da\"], [0.4, \"#fde0ef\"], [0.5, \"#f7f7f7\"], [0.6, \"#e6f5d0\"], [0.7, \"#b8e186\"], [0.8, \"#7fbc41\"], [0.9, \"#4d9221\"], [1, \"#276419\"]], \"sequential\": [[0.0, \"#0d0887\"], [0.1111111111111111, \"#46039f\"], [0.2222222222222222, \"#7201a8\"], [0.3333333333333333, \"#9c179e\"], [0.4444444444444444, \"#bd3786\"], [0.5555555555555556, \"#d8576b\"], [0.6666666666666666, \"#ed7953\"], [0.7777777777777778, \"#fb9f3a\"], [0.8888888888888888, \"#fdca26\"], [1.0, \"#f0f921\"]], \"sequentialminus\": [[0.0, \"#0d0887\"], [0.1111111111111111, \"#46039f\"], [0.2222222222222222, \"#7201a8\"], [0.3333333333333333, \"#9c179e\"], [0.4444444444444444, \"#bd3786\"], [0.5555555555555556, \"#d8576b\"], [0.6666666666666666, \"#ed7953\"], [0.7777777777777778, \"#fb9f3a\"], [0.8888888888888888, \"#fdca26\"], [1.0, \"#f0f921\"]]}, \"colorway\": [\"#636efa\", \"#EF553B\", \"#00cc96\", \"#ab63fa\", \"#FFA15A\", \"#19d3f3\", \"#FF6692\", \"#B6E880\", \"#FF97FF\", \"#FECB52\"], \"font\": {\"color\": \"#2a3f5f\"}, \"geo\": {\"bgcolor\": \"white\", \"lakecolor\": \"white\", \"landcolor\": \"#E5ECF6\", \"showlakes\": true, \"showland\": true, \"subunitcolor\": \"white\"}, \"hoverlabel\": {\"align\": \"left\"}, \"hovermode\": \"closest\", \"mapbox\": {\"style\": \"light\"}, \"paper_bgcolor\": \"white\", \"plot_bgcolor\": \"#E5ECF6\", \"polar\": {\"angularaxis\": {\"gridcolor\": \"white\", \"linecolor\": \"white\", \"ticks\": \"\"}, \"bgcolor\": \"#E5ECF6\", \"radialaxis\": {\"gridcolor\": \"white\", \"linecolor\": \"white\", \"ticks\": \"\"}}, \"scene\": {\"xaxis\": {\"backgroundcolor\": \"#E5ECF6\", \"gridcolor\": \"white\", \"gridwidth\": 2, \"linecolor\": \"white\", \"showbackground\": true, \"ticks\": \"\", \"zerolinecolor\": \"white\"}, \"yaxis\": {\"backgroundcolor\": \"#E5ECF6\", \"gridcolor\": \"white\", \"gridwidth\": 2, \"linecolor\": \"white\", \"showbackground\": true, \"ticks\": \"\", \"zerolinecolor\": \"white\"}, \"zaxis\": {\"backgroundcolor\": \"#E5ECF6\", \"gridcolor\": \"white\", \"gridwidth\": 2, \"linecolor\": \"white\", \"showbackground\": true, \"ticks\": \"\", \"zerolinecolor\": \"white\"}}, \"shapedefaults\": {\"line\": {\"color\": \"#2a3f5f\"}}, \"ternary\": {\"aaxis\": {\"gridcolor\": \"white\", \"linecolor\": \"white\", \"ticks\": \"\"}, \"baxis\": {\"gridcolor\": \"white\", \"linecolor\": \"white\", \"ticks\": \"\"}, \"bgcolor\": \"#E5ECF6\", \"caxis\": {\"gridcolor\": \"white\", \"linecolor\": \"white\", \"ticks\": \"\"}}, \"title\": {\"x\": 0.05}, \"xaxis\": {\"automargin\": true, \"gridcolor\": \"white\", \"linecolor\": \"white\", \"ticks\": \"\", \"title\": {\"standoff\": 15}, \"zerolinecolor\": \"white\", \"zerolinewidth\": 2}, \"yaxis\": {\"automargin\": true, \"gridcolor\": \"white\", \"linecolor\": \"white\", \"ticks\": \"\", \"title\": {\"standoff\": 15}, \"zerolinecolor\": \"white\", \"zerolinewidth\": 2}}}},\n",
              "                        {\"responsive\": true}\n",
              "                    ).then(function(){\n",
              "                            \n",
              "var gd = document.getElementById('6642a128-fbd2-4504-8b1f-d4f982cdb405');\n",
              "var x = new MutationObserver(function (mutations, observer) {{\n",
              "        var display = window.getComputedStyle(gd).display;\n",
              "        if (!display || display === 'none') {{\n",
              "            console.log([gd, 'removed!']);\n",
              "            Plotly.purge(gd);\n",
              "            observer.disconnect();\n",
              "        }}\n",
              "}});\n",
              "\n",
              "// Listen for the removal of the full notebook cells\n",
              "var notebookContainer = gd.closest('#notebook-container');\n",
              "if (notebookContainer) {{\n",
              "    x.observe(notebookContainer, {childList: true});\n",
              "}}\n",
              "\n",
              "// Listen for the clearing of the current output cell\n",
              "var outputEl = gd.closest('.output');\n",
              "if (outputEl) {{\n",
              "    x.observe(outputEl, {childList: true});\n",
              "}}\n",
              "\n",
              "                        })\n",
              "                };\n",
              "                \n",
              "            </script>\n",
              "        </div>\n",
              "</body>\n",
              "</html>"
            ]
          },
          "metadata": {}
        }
      ]
    },
    {
      "cell_type": "code",
      "metadata": {
        "colab": {
          "base_uri": "https://localhost:8080/",
          "height": 1000
        },
        "id": "gLX_BJod8oaQ",
        "outputId": "592d279c-c2da-4545-8268-245fbf0afd5c"
      },
      "source": [
        "from efficient_apriori import apriori as eApriori\n",
        "from PyARMViz import Rule\n",
        "import csv\n",
        "\n",
        "class CSVHandler:\n",
        "    def __init__(self, transactions):\n",
        "        self.transactions = transactions\n",
        "\n",
        "    def read(self, filename):\n",
        "        with open(filename) as file:\n",
        "            reader = csv.reader(file)\n",
        "            for row in reader:\n",
        "                self.transactions.append(row)\n",
        "            return self.transactions\n",
        "        \n",
        "transactions = list()\n",
        "dataset = CSVHandler(transactions)\n",
        "transactions = dataset.read('BigDataSet.csv')\n",
        "\n",
        "freqItemSet, rules = apriori(transactions, min_support=0.01, min_confidence=0.01)\n",
        "\n",
        "PyARMViz.adjacency_parallel_category_plot(rules)"
      ],
      "execution_count": null,
      "outputs": [
        {
          "output_type": "display_data",
          "data": {
            "text/html": [
              "<html>\n",
              "<head><meta charset=\"utf-8\" /></head>\n",
              "<body>\n",
              "    <div>\n",
              "            <script src=\"https://cdnjs.cloudflare.com/ajax/libs/mathjax/2.7.5/MathJax.js?config=TeX-AMS-MML_SVG\"></script><script type=\"text/javascript\">if (window.MathJax) {MathJax.Hub.Config({SVG: {font: \"STIX-Web\"}});}</script>\n",
              "                <script type=\"text/javascript\">window.PlotlyConfig = {MathJaxConfig: 'local'};</script>\n",
              "        <script src=\"https://cdn.plot.ly/plotly-latest.min.js\"></script>    \n",
              "            <div id=\"05df9e1c-ac82-4329-bb9e-f68fb88680d6\" class=\"plotly-graph-div\" style=\"height:525px; width:100%;\"></div>\n",
              "            <script type=\"text/javascript\">\n",
              "                \n",
              "                    window.PLOTLYENV=window.PLOTLYENV || {};\n",
              "                    \n",
              "                if (document.getElementById(\"05df9e1c-ac82-4329-bb9e-f68fb88680d6\")) {\n",
              "                    Plotly.newPlot(\n",
              "                        '05df9e1c-ac82-4329-bb9e-f68fb88680d6',\n",
              "                        [{\"dimensions\": [{\"label\": \"Antacedent 1\", \"values\": [\"Coffee\", \"Alfajores\", \"Brownie\", \"Bread\", \"Cake\", \"Bread\", \"Coffee\", \"Bread\", \"Cookies\", \"Bread\", \"Hot chocolate\", \"Bread\", \"Medialuna\", \"Bread\", \"NONE\", \"Bread\", \"Pastry\", \"Bread\", \"Sandwich\", \"Bread\", \"Tea\", \"Bread\", \"Coffee\", \"Brownie\", \"Coffee\", \"Cake\", \"Hot chocolate\", \"Cake\", \"Tea\", \"Cake\", \"Cookies\", \"Coffee\", \"Hot chocolate\", \"Coffee\", \"Juice\", \"Coffee\", \"Medialuna\", \"Coffee\", \"Muffin\", \"Coffee\", \"NONE\", \"Coffee\", \"Pastry\", \"Coffee\", \"Sandwich\", \"Coffee\", \"Scone\", \"Coffee\", \"Soup\", \"Coffee\", \"Spanish Brunch\", \"Coffee\", \"Tea\", \"Coffee\", \"Toast\", \"Coffee\", \"Tea\", \"NONE\", \"Tea\", \"Sandwich\"]}, {\"label\": \"Consequent\", \"values\": [\"Alfajores\", \"Coffee\", \"Bread\", \"Brownie\", \"Bread\", \"Cake\", \"Bread\", \"Coffee\", \"Bread\", \"Cookies\", \"Bread\", \"Hot chocolate\", \"Bread\", \"Medialuna\", \"Bread\", \"NONE\", \"Bread\", \"Pastry\", \"Bread\", \"Sandwich\", \"Bread\", \"Tea\", \"Brownie\", \"Coffee\", \"Cake\", \"Coffee\", \"Cake\", \"Hot chocolate\", \"Cake\", \"Tea\", \"Coffee\", \"Cookies\", \"Coffee\", \"Hot chocolate\", \"Coffee\", \"Juice\", \"Coffee\", \"Medialuna\", \"Coffee\", \"Muffin\", \"Coffee\", \"NONE\", \"Coffee\", \"Pastry\", \"Coffee\", \"Sandwich\", \"Coffee\", \"Scone\", \"Coffee\", \"Soup\", \"Coffee\", \"Spanish Brunch\", \"Coffee\", \"Tea\", \"Coffee\", \"Toast\", \"NONE\", \"Tea\", \"Sandwich\", \"Tea\"]}], \"type\": \"parcats\"}],\n",
              "                        {\"paper_bgcolor\": \"white\", \"plot_bgcolor\": \"white\", \"template\": {\"data\": {\"bar\": [{\"error_x\": {\"color\": \"#2a3f5f\"}, \"error_y\": {\"color\": \"#2a3f5f\"}, \"marker\": {\"line\": {\"color\": \"#E5ECF6\", \"width\": 0.5}}, \"type\": \"bar\"}], \"barpolar\": [{\"marker\": {\"line\": {\"color\": \"#E5ECF6\", \"width\": 0.5}}, \"type\": \"barpolar\"}], \"carpet\": [{\"aaxis\": {\"endlinecolor\": \"#2a3f5f\", \"gridcolor\": \"white\", \"linecolor\": \"white\", \"minorgridcolor\": \"white\", \"startlinecolor\": \"#2a3f5f\"}, \"baxis\": {\"endlinecolor\": \"#2a3f5f\", \"gridcolor\": \"white\", \"linecolor\": \"white\", \"minorgridcolor\": \"white\", \"startlinecolor\": \"#2a3f5f\"}, \"type\": \"carpet\"}], \"choropleth\": [{\"colorbar\": {\"outlinewidth\": 0, \"ticks\": \"\"}, \"type\": \"choropleth\"}], \"contour\": [{\"colorbar\": {\"outlinewidth\": 0, \"ticks\": \"\"}, \"colorscale\": [[0.0, \"#0d0887\"], [0.1111111111111111, \"#46039f\"], [0.2222222222222222, \"#7201a8\"], [0.3333333333333333, \"#9c179e\"], [0.4444444444444444, \"#bd3786\"], [0.5555555555555556, \"#d8576b\"], [0.6666666666666666, \"#ed7953\"], [0.7777777777777778, \"#fb9f3a\"], [0.8888888888888888, \"#fdca26\"], [1.0, \"#f0f921\"]], \"type\": \"contour\"}], \"contourcarpet\": [{\"colorbar\": {\"outlinewidth\": 0, \"ticks\": \"\"}, \"type\": \"contourcarpet\"}], \"heatmap\": [{\"colorbar\": {\"outlinewidth\": 0, \"ticks\": \"\"}, \"colorscale\": [[0.0, \"#0d0887\"], [0.1111111111111111, \"#46039f\"], [0.2222222222222222, \"#7201a8\"], [0.3333333333333333, \"#9c179e\"], [0.4444444444444444, \"#bd3786\"], [0.5555555555555556, \"#d8576b\"], [0.6666666666666666, \"#ed7953\"], [0.7777777777777778, \"#fb9f3a\"], [0.8888888888888888, \"#fdca26\"], [1.0, \"#f0f921\"]], \"type\": \"heatmap\"}], \"heatmapgl\": [{\"colorbar\": {\"outlinewidth\": 0, \"ticks\": \"\"}, \"colorscale\": [[0.0, \"#0d0887\"], [0.1111111111111111, \"#46039f\"], [0.2222222222222222, \"#7201a8\"], [0.3333333333333333, \"#9c179e\"], [0.4444444444444444, \"#bd3786\"], [0.5555555555555556, \"#d8576b\"], [0.6666666666666666, \"#ed7953\"], [0.7777777777777778, \"#fb9f3a\"], [0.8888888888888888, \"#fdca26\"], [1.0, \"#f0f921\"]], \"type\": \"heatmapgl\"}], \"histogram\": [{\"marker\": {\"colorbar\": {\"outlinewidth\": 0, \"ticks\": \"\"}}, \"type\": \"histogram\"}], \"histogram2d\": [{\"colorbar\": {\"outlinewidth\": 0, \"ticks\": \"\"}, \"colorscale\": [[0.0, \"#0d0887\"], [0.1111111111111111, \"#46039f\"], [0.2222222222222222, \"#7201a8\"], [0.3333333333333333, \"#9c179e\"], [0.4444444444444444, \"#bd3786\"], [0.5555555555555556, \"#d8576b\"], [0.6666666666666666, \"#ed7953\"], [0.7777777777777778, \"#fb9f3a\"], [0.8888888888888888, \"#fdca26\"], [1.0, \"#f0f921\"]], \"type\": \"histogram2d\"}], \"histogram2dcontour\": [{\"colorbar\": {\"outlinewidth\": 0, \"ticks\": \"\"}, \"colorscale\": [[0.0, \"#0d0887\"], [0.1111111111111111, \"#46039f\"], [0.2222222222222222, \"#7201a8\"], [0.3333333333333333, \"#9c179e\"], [0.4444444444444444, \"#bd3786\"], [0.5555555555555556, \"#d8576b\"], [0.6666666666666666, \"#ed7953\"], [0.7777777777777778, \"#fb9f3a\"], [0.8888888888888888, \"#fdca26\"], [1.0, \"#f0f921\"]], \"type\": \"histogram2dcontour\"}], \"mesh3d\": [{\"colorbar\": {\"outlinewidth\": 0, \"ticks\": \"\"}, \"type\": \"mesh3d\"}], \"parcoords\": [{\"line\": {\"colorbar\": {\"outlinewidth\": 0, \"ticks\": \"\"}}, \"type\": \"parcoords\"}], \"pie\": [{\"automargin\": true, \"type\": \"pie\"}], \"scatter\": [{\"marker\": {\"colorbar\": {\"outlinewidth\": 0, \"ticks\": \"\"}}, \"type\": \"scatter\"}], \"scatter3d\": [{\"line\": {\"colorbar\": {\"outlinewidth\": 0, \"ticks\": \"\"}}, \"marker\": {\"colorbar\": {\"outlinewidth\": 0, \"ticks\": \"\"}}, \"type\": \"scatter3d\"}], \"scattercarpet\": [{\"marker\": {\"colorbar\": {\"outlinewidth\": 0, \"ticks\": \"\"}}, \"type\": \"scattercarpet\"}], \"scattergeo\": [{\"marker\": {\"colorbar\": {\"outlinewidth\": 0, \"ticks\": \"\"}}, \"type\": \"scattergeo\"}], \"scattergl\": [{\"marker\": {\"colorbar\": {\"outlinewidth\": 0, \"ticks\": \"\"}}, \"type\": \"scattergl\"}], \"scattermapbox\": [{\"marker\": {\"colorbar\": {\"outlinewidth\": 0, \"ticks\": \"\"}}, \"type\": \"scattermapbox\"}], \"scatterpolar\": [{\"marker\": {\"colorbar\": {\"outlinewidth\": 0, \"ticks\": \"\"}}, \"type\": \"scatterpolar\"}], \"scatterpolargl\": [{\"marker\": {\"colorbar\": {\"outlinewidth\": 0, \"ticks\": \"\"}}, \"type\": \"scatterpolargl\"}], \"scatterternary\": [{\"marker\": {\"colorbar\": {\"outlinewidth\": 0, \"ticks\": \"\"}}, \"type\": \"scatterternary\"}], \"surface\": [{\"colorbar\": {\"outlinewidth\": 0, \"ticks\": \"\"}, \"colorscale\": [[0.0, \"#0d0887\"], [0.1111111111111111, \"#46039f\"], [0.2222222222222222, \"#7201a8\"], [0.3333333333333333, \"#9c179e\"], [0.4444444444444444, \"#bd3786\"], [0.5555555555555556, \"#d8576b\"], [0.6666666666666666, \"#ed7953\"], [0.7777777777777778, \"#fb9f3a\"], [0.8888888888888888, \"#fdca26\"], [1.0, \"#f0f921\"]], \"type\": \"surface\"}], \"table\": [{\"cells\": {\"fill\": {\"color\": \"#EBF0F8\"}, \"line\": {\"color\": \"white\"}}, \"header\": {\"fill\": {\"color\": \"#C8D4E3\"}, \"line\": {\"color\": \"white\"}}, \"type\": \"table\"}]}, \"layout\": {\"annotationdefaults\": {\"arrowcolor\": \"#2a3f5f\", \"arrowhead\": 0, \"arrowwidth\": 1}, \"coloraxis\": {\"colorbar\": {\"outlinewidth\": 0, \"ticks\": \"\"}}, \"colorscale\": {\"diverging\": [[0, \"#8e0152\"], [0.1, \"#c51b7d\"], [0.2, \"#de77ae\"], [0.3, \"#f1b6da\"], [0.4, \"#fde0ef\"], [0.5, \"#f7f7f7\"], [0.6, \"#e6f5d0\"], [0.7, \"#b8e186\"], [0.8, \"#7fbc41\"], [0.9, \"#4d9221\"], [1, \"#276419\"]], \"sequential\": [[0.0, \"#0d0887\"], [0.1111111111111111, \"#46039f\"], [0.2222222222222222, \"#7201a8\"], [0.3333333333333333, \"#9c179e\"], [0.4444444444444444, \"#bd3786\"], [0.5555555555555556, \"#d8576b\"], [0.6666666666666666, \"#ed7953\"], [0.7777777777777778, \"#fb9f3a\"], [0.8888888888888888, \"#fdca26\"], [1.0, \"#f0f921\"]], \"sequentialminus\": [[0.0, \"#0d0887\"], [0.1111111111111111, \"#46039f\"], [0.2222222222222222, \"#7201a8\"], [0.3333333333333333, \"#9c179e\"], [0.4444444444444444, \"#bd3786\"], [0.5555555555555556, \"#d8576b\"], [0.6666666666666666, \"#ed7953\"], [0.7777777777777778, \"#fb9f3a\"], [0.8888888888888888, \"#fdca26\"], [1.0, \"#f0f921\"]]}, \"colorway\": [\"#636efa\", \"#EF553B\", \"#00cc96\", \"#ab63fa\", \"#FFA15A\", \"#19d3f3\", \"#FF6692\", \"#B6E880\", \"#FF97FF\", \"#FECB52\"], \"font\": {\"color\": \"#2a3f5f\"}, \"geo\": {\"bgcolor\": \"white\", \"lakecolor\": \"white\", \"landcolor\": \"#E5ECF6\", \"showlakes\": true, \"showland\": true, \"subunitcolor\": \"white\"}, \"hoverlabel\": {\"align\": \"left\"}, \"hovermode\": \"closest\", \"mapbox\": {\"style\": \"light\"}, \"paper_bgcolor\": \"white\", \"plot_bgcolor\": \"#E5ECF6\", \"polar\": {\"angularaxis\": {\"gridcolor\": \"white\", \"linecolor\": \"white\", \"ticks\": \"\"}, \"bgcolor\": \"#E5ECF6\", \"radialaxis\": {\"gridcolor\": \"white\", \"linecolor\": \"white\", \"ticks\": \"\"}}, \"scene\": {\"xaxis\": {\"backgroundcolor\": \"#E5ECF6\", \"gridcolor\": \"white\", \"gridwidth\": 2, \"linecolor\": \"white\", \"showbackground\": true, \"ticks\": \"\", \"zerolinecolor\": \"white\"}, \"yaxis\": {\"backgroundcolor\": \"#E5ECF6\", \"gridcolor\": \"white\", \"gridwidth\": 2, \"linecolor\": \"white\", \"showbackground\": true, \"ticks\": \"\", \"zerolinecolor\": \"white\"}, \"zaxis\": {\"backgroundcolor\": \"#E5ECF6\", \"gridcolor\": \"white\", \"gridwidth\": 2, \"linecolor\": \"white\", \"showbackground\": true, \"ticks\": \"\", \"zerolinecolor\": \"white\"}}, \"shapedefaults\": {\"line\": {\"color\": \"#2a3f5f\"}}, \"ternary\": {\"aaxis\": {\"gridcolor\": \"white\", \"linecolor\": \"white\", \"ticks\": \"\"}, \"baxis\": {\"gridcolor\": \"white\", \"linecolor\": \"white\", \"ticks\": \"\"}, \"bgcolor\": \"#E5ECF6\", \"caxis\": {\"gridcolor\": \"white\", \"linecolor\": \"white\", \"ticks\": \"\"}}, \"title\": {\"x\": 0.05}, \"xaxis\": {\"automargin\": true, \"gridcolor\": \"white\", \"linecolor\": \"white\", \"ticks\": \"\", \"title\": {\"standoff\": 15}, \"zerolinecolor\": \"white\", \"zerolinewidth\": 2}, \"yaxis\": {\"automargin\": true, \"gridcolor\": \"white\", \"linecolor\": \"white\", \"ticks\": \"\", \"title\": {\"standoff\": 15}, \"zerolinecolor\": \"white\", \"zerolinewidth\": 2}}}},\n",
              "                        {\"responsive\": true}\n",
              "                    ).then(function(){\n",
              "                            \n",
              "var gd = document.getElementById('05df9e1c-ac82-4329-bb9e-f68fb88680d6');\n",
              "var x = new MutationObserver(function (mutations, observer) {{\n",
              "        var display = window.getComputedStyle(gd).display;\n",
              "        if (!display || display === 'none') {{\n",
              "            console.log([gd, 'removed!']);\n",
              "            Plotly.purge(gd);\n",
              "            observer.disconnect();\n",
              "        }}\n",
              "}});\n",
              "\n",
              "// Listen for the removal of the full notebook cells\n",
              "var notebookContainer = gd.closest('#notebook-container');\n",
              "if (notebookContainer) {{\n",
              "    x.observe(notebookContainer, {childList: true});\n",
              "}}\n",
              "\n",
              "// Listen for the clearing of the current output cell\n",
              "var outputEl = gd.closest('.output');\n",
              "if (outputEl) {{\n",
              "    x.observe(outputEl, {childList: true});\n",
              "}}\n",
              "\n",
              "                        })\n",
              "                };\n",
              "                \n",
              "            </script>\n",
              "        </div>\n",
              "</body>\n",
              "</html>"
            ]
          },
          "metadata": {}
        },
        {
          "output_type": "display_data",
          "data": {
            "text/html": [
              "<html>\n",
              "<head><meta charset=\"utf-8\" /></head>\n",
              "<body>\n",
              "    <div>\n",
              "            <script src=\"https://cdnjs.cloudflare.com/ajax/libs/mathjax/2.7.5/MathJax.js?config=TeX-AMS-MML_SVG\"></script><script type=\"text/javascript\">if (window.MathJax) {MathJax.Hub.Config({SVG: {font: \"STIX-Web\"}});}</script>\n",
              "                <script type=\"text/javascript\">window.PlotlyConfig = {MathJaxConfig: 'local'};</script>\n",
              "        <script src=\"https://cdn.plot.ly/plotly-latest.min.js\"></script>    \n",
              "            <div id=\"9fd1b753-5dba-4429-955b-8fd9bb4c06bf\" class=\"plotly-graph-div\" style=\"height:525px; width:100%;\"></div>\n",
              "            <script type=\"text/javascript\">\n",
              "                \n",
              "                    window.PLOTLYENV=window.PLOTLYENV || {};\n",
              "                    \n",
              "                if (document.getElementById(\"9fd1b753-5dba-4429-955b-8fd9bb4c06bf\")) {\n",
              "                    Plotly.newPlot(\n",
              "                        '9fd1b753-5dba-4429-955b-8fd9bb4c06bf',\n",
              "                        [{\"dimensions\": [{\"label\": \"Antacedent 2\", \"values\": [\"Coffee\", \"Bread\", \"Bread\"]}, {\"label\": \"Antacedent 1\", \"values\": [\"Pastry\", \"Pastry\", \"Coffee\"]}, {\"label\": \"Consequent\", \"values\": [\"Bread\", \"Coffee\", \"Pastry\"]}], \"type\": \"parcats\"}],\n",
              "                        {\"paper_bgcolor\": \"white\", \"plot_bgcolor\": \"white\", \"template\": {\"data\": {\"bar\": [{\"error_x\": {\"color\": \"#2a3f5f\"}, \"error_y\": {\"color\": \"#2a3f5f\"}, \"marker\": {\"line\": {\"color\": \"#E5ECF6\", \"width\": 0.5}}, \"type\": \"bar\"}], \"barpolar\": [{\"marker\": {\"line\": {\"color\": \"#E5ECF6\", \"width\": 0.5}}, \"type\": \"barpolar\"}], \"carpet\": [{\"aaxis\": {\"endlinecolor\": \"#2a3f5f\", \"gridcolor\": \"white\", \"linecolor\": \"white\", \"minorgridcolor\": \"white\", \"startlinecolor\": \"#2a3f5f\"}, \"baxis\": {\"endlinecolor\": \"#2a3f5f\", \"gridcolor\": \"white\", \"linecolor\": \"white\", \"minorgridcolor\": \"white\", \"startlinecolor\": \"#2a3f5f\"}, \"type\": \"carpet\"}], \"choropleth\": [{\"colorbar\": {\"outlinewidth\": 0, \"ticks\": \"\"}, \"type\": \"choropleth\"}], \"contour\": [{\"colorbar\": {\"outlinewidth\": 0, \"ticks\": \"\"}, \"colorscale\": [[0.0, \"#0d0887\"], [0.1111111111111111, \"#46039f\"], [0.2222222222222222, \"#7201a8\"], [0.3333333333333333, \"#9c179e\"], [0.4444444444444444, \"#bd3786\"], [0.5555555555555556, \"#d8576b\"], [0.6666666666666666, \"#ed7953\"], [0.7777777777777778, \"#fb9f3a\"], [0.8888888888888888, \"#fdca26\"], [1.0, \"#f0f921\"]], \"type\": \"contour\"}], \"contourcarpet\": [{\"colorbar\": {\"outlinewidth\": 0, \"ticks\": \"\"}, \"type\": \"contourcarpet\"}], \"heatmap\": [{\"colorbar\": {\"outlinewidth\": 0, \"ticks\": \"\"}, \"colorscale\": [[0.0, \"#0d0887\"], [0.1111111111111111, \"#46039f\"], [0.2222222222222222, \"#7201a8\"], [0.3333333333333333, \"#9c179e\"], [0.4444444444444444, \"#bd3786\"], [0.5555555555555556, \"#d8576b\"], [0.6666666666666666, \"#ed7953\"], [0.7777777777777778, \"#fb9f3a\"], [0.8888888888888888, \"#fdca26\"], [1.0, \"#f0f921\"]], \"type\": \"heatmap\"}], \"heatmapgl\": [{\"colorbar\": {\"outlinewidth\": 0, \"ticks\": \"\"}, \"colorscale\": [[0.0, \"#0d0887\"], [0.1111111111111111, \"#46039f\"], [0.2222222222222222, \"#7201a8\"], [0.3333333333333333, \"#9c179e\"], [0.4444444444444444, \"#bd3786\"], [0.5555555555555556, \"#d8576b\"], [0.6666666666666666, \"#ed7953\"], [0.7777777777777778, \"#fb9f3a\"], [0.8888888888888888, \"#fdca26\"], [1.0, \"#f0f921\"]], \"type\": \"heatmapgl\"}], \"histogram\": [{\"marker\": {\"colorbar\": {\"outlinewidth\": 0, \"ticks\": \"\"}}, \"type\": \"histogram\"}], \"histogram2d\": [{\"colorbar\": {\"outlinewidth\": 0, \"ticks\": \"\"}, \"colorscale\": [[0.0, \"#0d0887\"], [0.1111111111111111, \"#46039f\"], [0.2222222222222222, \"#7201a8\"], [0.3333333333333333, \"#9c179e\"], [0.4444444444444444, \"#bd3786\"], [0.5555555555555556, \"#d8576b\"], [0.6666666666666666, \"#ed7953\"], [0.7777777777777778, \"#fb9f3a\"], [0.8888888888888888, \"#fdca26\"], [1.0, \"#f0f921\"]], \"type\": \"histogram2d\"}], \"histogram2dcontour\": [{\"colorbar\": {\"outlinewidth\": 0, \"ticks\": \"\"}, \"colorscale\": [[0.0, \"#0d0887\"], [0.1111111111111111, \"#46039f\"], [0.2222222222222222, \"#7201a8\"], [0.3333333333333333, \"#9c179e\"], [0.4444444444444444, \"#bd3786\"], [0.5555555555555556, \"#d8576b\"], [0.6666666666666666, \"#ed7953\"], [0.7777777777777778, \"#fb9f3a\"], [0.8888888888888888, \"#fdca26\"], [1.0, \"#f0f921\"]], \"type\": \"histogram2dcontour\"}], \"mesh3d\": [{\"colorbar\": {\"outlinewidth\": 0, \"ticks\": \"\"}, \"type\": \"mesh3d\"}], \"parcoords\": [{\"line\": {\"colorbar\": {\"outlinewidth\": 0, \"ticks\": \"\"}}, \"type\": \"parcoords\"}], \"pie\": [{\"automargin\": true, \"type\": \"pie\"}], \"scatter\": [{\"marker\": {\"colorbar\": {\"outlinewidth\": 0, \"ticks\": \"\"}}, \"type\": \"scatter\"}], \"scatter3d\": [{\"line\": {\"colorbar\": {\"outlinewidth\": 0, \"ticks\": \"\"}}, \"marker\": {\"colorbar\": {\"outlinewidth\": 0, \"ticks\": \"\"}}, \"type\": \"scatter3d\"}], \"scattercarpet\": [{\"marker\": {\"colorbar\": {\"outlinewidth\": 0, \"ticks\": \"\"}}, \"type\": \"scattercarpet\"}], \"scattergeo\": [{\"marker\": {\"colorbar\": {\"outlinewidth\": 0, \"ticks\": \"\"}}, \"type\": \"scattergeo\"}], \"scattergl\": [{\"marker\": {\"colorbar\": {\"outlinewidth\": 0, \"ticks\": \"\"}}, \"type\": \"scattergl\"}], \"scattermapbox\": [{\"marker\": {\"colorbar\": {\"outlinewidth\": 0, \"ticks\": \"\"}}, \"type\": \"scattermapbox\"}], \"scatterpolar\": [{\"marker\": {\"colorbar\": {\"outlinewidth\": 0, \"ticks\": \"\"}}, \"type\": \"scatterpolar\"}], \"scatterpolargl\": [{\"marker\": {\"colorbar\": {\"outlinewidth\": 0, \"ticks\": \"\"}}, \"type\": \"scatterpolargl\"}], \"scatterternary\": [{\"marker\": {\"colorbar\": {\"outlinewidth\": 0, \"ticks\": \"\"}}, \"type\": \"scatterternary\"}], \"surface\": [{\"colorbar\": {\"outlinewidth\": 0, \"ticks\": \"\"}, \"colorscale\": [[0.0, \"#0d0887\"], [0.1111111111111111, \"#46039f\"], [0.2222222222222222, \"#7201a8\"], [0.3333333333333333, \"#9c179e\"], [0.4444444444444444, \"#bd3786\"], [0.5555555555555556, \"#d8576b\"], [0.6666666666666666, \"#ed7953\"], [0.7777777777777778, \"#fb9f3a\"], [0.8888888888888888, \"#fdca26\"], [1.0, \"#f0f921\"]], \"type\": \"surface\"}], \"table\": [{\"cells\": {\"fill\": {\"color\": \"#EBF0F8\"}, \"line\": {\"color\": \"white\"}}, \"header\": {\"fill\": {\"color\": \"#C8D4E3\"}, \"line\": {\"color\": \"white\"}}, \"type\": \"table\"}]}, \"layout\": {\"annotationdefaults\": {\"arrowcolor\": \"#2a3f5f\", \"arrowhead\": 0, \"arrowwidth\": 1}, \"coloraxis\": {\"colorbar\": {\"outlinewidth\": 0, \"ticks\": \"\"}}, \"colorscale\": {\"diverging\": [[0, \"#8e0152\"], [0.1, \"#c51b7d\"], [0.2, \"#de77ae\"], [0.3, \"#f1b6da\"], [0.4, \"#fde0ef\"], [0.5, \"#f7f7f7\"], [0.6, \"#e6f5d0\"], [0.7, \"#b8e186\"], [0.8, \"#7fbc41\"], [0.9, \"#4d9221\"], [1, \"#276419\"]], \"sequential\": [[0.0, \"#0d0887\"], [0.1111111111111111, \"#46039f\"], [0.2222222222222222, \"#7201a8\"], [0.3333333333333333, \"#9c179e\"], [0.4444444444444444, \"#bd3786\"], [0.5555555555555556, \"#d8576b\"], [0.6666666666666666, \"#ed7953\"], [0.7777777777777778, \"#fb9f3a\"], [0.8888888888888888, \"#fdca26\"], [1.0, \"#f0f921\"]], \"sequentialminus\": [[0.0, \"#0d0887\"], [0.1111111111111111, \"#46039f\"], [0.2222222222222222, \"#7201a8\"], [0.3333333333333333, \"#9c179e\"], [0.4444444444444444, \"#bd3786\"], [0.5555555555555556, \"#d8576b\"], [0.6666666666666666, \"#ed7953\"], [0.7777777777777778, \"#fb9f3a\"], [0.8888888888888888, \"#fdca26\"], [1.0, \"#f0f921\"]]}, \"colorway\": [\"#636efa\", \"#EF553B\", \"#00cc96\", \"#ab63fa\", \"#FFA15A\", \"#19d3f3\", \"#FF6692\", \"#B6E880\", \"#FF97FF\", \"#FECB52\"], \"font\": {\"color\": \"#2a3f5f\"}, \"geo\": {\"bgcolor\": \"white\", \"lakecolor\": \"white\", \"landcolor\": \"#E5ECF6\", \"showlakes\": true, \"showland\": true, \"subunitcolor\": \"white\"}, \"hoverlabel\": {\"align\": \"left\"}, \"hovermode\": \"closest\", \"mapbox\": {\"style\": \"light\"}, \"paper_bgcolor\": \"white\", \"plot_bgcolor\": \"#E5ECF6\", \"polar\": {\"angularaxis\": {\"gridcolor\": \"white\", \"linecolor\": \"white\", \"ticks\": \"\"}, \"bgcolor\": \"#E5ECF6\", \"radialaxis\": {\"gridcolor\": \"white\", \"linecolor\": \"white\", \"ticks\": \"\"}}, \"scene\": {\"xaxis\": {\"backgroundcolor\": \"#E5ECF6\", \"gridcolor\": \"white\", \"gridwidth\": 2, \"linecolor\": \"white\", \"showbackground\": true, \"ticks\": \"\", \"zerolinecolor\": \"white\"}, \"yaxis\": {\"backgroundcolor\": \"#E5ECF6\", \"gridcolor\": \"white\", \"gridwidth\": 2, \"linecolor\": \"white\", \"showbackground\": true, \"ticks\": \"\", \"zerolinecolor\": \"white\"}, \"zaxis\": {\"backgroundcolor\": \"#E5ECF6\", \"gridcolor\": \"white\", \"gridwidth\": 2, \"linecolor\": \"white\", \"showbackground\": true, \"ticks\": \"\", \"zerolinecolor\": \"white\"}}, \"shapedefaults\": {\"line\": {\"color\": \"#2a3f5f\"}}, \"ternary\": {\"aaxis\": {\"gridcolor\": \"white\", \"linecolor\": \"white\", \"ticks\": \"\"}, \"baxis\": {\"gridcolor\": \"white\", \"linecolor\": \"white\", \"ticks\": \"\"}, \"bgcolor\": \"#E5ECF6\", \"caxis\": {\"gridcolor\": \"white\", \"linecolor\": \"white\", \"ticks\": \"\"}}, \"title\": {\"x\": 0.05}, \"xaxis\": {\"automargin\": true, \"gridcolor\": \"white\", \"linecolor\": \"white\", \"ticks\": \"\", \"title\": {\"standoff\": 15}, \"zerolinecolor\": \"white\", \"zerolinewidth\": 2}, \"yaxis\": {\"automargin\": true, \"gridcolor\": \"white\", \"linecolor\": \"white\", \"ticks\": \"\", \"title\": {\"standoff\": 15}, \"zerolinecolor\": \"white\", \"zerolinewidth\": 2}}}},\n",
              "                        {\"responsive\": true}\n",
              "                    ).then(function(){\n",
              "                            \n",
              "var gd = document.getElementById('9fd1b753-5dba-4429-955b-8fd9bb4c06bf');\n",
              "var x = new MutationObserver(function (mutations, observer) {{\n",
              "        var display = window.getComputedStyle(gd).display;\n",
              "        if (!display || display === 'none') {{\n",
              "            console.log([gd, 'removed!']);\n",
              "            Plotly.purge(gd);\n",
              "            observer.disconnect();\n",
              "        }}\n",
              "}});\n",
              "\n",
              "// Listen for the removal of the full notebook cells\n",
              "var notebookContainer = gd.closest('#notebook-container');\n",
              "if (notebookContainer) {{\n",
              "    x.observe(notebookContainer, {childList: true});\n",
              "}}\n",
              "\n",
              "// Listen for the clearing of the current output cell\n",
              "var outputEl = gd.closest('.output');\n",
              "if (outputEl) {{\n",
              "    x.observe(outputEl, {childList: true});\n",
              "}}\n",
              "\n",
              "                        })\n",
              "                };\n",
              "                \n",
              "            </script>\n",
              "        </div>\n",
              "</body>\n",
              "</html>"
            ]
          },
          "metadata": {}
        }
      ]
    }
  ]
}