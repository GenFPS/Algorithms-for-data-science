{
  "nbformat": 4,
  "nbformat_minor": 0,
  "metadata": {
    "colab": {
      "name": "TSP_realization.ipynb",
      "provenance": [],
      "toc_visible": true,
      "authorship_tag": "ABX9TyNx1+76vpkBTIt6ZKblMBWE",
      "include_colab_link": true
    },
    "kernelspec": {
      "name": "python3",
      "display_name": "Python 3"
    },
    "language_info": {
      "name": "python"
    }
  },
  "cells": [
    {
      "cell_type": "markdown",
      "metadata": {
        "id": "view-in-github",
        "colab_type": "text"
      },
      "source": [
        "<a href=\"https://colab.research.google.com/github/GenFPS/Algorithms-for-data-science/blob/main/TSP_realization.ipynb\" target=\"_parent\"><img src=\"https://colab.research.google.com/assets/colab-badge.svg\" alt=\"Open In Colab\"/></a>"
      ]
    },
    {
      "cell_type": "markdown",
      "source": [
        "# ACO TSP"
      ],
      "metadata": {
        "id": "LSrN8U5U4ibQ"
      }
    },
    {
      "cell_type": "code",
      "source": [
        "import numpy as np\n",
        "import random as rd\n",
        "import time"
      ],
      "metadata": {
        "id": "5RD4RLNu8ZC_"
      },
      "execution_count": null,
      "outputs": []
    },
    {
      "cell_type": "markdown",
      "source": [
        "Для 5 городов"
      ],
      "metadata": {
        "id": "hxWE-gs38sV5"
      }
    },
    {
      "cell_type": "code",
      "source": [
        "def lengthCal(antPath, distance_matrix_5):         # Рассчитать расстояние\n",
        "    length =[]\n",
        "    dis = 0\n",
        "    for i in range(len(antPath)):\n",
        "        for j in range(len(antPath[i]) - 1):\n",
        "            dis += distance_matrix_5[antPath[i][j]][antPath[i][j + 1]]\n",
        "        dis += distance_matrix_5[antPath[i][-1]][antPath[i][0]]\n",
        "        length.append(dis)\n",
        "        dis = 0\n",
        "    return length\n",
        "\n",
        "distance_matrix_5 = np.array([[0, 38, 74, 59, 45],\n",
        "                            [38, 0, 46, 61, 72],\n",
        "                            [74, 46, 0, 49, 85],\n",
        "                            [59, 61, 49, 0, 42],\n",
        "                            [45, 72, 85, 42, 0]])\n",
        "\n",
        "antNum = 2                   # кол-во муравьев\n",
        "alpha = 1                     # Фактор важности феромона\n",
        "beta = 4                      # Фактор важности эвристической функции\n",
        "pheEvaRate = 0.1              # Скорость испарения феромона\n",
        "cityNum = distance_matrix_5.shape[0]\n",
        "pheromone = np.ones((cityNum, cityNum))                   # Матрица феромонов\n",
        "heuristic = 1 / (np.eye(cityNum) + distance_matrix_5) - np.eye(cityNum)       # Матрица эвристической информации\n",
        "iter,itermax = 1, 100                       # Итерации\n",
        "\n",
        "start_time = time.time()\n",
        "\n",
        "while iter < itermax:\n",
        "    antPath = np.zeros((antNum, cityNum)).astype(int) - 1   # Путь муравья\n",
        "    firstCity = [i for i in range(5)]\n",
        "    rd.shuffle(firstCity)          # Случайно назначьте начальный город для каждого муравья\n",
        "    unvisted = []\n",
        "    p = []\n",
        "    pAccum = 0\n",
        "    for i in range(len(antPath)):\n",
        "        antPath[i][0] = firstCity[i]\n",
        "    for i in range(len(antPath[0]) - 1): # Постепенное обновление следующего города, в который собирается каждый муравей\n",
        "        for j in range(len(antPath)):\n",
        "            for k in range(cityNum):\n",
        "                if k not in antPath[j]:\n",
        "                    unvisted.append(k)\n",
        "            for m in unvisted:\n",
        "                pAccum += pheromone[antPath[j][i]][m] ** alpha * heuristic[antPath[j][i]][m] ** beta\n",
        "            for n in unvisted:\n",
        "                p.append(pheromone[antPath[j][i]][n] ** alpha * heuristic[antPath[j][i]][n] ** beta / pAccum)\n",
        "            roulette = np.array(p).cumsum()               # Создать рулетку\n",
        "            r = rd.uniform(min(roulette), max(roulette))\n",
        "            for x in range(len(roulette)):\n",
        "                if roulette[x] >= r:                      # Используйте метод рулетки, чтобы выбрать следующий город\n",
        "                    antPath[j][i + 1] = unvisted[x]\n",
        "                    break\n",
        "            unvisted = []\n",
        "            p = []\n",
        "            pAccum = 0\n",
        "    pheromone = (1 - pheEvaRate) * pheromone            # Феромон летучий\n",
        "    length = lengthCal(antPath, distance_matrix_5)\n",
        "    for i in range(len(antPath)):\n",
        "        for j in range(len(antPath[i]) - 1):\n",
        "            pheromone[antPath[i][j]][antPath[i][j + 1]] += 1 / length[i]     # Обновление феромона\n",
        "        pheromone[antPath[i][-1]][antPath[i][0]] += 1 / length[i]\n",
        "    iter += 1\n",
        "\n",
        "print(\"Кратчайшее расстояние (в км): \")\n",
        "print(min(length))\n",
        "print(\"Самый короткий путь:\")\n",
        "print(antPath[length.index(min(length))])\n",
        "print(\"Время выполнения:\", (time.time() - start_time)) # вычисление времени выполнения"
      ],
      "metadata": {
        "colab": {
          "base_uri": "https://localhost:8080/"
        },
        "id": "tkDbp9uh8mQ6",
        "outputId": "dceb336b-5db3-4ff5-89a4-c9d621796adb"
      },
      "execution_count": null,
      "outputs": [
        {
          "output_type": "stream",
          "name": "stdout",
          "text": [
            "Кратчайшее расстояние (в км): \n",
            "220\n",
            "Самый короткий путь:\n",
            "[1 2 3 4 0]\n",
            "Время выполнения: 0.04230928421020508\n"
          ]
        }
      ]
    },
    {
      "cell_type": "markdown",
      "source": [
        "Для 8 городов"
      ],
      "metadata": {
        "id": "dyP-kj6r8xeP"
      }
    },
    {
      "cell_type": "code",
      "source": [
        "def lengthCal(antPath, distance_matrix_8):         # Рассчитать расстояние\n",
        "    length =[]\n",
        "    dis = 0\n",
        "    for i in range(len(antPath)):\n",
        "        for j in range(len(antPath[i]) - 1):\n",
        "            dis += distance_matrix_8[antPath[i][j]][antPath[i][j + 1]]\n",
        "        dis += distance_matrix_8[antPath[i][-1]][antPath[i][0]]\n",
        "        length.append(dis)\n",
        "        dis = 0\n",
        "    return length\n",
        "\n",
        "\n",
        "distance_matrix_8 = np.array([[0, 38, 74, 59, 45, 47, 90, 25],\n",
        "                               [38, 0, 46, 61, 72, 50, 43, 51],\n",
        "                               [74, 46, 0, 49, 85, 54, 59, 69],\n",
        "                               [59, 61, 49, 0, 42, 35, 47, 56],\n",
        "                               [45, 72, 85, 42, 0, 35, 47, 56],\n",
        "                               [47, 50, 54, 35, 66, 0, 36, 44],\n",
        "                               [90, 43, 59, 47, 35, 36, 0, 56],\n",
        "                               [25, 51, 69, 56, 48, 44, 56, 0]])\n",
        "\n",
        "\n",
        "antNum = 8                    # кол-во муравьев\n",
        "alpha = 1                     # Фактор важности феромона\n",
        "beta = 4                      # Фактор важности эвристической функции\n",
        "pheEvaRate = 0.1              # Скорость испарения феромона\n",
        "cityNum = distance_matrix_8.shape[0]\n",
        "pheromone = np.ones((cityNum, cityNum))                   # Матрица феромонов\n",
        "heuristic = 1 / (np.eye(cityNum) + distance_matrix_8) - np.eye(cityNum)       # Матрица эвристической информации\n",
        "iter,itermax = 1, 100                       # Итерации\n",
        "\n",
        "start_time = time.time()\n",
        "\n",
        "while iter < itermax:\n",
        "    antPath = np.zeros((antNum, cityNum)).astype(int) - 1   # Путь муравья\n",
        "    firstCity = [i for i in range(8)]\n",
        "    rd.shuffle(firstCity)          # Случайно назначьте начальный город для каждого муравья\n",
        "    unvisted = []\n",
        "    p = []\n",
        "    pAccum = 0\n",
        "    for i in range(len(antPath)):\n",
        "        antPath[i][0] = firstCity[i]\n",
        "    for i in range(len(antPath[0]) - 1):       # Постепенное обновление следующего города, в который собирается каждый муравей\n",
        "        for j in range(len(antPath)):\n",
        "            for k in range(cityNum):\n",
        "                if k not in antPath[j]:\n",
        "                    unvisted.append(k)\n",
        "            for m in unvisted:\n",
        "                pAccum += pheromone[antPath[j][i]][m] ** alpha * heuristic[antPath[j][i]][m] ** beta\n",
        "            for n in unvisted:\n",
        "                p.append(pheromone[antPath[j][i]][n] ** alpha * heuristic[antPath[j][i]][n] ** beta / pAccum)\n",
        "            roulette = np.array(p).cumsum()               # Создать рулетку\n",
        "            r = rd.uniform(min(roulette), max(roulette))\n",
        "            for x in range(len(roulette)):\n",
        "                if roulette[x] >= r:                      # Используйте метод рулетки, чтобы выбрать следующий город\n",
        "                    antPath[j][i + 1] = unvisted[x]\n",
        "                    break\n",
        "            unvisted = []\n",
        "            p = []\n",
        "            pAccum = 0\n",
        "    pheromone = (1 - pheEvaRate) * pheromone            # Феромон летучий\n",
        "    length = lengthCal(antPath, distance_matrix_8)\n",
        "    for i in range(len(antPath)):\n",
        "        for j in range(len(antPath[i]) - 1):\n",
        "            pheromone[antPath[i][j]][antPath[i][j + 1]] += 1 / length[i]     # Обновление феромона\n",
        "        pheromone[antPath[i][-1]][antPath[i][0]] += 1 / length[i]\n",
        "    iter += 1\n",
        "print(\"Кратчайшее расстояние (в км): \")\n",
        "print(min(length))\n",
        "print(\"Самый короткий путь:\")\n",
        "print(antPath[length.index(min(length))])\n",
        "print(\"Время выполнения:\", (time.time() - start_time)) # вычисление времени выполнения"
      ],
      "metadata": {
        "colab": {
          "base_uri": "https://localhost:8080/"
        },
        "id": "S14rQPaq81fo",
        "outputId": "4a1a7a07-4da6-4f15-f8ac-523daf307b61"
      },
      "execution_count": null,
      "outputs": [
        {
          "output_type": "stream",
          "name": "stdout",
          "text": [
            "Кратчайшее расстояние (в км): \n",
            "332\n",
            "Самый короткий путь:\n",
            "[0 7 4 5 3 2 6 1]\n",
            "Время выполнения: 0.3322625160217285\n"
          ]
        }
      ]
    },
    {
      "cell_type": "markdown",
      "source": [
        "Для 10 городов"
      ],
      "metadata": {
        "id": "HwH5SKSY89BV"
      }
    },
    {
      "cell_type": "code",
      "source": [
        "def lengthCal(antPath, distance_matrix_10):         # Рассчитать расстояние\n",
        "    length =[]\n",
        "    dis = 0\n",
        "    for i in range(len(antPath)):\n",
        "        for j in range(len(antPath[i]) - 1):\n",
        "            dis += distance_matrix_10[antPath[i][j]][antPath[i][j + 1]]\n",
        "        dis += distance_matrix_10[antPath[i][-1]][antPath[i][0]]\n",
        "        length.append(dis)\n",
        "        dis = 0\n",
        "    return length\n",
        "\n",
        "distance_matrix_10 = np.array([[0, 38, 74, 59, 45, 47, 90, 25, 67, 84],\n",
        "                               [38, 0, 46, 61, 72, 50, 43, 51, 62, 45],\n",
        "                               [74, 46, 0, 49, 85, 54, 59, 69, 40, 44],\n",
        "                               [59, 61, 49, 0, 42, 35, 47, 56, 24, 35],\n",
        "                               [45, 72, 85, 42, 0, 35, 47, 56, 24, 50],\n",
        "                               [47, 50, 54, 35, 66, 0, 36, 44, 37, 80],\n",
        "                               [90, 43, 59, 47, 35, 36, 0, 56, 63, 51],\n",
        "                               [25, 51, 69, 56, 48, 44, 56, 0, 71, 60],\n",
        "                               [67, 62, 70, 24, 45, 37, 63, 71, 0, 18],\n",
        "                               [84, 45, 44, 35, 50, 80, 51, 60, 18, 0]])\n",
        "\n",
        "\n",
        "antNum = 10                   # кол-во муравьев\n",
        "alpha = 1                     # Фактор важности феромона\n",
        "beta = 4                      # Фактор важности эвристической функции\n",
        "pheEvaRate = 0.1              # Скорость испарения феромона\n",
        "cityNum = distance_matrix_10.shape[0]\n",
        "pheromone = np.ones((cityNum, cityNum))                   # Матрица феромонов\n",
        "heuristic = 1 / (np.eye(cityNum) + distance_matrix_10) - np.eye(cityNum)       # Матрица эвристической информации\n",
        "iter,itermax = 1, 100                       # Итерации\n",
        "\n",
        "start_time = time.time()\n",
        "\n",
        "while iter < itermax:\n",
        "    antPath = np.zeros((antNum, cityNum)).astype(int) - 1   # Путь муравья\n",
        "    firstCity = [i for i in range(10)]\n",
        "    rd.shuffle(firstCity)          # Случайно назначьте начальный город для каждого муравья\n",
        "    unvisted = []\n",
        "    p = []\n",
        "    pAccum = 0\n",
        "    for i in range(len(antPath)):\n",
        "        antPath[i][0] = firstCity[i]\n",
        "    for i in range(len(antPath[0]) - 1):       # Постепенное обновление следующего города, в который собирается каждый муравей\n",
        "        for j in range(len(antPath)):\n",
        "            for k in range(cityNum):\n",
        "                if k not in antPath[j]:\n",
        "                    unvisted.append(k)\n",
        "            for m in unvisted:\n",
        "                pAccum += pheromone[antPath[j][i]][m] ** alpha * heuristic[antPath[j][i]][m] ** beta\n",
        "            for n in unvisted:\n",
        "                p.append(pheromone[antPath[j][i]][n] ** alpha * heuristic[antPath[j][i]][n] ** beta / pAccum)\n",
        "            roulette = np.array(p).cumsum()               # Создать рулетку\n",
        "            r = rd.uniform(min(roulette), max(roulette))\n",
        "            for x in range(len(roulette)):\n",
        "                if roulette[x] >= r:                      # Используйте метод рулетки, чтобы выбрать следующий город\n",
        "                    antPath[j][i + 1] = unvisted[x]\n",
        "                    break\n",
        "            unvisted = []\n",
        "            p = []\n",
        "            pAccum = 0\n",
        "    pheromone = (1 - pheEvaRate) * pheromone            # Феромон летучий\n",
        "    length = lengthCal(antPath, distance_matrix_10)\n",
        "    for i in range(len(antPath)):\n",
        "        for j in range(len(antPath[i]) - 1):\n",
        "            pheromone[antPath[i][j]][antPath[i][j + 1]] += 1 / length[i]     # Обновление феромона\n",
        "        pheromone[antPath[i][-1]][antPath[i][0]] += 1 / length[i]\n",
        "    iter += 1\n",
        "print(\"Кратчайшее расстояние (в км): \")\n",
        "print(min(length))\n",
        "print(\"Самый короткий путь:\")\n",
        "print(antPath[length.index(min(length))])\n",
        "print(\"Время выполнения:\", (time.time() - start_time)) # вычисление времени выполнения"
      ],
      "metadata": {
        "colab": {
          "base_uri": "https://localhost:8080/"
        },
        "id": "eeGM5Mpf9B6F",
        "outputId": "c79dc979-099b-4ff4-929e-8a51d02a41f5"
      },
      "execution_count": null,
      "outputs": [
        {
          "output_type": "stream",
          "name": "stdout",
          "text": [
            "Кратчайшее расстояние (в км): \n",
            "350\n",
            "Самый короткий путь:\n",
            "[7 5 6 4 8 9 3 2 1 0]\n",
            "Время выполнения: 0.6419622898101807\n"
          ]
        }
      ]
    },
    {
      "cell_type": "markdown",
      "source": [
        "# Метод полного перебора"
      ],
      "metadata": {
        "id": "S9BtplUd8Pha"
      }
    },
    {
      "cell_type": "code",
      "source": [
        "pip install python-tsp"
      ],
      "metadata": {
        "id": "4UK_O1_17Wcj"
      },
      "execution_count": null,
      "outputs": []
    },
    {
      "cell_type": "code",
      "source": [
        "from python_tsp.exact import solve_tsp_brute_force  # используем точный метод полного перебора\n"
      ],
      "metadata": {
        "id": "sHMYqj1962gL"
      },
      "execution_count": null,
      "outputs": []
    },
    {
      "cell_type": "markdown",
      "source": [
        "Для 5 городов"
      ],
      "metadata": {
        "id": "04u0J3wg7nSe"
      }
    },
    {
      "cell_type": "code",
      "source": [
        "distance_matrix_5 = np.array([[0, 38, 74, 59, 45],\n",
        "                            [38, 0, 46, 61, 72],\n",
        "                            [74, 46, 0, 49, 85],\n",
        "                            [59, 61, 49, 0, 42],\n",
        "                            [45, 72, 85, 42, 0]])\n",
        "\n",
        "start_time = time.time()\n",
        "\n",
        "path, distance = solve_tsp_brute_force(distance_matrix_5)\n",
        "\n",
        "print(\"Кратчайшее расстояние (в км): \")\n",
        "print(distance)\n",
        "\n",
        "print(\"Самый короткий путь:\")\n",
        "print(path)\n",
        "\n",
        "print(\"Время выполнения:\")\n",
        "print((time.time() - start_time))"
      ],
      "metadata": {
        "colab": {
          "base_uri": "https://localhost:8080/"
        },
        "id": "a5RDgDVq7dwV",
        "outputId": "32895a57-160a-404c-a55d-53bf91ac107d"
      },
      "execution_count": null,
      "outputs": [
        {
          "output_type": "stream",
          "name": "stdout",
          "text": [
            "Кратчайшее расстояние (в км): \n",
            "220\n",
            "Самый короткий путь:\n",
            "[0, 1, 2, 3, 4]\n",
            "Время выполнения:\n",
            "0.006056308746337891\n"
          ]
        }
      ]
    },
    {
      "cell_type": "markdown",
      "source": [
        "Для 8 городов"
      ],
      "metadata": {
        "id": "T7t5AAa37qNA"
      }
    },
    {
      "cell_type": "code",
      "source": [
        "distance_matrix_8 = np.array([[0, 38, 74, 59, 45, 47, 90, 25],\n",
        "                               [38, 0, 46, 61, 72, 50, 43, 51],\n",
        "                               [74, 46, 0, 49, 85, 54, 59, 69],\n",
        "                               [59, 61, 49, 0, 42, 35, 47, 56],\n",
        "                               [45, 72, 85, 42, 0, 35, 47, 56],\n",
        "                               [47, 50, 54, 35, 66, 0, 36, 44],\n",
        "                               [90, 43, 59, 47, 35, 36, 0, 56],\n",
        "                               [25, 51, 69, 56, 48, 44, 56, 0]])\n",
        "start_time = time.time()\n",
        "\n",
        "path, distance = solve_tsp_brute_force(distance_matrix_8)\n",
        "\n",
        "print(\"Кратчайшее расстояние (в км): \")\n",
        "print(distance)\n",
        "\n",
        "print(\"Самый короткий путь:\")\n",
        "print(path)\n",
        "\n",
        "print(\"Время выполнения:\")\n",
        "print((time.time() - start_time))"
      ],
      "metadata": {
        "colab": {
          "base_uri": "https://localhost:8080/"
        },
        "id": "S2yvJ8wM7mRR",
        "outputId": "51d3c4d2-87ff-454f-a842-c1e916eac311"
      },
      "execution_count": null,
      "outputs": [
        {
          "output_type": "stream",
          "name": "stdout",
          "text": [
            "Кратчайшее расстояние (в км): \n",
            "315\n",
            "Самый короткий путь:\n",
            "[0, 7, 5, 6, 4, 3, 2, 1]\n",
            "Время выполнения:\n",
            "0.04943132400512695\n"
          ]
        }
      ]
    },
    {
      "cell_type": "markdown",
      "source": [
        "Для 10 городов"
      ],
      "metadata": {
        "id": "SUa5pFsn71IY"
      }
    },
    {
      "cell_type": "code",
      "source": [
        "distance_matrix_10 = np.array([[0, 38, 74, 59, 45, 47, 90, 25, 67, 84],\n",
        "                               [38, 0, 46, 61, 72, 50, 43, 51, 62, 45],\n",
        "                               [74, 46, 0, 49, 85, 54, 59, 69, 40, 44],\n",
        "                               [59, 61, 49, 0, 42, 35, 47, 56, 24, 35],\n",
        "                               [45, 72, 85, 42, 0, 35, 47, 56, 24, 50],\n",
        "                               [47, 50, 54, 35, 66, 0, 36, 44, 37, 80],\n",
        "                               [90, 43, 59, 47, 35, 36, 0, 56, 63, 51],\n",
        "                               [25, 51, 69, 56, 48, 44, 56, 0, 71, 60],\n",
        "                               [67, 62, 70, 24, 45, 37, 63, 71, 0, 18],\n",
        "                               [84, 45, 44, 35, 50, 80, 51, 60, 18, 0]])\n",
        "start_time = time.time()\n",
        "\n",
        "path, distance = solve_tsp_brute_force(distance_matrix_10)\n",
        "\n",
        "print(\"Кратчайшее расстояние (в км): \")\n",
        "print(distance)\n",
        "\n",
        "print(\"Самый короткий путь:\")\n",
        "print(path)\n",
        "\n",
        "print(\"Время выполнения:\")\n",
        "print((time.time() - start_time))"
      ],
      "metadata": {
        "colab": {
          "base_uri": "https://localhost:8080/"
        },
        "id": "JS2RcI7B73B2",
        "outputId": "8e23904a-2b49-43e1-d2fb-120bf5749bdb"
      },
      "execution_count": null,
      "outputs": [
        {
          "output_type": "stream",
          "name": "stdout",
          "text": [
            "Кратчайшее расстояние (в км): \n",
            "350\n",
            "Самый короткий путь:\n",
            "[0, 7, 5, 6, 4, 8, 9, 3, 2, 1]\n",
            "Время выполнения:\n",
            "2.8411338329315186\n"
          ]
        }
      ]
    }
  ]
}